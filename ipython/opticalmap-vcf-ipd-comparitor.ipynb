{
 "cells": [
  {
   "cell_type": "code",
   "execution_count": 13,
   "metadata": {
    "collapsed": true
   },
   "outputs": [],
   "source": [
    "% run ./ipy_setup.py\n",
    "% matplotlib inline\n",
    "import pysam"
   ]
  },
  {
   "cell_type": "code",
   "execution_count": 4,
   "metadata": {
    "collapsed": true
   },
   "outputs": [],
   "source": [
    "opticalmap = pd.read_csv('/hpc/users/neffr01/2work/alex_na24385_phasing/hmap_combine/alex_merged_hapinform_000000F.txt', sep=' ', \n",
    "                         header=None)\n",
    "opticalmap.sort(columns=5, inplace=True)"
   ]
  },
  {
   "cell_type": "code",
   "execution_count": 30,
   "metadata": {
    "collapsed": false,
    "scrolled": true
   },
   "outputs": [
    {
     "data": {
      "text/plain": [
       "{3366531,\n",
       " 3889116,\n",
       " 4207133,\n",
       " 4425218,\n",
       " 4487852,\n",
       " 4702639,\n",
       " 5045343,\n",
       " 5583143,\n",
       " 5680200,\n",
       " 5768307,\n",
       " 5833916,\n",
       " 6155226,\n",
       " 6156314,\n",
       " 6570993,\n",
       " 6639583,\n",
       " 6767351,\n",
       " 7068928,\n",
       " 7305328,\n",
       " 7518309,\n",
       " 7519511,\n",
       " 7602559,\n",
       " 7702805,\n",
       " 7954498,\n",
       " 8165876,\n",
       " 8379084,\n",
       " 8380364,\n",
       " 8543489,\n",
       " 9099398,\n",
       " 10285036,\n",
       " 10767843,\n",
       " 10822262,\n",
       " 11357859,\n",
       " 11535218,\n",
       " 11687657,\n",
       " 12308506,\n",
       " 12514736,\n",
       " 12903461,\n",
       " 13030317,\n",
       " 13472377,\n",
       " 13571579,\n",
       " 13929459,\n",
       " 14271488,\n",
       " 14508482,\n",
       " 14982344,\n",
       " 15416851,\n",
       " 16528454,\n",
       " 16975566,\n",
       " 17131635,\n",
       " 17131656,\n",
       " 17277992,\n",
       " 17459946,\n",
       " 17661507,\n",
       " 17894890,\n",
       " 17960782,\n",
       " 18581522,\n",
       " 19136557,\n",
       " 20715234,\n",
       " 20715942,\n",
       " 20802007,\n",
       " 20842429,\n",
       " 21185532,\n",
       " 21482025,\n",
       " 21611092,\n",
       " 22128495,\n",
       " 22747901,\n",
       " 22764384,\n",
       " 22807060,\n",
       " 23445922,\n",
       " 24994218,\n",
       " 26695714,\n",
       " 27981178,\n",
       " 27982485,\n",
       " 28325028,\n",
       " 28925872,\n",
       " 29325841,\n",
       " 29327157,\n",
       " 29869010,\n",
       " 31716937,\n",
       " 31981142,\n",
       " 32232474,\n",
       " 32643115,\n",
       " 32652723,\n",
       " 32804199}"
      ]
     },
     "execution_count": 30,
     "metadata": {},
     "output_type": "execute_result"
    }
   ],
   "source": [
    "set(opticalmap[5].astype(int))\n"
   ]
  },
  {
   "cell_type": "code",
   "execution_count": 31,
   "metadata": {
    "collapsed": false
   },
   "outputs": [],
   "source": [
    "vcf_file = \"/hpc/users/neffr01/jason_new/hapcut_outputs/hg002_re_000000F/hg002_long_short_merged_fb_ug.vcf.gz\"\n",
    "vcfr = pysam.TabixFile(vcf_file, 'r')"
   ]
  },
  {
   "cell_type": "code",
   "execution_count": 32,
   "metadata": {
    "collapsed": false
   },
   "outputs": [],
   "source": [
    "out_fp = open(\"/hpc/users/neffr01/2work/alex_na24385_phasing/hg002_snps_opticalmap_matches_2_000000F.vcf\", 'w')\n",
    "for k,i in opticalmap.iterrows():\n",
    "    pos = int(i[5])\n",
    "    for i in vcfr.fetch(reference=\"000000F\", start=pos-7, end=pos+7):\n",
    "        out_fp.write(str(i) + \"\\n\")\n",
    "out_fp.close()"
   ]
  }
 ],
 "metadata": {
  "kernelspec": {
   "display_name": "Python 2",
   "language": "python",
   "name": "python2"
  },
  "language_info": {
   "codemirror_mode": {
    "name": "ipython",
    "version": 2
   },
   "file_extension": ".py",
   "mimetype": "text/x-python",
   "name": "python",
   "nbconvert_exporter": "python",
   "pygments_lexer": "ipython2",
   "version": "2.7.10"
  }
 },
 "nbformat": 4,
 "nbformat_minor": 0
}
