{
 "cells": [
  {
   "cell_type": "code",
   "execution_count": 1,
   "metadata": {
    "collapsed": false
   },
   "outputs": [
    {
     "name": "stdout",
     "output_type": "stream",
     "text": [
      "interactive2\r\n"
     ]
    }
   ],
   "source": [
    "!hostname"
   ]
  },
  {
   "cell_type": "code",
   "execution_count": 3,
   "metadata": {
    "collapsed": false
   },
   "outputs": [
    {
     "ename": "IOError",
     "evalue": "file `` not found",
     "output_type": "error",
     "traceback": [
      "\u001b[1;31m---------------------------------------------------------------------------\u001b[0m",
      "\u001b[1;31mIOError\u001b[0m                                   Traceback (most recent call last)",
      "\u001b[1;32m/sc/orga/work/neffr01/documents/scripts/greedy_partitioner.py\u001b[0m in \u001b[0;36m<module>\u001b[1;34m()\u001b[0m\n\u001b[0;32m    464\u001b[0m \u001b[1;31m# run the program if called from the command line\u001b[0m\u001b[1;33m\u001b[0m\u001b[1;33m\u001b[0m\u001b[0m\n\u001b[0;32m    465\u001b[0m \u001b[1;32mif\u001b[0m \u001b[0m__name__\u001b[0m \u001b[1;33m==\u001b[0m \u001b[1;34m\"__main__\"\u001b[0m\u001b[1;33m:\u001b[0m\u001b[1;33m\u001b[0m\u001b[0m\n\u001b[1;32m--> 466\u001b[1;33m    \u001b[0mmain\u001b[0m\u001b[1;33m(\u001b[0m\u001b[0msys\u001b[0m\u001b[1;33m.\u001b[0m\u001b[0margv\u001b[0m\u001b[1;33m[\u001b[0m\u001b[1;36m1\u001b[0m\u001b[1;33m:\u001b[0m\u001b[1;33m]\u001b[0m\u001b[1;33m)\u001b[0m\u001b[1;33m\u001b[0m\u001b[0m\n\u001b[0m\u001b[0;32m    467\u001b[0m \u001b[1;33m\u001b[0m\u001b[0m\n",
      "\u001b[1;32m/sc/orga/work/neffr01/documents/scripts/greedy_partitioner.py\u001b[0m in \u001b[0;36mmain\u001b[1;34m(argv)\u001b[0m\n\u001b[0;32m     37\u001b[0m             \u001b[1;32massert\u001b[0m \u001b[0mFalse\u001b[0m\u001b[1;33m,\u001b[0m \u001b[1;34m\"unhandled option\"\u001b[0m\u001b[1;33m\u001b[0m\u001b[0m\n\u001b[0;32m     38\u001b[0m \u001b[1;33m\u001b[0m\u001b[0m\n\u001b[1;32m---> 39\u001b[1;33m     \u001b[1;32massert\u001b[0m \u001b[0mpysam\u001b[0m\u001b[1;33m.\u001b[0m\u001b[0mSamfile\u001b[0m\u001b[1;33m(\u001b[0m\u001b[0mbam_file\u001b[0m\u001b[1;33m,\u001b[0m \u001b[1;34m'rb'\u001b[0m\u001b[1;33m)\u001b[0m\u001b[1;33m,\u001b[0m \u001b[1;34m'ERROR: Cannot open bam file for reading.'\u001b[0m\u001b[1;33m\u001b[0m\u001b[0m\n\u001b[0m\u001b[0;32m     40\u001b[0m     \u001b[1;32massert\u001b[0m \u001b[0mopen\u001b[0m\u001b[1;33m(\u001b[0m\u001b[0mbam_file\u001b[0m \u001b[1;33m+\u001b[0m \u001b[1;34m'.bai'\u001b[0m\u001b[1;33m,\u001b[0m \u001b[1;34m'rb'\u001b[0m\u001b[1;33m)\u001b[0m\u001b[1;33m,\u001b[0m \u001b[1;34m'ERROR: bam file is not indexed!'\u001b[0m\u001b[1;33m\u001b[0m\u001b[0m\n\u001b[0;32m     41\u001b[0m     \u001b[0mbam_fp\u001b[0m \u001b[1;33m=\u001b[0m \u001b[0mpysam\u001b[0m\u001b[1;33m.\u001b[0m\u001b[0mSamfile\u001b[0m\u001b[1;33m(\u001b[0m\u001b[0mbam_file\u001b[0m\u001b[1;33m,\u001b[0m \u001b[1;34m'rb'\u001b[0m\u001b[1;33m)\u001b[0m\u001b[1;33m\u001b[0m\u001b[0m\n",
      "\u001b[1;32mpysam/calignmentfile.pyx\u001b[0m in \u001b[0;36mpysam.calignmentfile.AlignmentFile.__cinit__ (pysam/calignmentfile.c:4943)\u001b[1;34m()\u001b[0m\n",
      "\u001b[1;32mpysam/calignmentfile.pyx\u001b[0m in \u001b[0;36mpysam.calignmentfile.AlignmentFile._open (pysam/calignmentfile.c:6923)\u001b[1;34m()\u001b[0m\n",
      "\u001b[1;31mIOError\u001b[0m: file `` not found"
     ]
    }
   ],
   "source": [
    "%run ../scripts/greedy_partitioner.py"
   ]
  },
  {
   "cell_type": "code",
   "execution_count": 6,
   "metadata": {
    "collapsed": true
   },
   "outputs": [],
   "source": [
    "siteslist = []\n",
    "pbar = ProgressBar(61100)\n",
    "for line in open(\"/hpc/users/neffr01/jason_new/hapcut_outputs/truth_test_methyl_sig_sites.tsv\", 'r'):\n",
    "    pbar.animate()\n",
    "    chrom, pos, mean1, mean2 = line.strip('\\n').split(' ')\n",
    "    pos, mean1, mean2 = int(pos), float(mean1), float(mean2)\n",
    "    siteslist.append([chrom, pos, mean1, mean2])"
   ]
  },
  {
   "cell_type": "code",
   "execution_count": 8,
   "metadata": {
    "collapsed": false
   },
   "outputs": [
    {
     "data": {
      "text/plain": [
       "['000000F', 30161039, 2.69464089244, 3.48228381491]"
      ]
     },
     "execution_count": 8,
     "metadata": {},
     "output_type": "execute_result"
    }
   ],
   "source": [
    "siteslist[-1]"
   ]
  },
  {
   "cell_type": "code",
   "execution_count": 4,
   "metadata": {
    "collapsed": false
   },
   "outputs": [],
   "source": [
    "%run ipy_setup.py\n",
    "%matplotlib inline\n",
    "from sklearn import mixture\n",
    "import sklearn\n",
    "import pysam\n",
    "import math\n",
    "from IPython import display\n",
    "from sklearn.neighbors import KernelDensity\n",
    "from scipy.stats import gaussian_kde\n",
    "from statsmodels.nonparametric.kde import KDEUnivariate\n",
    "from statsmodels.nonparametric.kernel_density import KDEMultivariate\n",
    "from scipy import stats\n",
    "import itertools\n",
    "import matplotlib.gridspec as gridspec\n",
    "\n",
    "def kde_scipy(x, x_grid, bandwidth=0.2, **kwargs):\n",
    "    \"\"\"Kernel Density Estimation with Scipy\"\"\"\n",
    "    # Note that scipy weights its bandwidth by the covariance of the\n",
    "    # input data.  To make the results comparable to the other methods,\n",
    "    # we divide the bandwidth by the sample standard deviation here.\n",
    "    kde = gaussian_kde(x, bw_method=bandwidth / x.std(ddof=1), **kwargs)\n",
    "    return kde.evaluate(x_grid)\n",
    "\n",
    "pd.set_option('display.width', 900)\n",
    "pd.set_option('display.max_columns', 100)\n",
    "plt.style.use('ggplot')\n",
    "rcParams['figure.figsize'] = (12, 8)\n",
    "rcParams['figure.dpi'] = 150\n",
    "rcParams['font.size'] = 16\n",
    "rcParams['font.family'] = 'Bitstream Vera Sans'\n",
    "\n",
    "read_bpos = dict()\n",
    "\n",
    "def get_refmap(bamread):\n",
    "    bpos = bamread.get_aligned_pairs(matches_only=True)\n",
    "    positions = [i[0] for i in bpos]\n",
    "    refpos =  [i[1] for i in bpos] # positions in reference\n",
    "    refmap = dict(zip(refpos, positions))\n",
    "    return refmap\n",
    "\n",
    "def get_matched_bases_in_read(bamread, in_pos, refmap, read_bpos=read_bpos):\n",
    "    outseq = [bamread.seq[refmap[i]] if i in refmap else 'N' for i in in_pos]\n",
    "    outseq = ''.join(outseq)\n",
    "    return outseq\n",
    "\n",
    "def get_position_in_read(bamread, in_pos, refmap, read_bpos=read_bpos):\n",
    "    outpos = None\n",
    "    if in_pos in refmap:\n",
    "        outpos = refmap[in_pos]\n",
    "    return outpos\n",
    "\n",
    "def reverse_compl(seq):\n",
    "    translate = {'A':'T', \n",
    "                 'T':'A', \n",
    "                 'C':'G',\n",
    "                 'G':'C', \n",
    "                 'N':'N'}\n",
    "    return ''.join([translate[s] for s in seq])"
   ]
  },
  {
   "cell_type": "code",
   "execution_count": 5,
   "metadata": {
    "collapsed": false
   },
   "outputs": [
    {
     "name": "stdout",
     "output_type": "stream",
     "text": [
      "[*****************99%******************]  3170900 of 3201285 complete Elapsed: 1.7 minutes\t Remaining: 0.0 minutes\n"
     ]
    }
   ],
   "source": [
    "motifs_in = open('/hpc/users/neffr01/jason_new/hapcut_outputs/hg002_re_000000F/ipds/hg002_ipds_priors_merged_000000F.sort.dedup.tsv', 'rb')\n",
    "motif_dict = dict()\n",
    "pbar = ProgressBar(3201285)\n",
    "for line in motifs_in:\n",
    "    pbar.animate()\n",
    "    motif,data = line.strip('\\n').split('\\t')\n",
    "    motif_dict[motif] = data"
   ]
  },
  {
   "cell_type": "code",
   "execution_count": null,
   "metadata": {
    "collapsed": true
   },
   "outputs": [],
   "source": [
    "'''\n",
    "make a plot of sig sites across a block\n",
    "'''"
   ]
  },
  {
   "cell_type": "code",
   "execution_count": 14,
   "metadata": {
    "collapsed": false,
    "scrolled": true
   },
   "outputs": [
    {
     "name": "stdout",
     "output_type": "stream",
     "text": [
      "[                  1%                  ]  1585 of 170000 complete Elapsed: 3.0 minutes\t Remaining: 316.0 minutes"
     ]
    },
    {
     "ename": "KeyboardInterrupt",
     "evalue": "",
     "output_type": "error",
     "traceback": [
      "\u001b[1;31m---------------------------------------------------------------------------\u001b[0m",
      "\u001b[1;31mKeyboardInterrupt\u001b[0m                         Traceback (most recent call last)",
      "\u001b[1;32m<ipython-input-14-ae3eb924fac7>\u001b[0m in \u001b[0;36m<module>\u001b[1;34m()\u001b[0m\n\u001b[0;32m     16\u001b[0m     \u001b[0mpbar\u001b[0m\u001b[1;33m.\u001b[0m\u001b[0manimate\u001b[0m\u001b[1;33m(\u001b[0m\u001b[1;33m)\u001b[0m\u001b[1;33m\u001b[0m\u001b[0m\n\u001b[0;32m     17\u001b[0m     \u001b[0mrstart\u001b[0m\u001b[1;33m,\u001b[0m \u001b[0mrend\u001b[0m \u001b[1;33m=\u001b[0m \u001b[0mread\u001b[0m\u001b[1;33m.\u001b[0m\u001b[0mpos\u001b[0m\u001b[1;33m,\u001b[0m \u001b[0mread\u001b[0m\u001b[1;33m.\u001b[0m\u001b[0maend\u001b[0m\u001b[1;33m\u001b[0m\u001b[0m\n\u001b[1;32m---> 18\u001b[1;33m     \u001b[0msigoverlap\u001b[0m \u001b[1;33m=\u001b[0m \u001b[1;33m[\u001b[0m\u001b[0mi\u001b[0m \u001b[1;32mfor\u001b[0m \u001b[0mi\u001b[0m \u001b[1;32min\u001b[0m \u001b[0msiteslist\u001b[0m \u001b[1;32mif\u001b[0m \u001b[1;33m(\u001b[0m\u001b[0mi\u001b[0m\u001b[1;33m[\u001b[0m\u001b[1;36m1\u001b[0m\u001b[1;33m]\u001b[0m \u001b[1;33m<=\u001b[0m \u001b[0mrend\u001b[0m\u001b[1;33m)\u001b[0m \u001b[1;33m&\u001b[0m \u001b[1;33m(\u001b[0m\u001b[0mi\u001b[0m\u001b[1;33m[\u001b[0m\u001b[1;36m1\u001b[0m\u001b[1;33m]\u001b[0m \u001b[1;33m>=\u001b[0m \u001b[0mrstart\u001b[0m\u001b[1;33m)\u001b[0m\u001b[1;33m]\u001b[0m\u001b[1;33m\u001b[0m\u001b[0m\n\u001b[0m\u001b[0;32m     19\u001b[0m     \u001b[1;32mif\u001b[0m \u001b[0mlen\u001b[0m\u001b[1;33m(\u001b[0m\u001b[0msigoverlap\u001b[0m\u001b[1;33m)\u001b[0m \u001b[1;33m==\u001b[0m \u001b[1;36m0\u001b[0m\u001b[1;33m:\u001b[0m\u001b[1;33m\u001b[0m\u001b[0m\n\u001b[0;32m     20\u001b[0m         \u001b[1;32mcontinue\u001b[0m\u001b[1;33m\u001b[0m\u001b[0m\n",
      "\u001b[1;31mKeyboardInterrupt\u001b[0m: "
     ]
    }
   ],
   "source": [
    "siteslist = []\n",
    "pbar = ProgressBar(61100)\n",
    "for line in open(\"/hpc/users/neffr01/jason_new/hapcut_outputs/hg002_qv13_methyl_sig_sites-novariant-11mer.tsv\", 'r'):\n",
    "    pbar.animate()\n",
    "    chrom, pos, mean1, mean2 = line.strip('\\n').split(' ')\n",
    "    pos, mean1, mean2 = int(pos), float(mean1), float(mean2)\n",
    "    siteslist.append([chrom, pos, mean1, mean2])\n",
    "    \n",
    "bam_fp = pysam.AlignmentFile(\"/hpc/users/neffr01/jason_new/hapcut_outputs/hg002_re_000000F/hg002.000000F.het_sites_truth_partition_snps_only.bam\", \"rb\")\n",
    "#out_fp = pysam.AlignmentFile(\"~/jason_new/hapcut_outputs/hg002_re_000000F/hg002_methyl_phased-from-trio-data_000000F.bam\", 'wb')\n",
    "out_predict = open(\"/hpc/users/neffr01/jason_new/methyl_predict/hg002_methyl_denovo_vs_truth.tsv\", \"w\")\n",
    "predictions = []\n",
    "pbar = ProgressBar(170000)\n",
    "\n",
    "for read in bam_fp.fetch():\n",
    "    pbar.animate()\n",
    "    rstart, rend = read.pos, read.aend\n",
    "    sigoverlap = [i for i in siteslist if (i[1] <= rend) & (i[1] >= rstart)]\n",
    "    if len(sigoverlap) == 0:\n",
    "        continue\n",
    "    refmap = get_refmap(read)\n",
    "    ipd_values = [int(i) for i in read.get_tag('ip').strip('S').split(',')]\n",
    "    #hap = int(read.get_tag('ZH').split(\";\")[0].split(\",\")[1])\n",
    "    hap = read.get_tag('ZH')\n",
    "    pv = read.get_tag('ZV')\n",
    "    res = []\n",
    "    for row in sigoverlap:\n",
    "        refpos = row[1]\n",
    "        basepos = get_position_in_read(read, refpos, refmap)\n",
    "        if basepos==None: continue\n",
    "        ipd_value = np.log(ipd_values[basepos])\n",
    "        #motif = refseq[refpos-5-(rstart):refpos+6-rstart]\n",
    "        #ref_3mer = motif[4:7]\n",
    "        #read_3mer = get_matched_bases_in_read(read, range(refpos-1,refpos+2), refmap)\n",
    "        #if ref_3mer != read_3mer: continue\n",
    "        res.append([abs(row[2]-ipd_value), abs(row[3]-ipd_value)])\n",
    "    if res != []:\n",
    "        #print read.qname\n",
    "        hap1_res = sum([i[0] for i in res])\n",
    "        hap2_res = sum([i[1] for i in res])\n",
    "        predict_hap = None\n",
    "        if hap1_res > hap2_res:\n",
    "            predict_hap = 2\n",
    "        else:\n",
    "            predict_hap = 1\n",
    "        #print \"Predicted:\\t\", predict_hap, \"actual:\\t\", hap\n",
    "        predictions.append([predict_hap, hap, len(res), pv, hap1_res, hap2_res, read.alen])\n",
    "        print >>out_predict, predict_hap, hap, len(res), pv, hap1_res, hap2_res, read.alen\n",
    "        out_predict.flush()"
   ]
  },
  {
   "cell_type": "code",
   "execution_count": 247,
   "metadata": {
    "collapsed": false
   },
   "outputs": [
    {
     "name": "stdout",
     "output_type": "stream",
     "text": [
      "partition variants >= 0 prediction acc: 0.645 n= 445\n",
      "partition variants >= 1 prediction acc: 0.702 n= 205\n",
      "partition variants >= 2 prediction acc: 0.729 n= 133\n",
      "partition variants >= 3 prediction acc: 0.863 n= 51\n",
      "partition variants >= 4 prediction acc: 1.0 n= 23\n",
      "partition variants >= 5 prediction acc: 1.0 n= 14\n",
      "partition variants >= 6 prediction acc: 1.0 n= 8\n"
     ]
    },
    {
     "data": {
      "image/png": "[encoded data removed]",
      "text/plain": [
       "<matplotlib.figure.Figure at 0x7f11ead9b790>"
      ]
     },
     "metadata": {},
     "output_type": "display_data"
    }
   ],
   "source": [
    "rcParams['figure.figsize'] = (4, 4)\n",
    "rcParams['axes.titlesize'] = 12\n",
    "pltarr = []\n",
    "for var in range(0,10):\n",
    "    predcheck = [i for i in predictions if i[3] > var]\n",
    "    if len(predcheck) == 0:\n",
    "        break\n",
    "    acc = round(np.mean([1 if i[0] == i[1] else 0 for i in predcheck]), 3)\n",
    "    n = len(predcheck)\n",
    "    pltarr.append([var, acc, n])\n",
    "    print \"partition variants >=\", var, \"prediction acc:\", acc , \"n=\", n\n",
    "plt.title(\"Methyl partitioning accuracy by # of het variants in read\")\n",
    "plt.plot([i[0] for i in pltarr], [i[1] for i in pltarr])\n",
    "plt.ylim([0,1.1])\n",
    "plt.xlabel(\"# of het variants\", fontsize='small')\n",
    "plt.ylabel(\"Hap prediction accuracy\", fontsize='small')\n",
    "plt.show()"
   ]
  },
  {
   "cell_type": "code",
   "execution_count": 248,
   "metadata": {
    "collapsed": false
   },
   "outputs": [
    {
     "name": "stdout",
     "output_type": "stream",
     "text": [
      "partition variants >= 0 prediction acc: 0.645 n= 445\n",
      "partition variants >= 1000 prediction acc: 0.645 n= 439\n",
      "partition variants >= 2000 prediction acc: 0.639 n= 413\n",
      "partition variants >= 3000 prediction acc: 0.629 n= 388\n",
      "partition variants >= 4000 prediction acc: 0.615 n= 358\n",
      "partition variants >= 5000 prediction acc: 0.605 n= 332\n",
      "partition variants >= 6000 prediction acc: 0.601 n= 303\n",
      "partition variants >= 7000 prediction acc: 0.611 n= 270\n",
      "partition variants >= 8000 prediction acc: 0.618 n= 241\n",
      "partition variants >= 9000 prediction acc: 0.614 n= 215\n",
      "partition variants >= 10000 prediction acc: 0.608 n= 189\n",
      "partition variants >= 11000 prediction acc: 0.618 n= 152\n",
      "partition variants >= 12000 prediction acc: 0.589 n= 112\n",
      "partition variants >= 13000 prediction acc: 0.59 n= 83\n",
      "partition variants >= 14000 prediction acc: 0.689 n= 61\n",
      "partition variants >= 15000 prediction acc: 0.61 n= 41\n",
      "partition variants >= 16000 prediction acc: 0.652 n= 23\n",
      "partition variants >= 17000 prediction acc: 0.667 n= 18\n",
      "partition variants >= 18000 prediction acc: 0.615 n= 13\n",
      "partition variants >= 19000 prediction acc: 0.889 n= 9\n",
      "partition variants >= 20000 prediction acc: 0.75 n= 4\n",
      "partition variants >= 21000 prediction acc: 0.667 n= 3\n",
      "partition variants >= 22000 prediction acc: 0.667 n= 3\n",
      "partition variants >= 23000 prediction acc: 0.0 n= 1\n",
      "partition variants >= 24000 prediction acc: 0.0 n= 1\n"
     ]
    },
    {
     "data": {
      "image/png": "[encoded data removed]",
      "text/plain": [
       "<matplotlib.figure.Figure at 0x7f11d0db5950>"
      ]
     },
     "metadata": {},
     "output_type": "display_data"
    }
   ],
   "source": [
    "rcParams['figure.figsize'] = (4, 4)\n",
    "rcParams['axes.titlesize'] = 12\n",
    "pltarr = []\n",
    "for var in range(0,25000,1000):\n",
    "    predcheck = [i for i in predictions if i[6] > var]\n",
    "    if len(predcheck) == 0:\n",
    "        break\n",
    "    acc = round(np.mean([1 if i[0] == i[1] else 0 for i in predcheck]), 3)\n",
    "    n = len(predcheck)\n",
    "    pltarr.append([var, acc, n])\n",
    "    print \"partition variants >=\", var, \"prediction acc:\", acc , \"n=\", n\n",
    "plt.title(\"Methyl partitioning accuracy by readlen\")\n",
    "plt.plot([i[0] for i in pltarr], [i[1] for i in pltarr])\n",
    "plt.ylim([0,1.1])\n",
    "plt.xlabel(\"read length\", fontsize='small')\n",
    "plt.ylabel(\"Hap prediction accuracy\", fontsize='small')\n",
    "plt.show()"
   ]
  }
 ],
 "metadata": {
  "kernelspec": {
   "display_name": "Python 2",
   "language": "python",
   "name": "python2"
  },
  "language_info": {
   "codemirror_mode": {
    "name": "ipython",
    "version": 2
   },
   "file_extension": ".py",
   "mimetype": "text/x-python",
   "name": "python",
   "nbconvert_exporter": "python",
   "pygments_lexer": "ipython2",
   "version": "2.7.10"
  }
 },
 "nbformat": 4,
 "nbformat_minor": 0
}
