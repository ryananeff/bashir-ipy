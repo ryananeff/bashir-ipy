{
 "cells": [
  {
   "cell_type": "code",
   "execution_count": 1,
   "metadata": {
    "collapsed": true
   },
   "outputs": [],
   "source": [
    "%run ./ipy_setup.py\n",
    "%matplotlib inline\n",
    "#%run ../scripts/greedy_partitioner.py\n",
    "from Bio.SeqFeature import SeqFeature, FeatureLocation\n",
    "from Bio.Graphics import GenomeDiagram\n",
    "from reportlab.lib.units import cm\n",
    "\n",
    "def translateContigName(cname):\n",
    "    outstr = \"%06dF\" % (int(cname)-1)\n",
    "    return outstr"
   ]
  },
  {
   "cell_type": "code",
   "execution_count": 265,
   "metadata": {
    "collapsed": false
   },
   "outputs": [],
   "source": [
    "xmap = pd.read_csv('/hpc/users/neffr01/2work/alex_na24385_phasing/hmap_combine/alex_concat_hmaps_aligned.xmap', \n",
    "                   sep='\\t', skiprows=8)\n",
    "xmap = xmap.drop(xmap.index[0]) # first line after header is junk\n",
    "mergemap = pd.read_csv('/hpc/users/neffr01/2work/alex_na24385_phasing/hmap_combine/alex_merged_maps.txt', \n",
    "                   sep=' ')\n",
    "hmap = pd.read_csv('/hpc/users/neffr01/2work/alex_na24385_phasing/hmap_combine/alex_concat_hmaps.hmap', \n",
    "                   sep='\\t', skiprows=9)\n",
    "hmap = xmap.drop(xmap.index[0]) # first line after header is junk\n",
    "\n",
    "cmap_q = pd.read_csv('/hpc/users/neffr01/2work/alex_na24385_phasing/hmap_combine/alex_concat_hmaps_aligned_q.cmap', \n",
    "                   sep='\\t', header=None, skiprows=10)\n",
    "#cmap_q = cmap_q.drop(cmap_q.index[0]) # first line after header is junk\n",
    "cmap_r = pd.read_csv('/hpc/users/neffr01/2work/alex_na24385_phasing/hmap_combine/NIST_asm_2015-07-01_pa_ctg_BspQI_0Kb_0labels.cmap', \n",
    "                   sep='\\t', header=None, skiprows=7)\n",
    "#cmap_r = cmap_r.drop(cmap_r.index[0]) # first line after header is junk\n",
    "\n",
    "xmap.RefContigID = xmap.RefContigID.astype(int)\n",
    "xmap.RefStartPos = xmap.RefStartPos.astype(float)\n",
    "xmap.RefEndPos = xmap.RefEndPos.astype(float)\n",
    "xmap = xmap.sort(columns=['RefContigID','RefStartPos'])\n",
    "\n",
    "block_reader = HapCutReader('/hpc/users/neffr01/jason_new/hapcut_outputs/hg002_re_000000F/hapcut_qv13_mq10/hg002_hapcut_000000F.hapcut')\n",
    "\n",
    "blockpos = []\n",
    "for i in block_reader.blocks:\n",
    "    block = block_reader.loc(i)\n",
    "    blockpos.append([i, block.chrom, block.start, block.end])\n",
    "    \n",
    "opticalmap_hapinform = pd.read_csv('/hpc/users/neffr01/2work/alex_na24385_phasing/hmap_combine/alex_merged_hapinform_000000F.txt', sep=' ', \n",
    "                         header=None)\n",
    "opticalmap_hapinform.sort(columns=5, inplace=True)\n",
    "\n",
    "opticalmap_all_a = pd.read_csv('/hpc/users/neffr01/2work/alex_na24385_phasing/hmap_combine/alex_merged_maps.txt', sep=' ')\n",
    "opticalmap_all_a = opticalmap_all_a[opticalmap_all_a['r_contig_id'] == 1]\n",
    "#opticalmap_all.sort(columns='r_pos', inplace=True)\n",
    "opticalmap_all = opticalmap_all_a[opticalmap_all_a['HapDelta'] != 0.0]\n",
    "#opticalmap_all\n",
    "\n",
    "vcf_matches = pd.read_csv('/hpc/users/neffr01/2work/alex_na24385_phasing/hg002_snps_opticalmap_matches_2_000000F.vcf', sep='\\t', header=None)"
   ]
  },
  {
   "cell_type": "code",
   "execution_count": 285,
   "metadata": {
    "collapsed": false
   },
   "outputs": [],
   "source": [
    "gdd = GenomeDiagram.Diagram('XMap file')\n",
    "gdt_features = gdd.new_track(1, greytrack=False, title=\"000000F\")\n",
    "gds_features = gdt_features.new_set()\n",
    "\n",
    "#Add three features to show the strand options\n",
    "state = 0\n",
    "lastcontig = None\n",
    "contigcount = 0\n",
    "for a,i in xmap.iterrows():\n",
    "    state += 1\n",
    "    if i.RefContigID != 1:\n",
    "        break\n",
    "    #strand = +1 if i.Orientation == '+' else -1\n",
    "    color = colors.lightgreen if state % 2 == 0 else colors.green\n",
    "    feature = SeqFeature(FeatureLocation(int(i.RefStartPos), int(i.RefEndPos)), strand=+1)\n",
    "    gds_features.add_feature(feature, name=\"q-\" + i.QryContigID, label=True, color=color, \n",
    "                             label_position=\"middle\", label_angle=0)#,\n",
    "                         #sigil=\"ARROW\", arrowhead_length=0.15)\n",
    "for i in blockpos:\n",
    "    state += 1\n",
    "    color = colors.lightblue if state % 2 == 0 else colors.blue\n",
    "    feature = SeqFeature(FeatureLocation(i[2], i[3], strand=-1))\n",
    "    gds_features.add_feature(feature, name=\"b-\" + str(i[0]), label=True, color=color, label_position=\"middle\", \n",
    "                             label_angle=-180)\n",
    "for a,i in opticalmap_all.iterrows():\n",
    "    color = colors.yellow\n",
    "    _,cmap_r_curr = cmap_r[(cmap_r[0] == 1) & (cmap_r[3] == i['r_site_id'])].iterrows().next()\n",
    "    _,cmap_r_last = cmap_r[(cmap_r[0] == 1) & (cmap_r[3] == i['r_site_id']-1)].iterrows().next()\n",
    "    #print cmap_r_curr, cmap_r_last\n",
    "    feature = SeqFeature(FeatureLocation(int(cmap_r_last[5]), int(cmap_r_curr[5]), strand=0))\n",
    "    gds_features.add_feature(feature, name=\"SV-\" + str(int(i['r_site_id'])), label=True, color=color, label_position=\"middle\", \n",
    "                             label_angle=0)\n",
    "\n",
    "for a,i in opticalmap_hapinform.iterrows():\n",
    "    color = colors.red\n",
    "    feature = SeqFeature(FeatureLocation(int(i[5]), int(i[5])+10, strand=0))\n",
    "    gds_features.add_feature(feature, name=\"var-\" + str(int(i[4])), label=True, color=color, label_position=\"middle\", \n",
    "                             label_angle=0)\n",
    "\n",
    "for a,i in vcf_matches.iterrows():\n",
    "    color = colors.springgreen\n",
    "    feature = SeqFeature(FeatureLocation(int(i[1]), int(i[1])+50, strand=-1))\n",
    "    gds_features.add_feature(feature, name=\"VCF-\" + str(a), label=True, color=color, label_position=\"bottom\", \n",
    "                             label_angle=0, sigil=\"ARROW\", arrowhead_length=0.5)\n",
    "    \n",
    "gdd.draw(format='linear', pagesize=(30*cm,30*cm), fragments=20,\n",
    "       start=0, end=33000000)\n",
    "gdd.write(\"contig000000F.test.pdf\", \"pdf\")"
   ]
  },
  {
   "cell_type": "code",
   "execution_count": 315,
   "metadata": {
    "collapsed": false
   },
   "outputs": [
    {
     "name": "stdout",
     "output_type": "stream",
     "text": [
      "optical variant line\n",
      "    0    1          2   3    4        5   6   7     8   9      10  11\n",
      "13  20  111   858070.1   1  525  4207133   1   0  18.8  -1  35.68   0\n",
      "14  20  133  1076495.5   1  550  4425218   2   0   4.7  -1  21.43   0\n",
      "\n",
      "vcf variant line\n",
      "         0        1  2  3  4       5  6                                                  7                        8                                                9\n",
      "2  000000F  4207133  .  G  A  105.77  .  AC=1;AF=0.500;AN=2;BaseQRankSum=-0.165;DP=73;D...           GT:AD:DP:GQ:PL                        0/1:45,25:70:99:134,0,267\n",
      "4  000000F  4425224  .  C  G  620.91  .  AB=0.52381;ABP=3.21711;AC=1;AF=0.5;AN=2;AO=22;...  GT:GQ:DP:RO:QR:AO:QA:GL  0/1:153.86:42:20:690:22:767:-68.4462,0,-61.5125\n",
      "\n",
      "block variant line\n",
      "000000F 4207133 1 0\n",
      "000000F 4425224 0 1\n"
     ]
    }
   ],
   "source": [
    "'''\n",
    "interrogate:\n",
    "\n",
    "block 3087 in hapcut blocks\n",
    "optical variants 525 and 550\n",
    "vcf variants line 2-4 from overlap file\n",
    "optical contig q-20\n",
    "\n",
    "'''\n",
    "\n",
    "block = block_reader.loc(3087)\n",
    "blockvars = [b for b in block.variants.values() if b.pos in (4207133, 4425224) ]\n",
    "opticalvars = opticalmap_hapinform[[True if i in [525, 550] else False for i in opticalmap_hapinform[4]]]\n",
    "vcfvars = vcf_matches[2:6:2]\n",
    "print \"optical variant line\"\n",
    "print opticalvars\n",
    "print \"\"\n",
    "print \"vcf variant line\"\n",
    "print vcfvars\n",
    "print \"\"\n",
    "print \"block variant line\"\n",
    "for v in blockvars:\n",
    "    print v.chrom, v.pos, v.hap1, v.hap2\n"
   ]
  }
 ],
 "metadata": {
  "kernelspec": {
   "display_name": "Python 2",
   "language": "python",
   "name": "python2"
  },
  "language_info": {
   "codemirror_mode": {
    "name": "ipython",
    "version": 2
   },
   "file_extension": ".py",
   "mimetype": "text/x-python",
   "name": "python",
   "nbconvert_exporter": "python",
   "pygments_lexer": "ipython2",
   "version": "2.7.10"
  }
 },
 "nbformat": 4,
 "nbformat_minor": 0
}
