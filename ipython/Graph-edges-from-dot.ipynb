{
 "cells": [
  {
   "cell_type": "code",
   "execution_count": 69,
   "metadata": {
    "collapsed": true
   },
   "outputs": [],
   "source": [
    "% matplotlib inline\n",
    "% run ./ipy_setup.py"
   ]
  },
  {
   "cell_type": "code",
   "execution_count": 70,
   "metadata": {
    "collapsed": false
   },
   "outputs": [],
   "source": [
    "import pysam\n",
    "bam_fp = pysam.AlignmentFile('/hpc/users/neffr01/jason_new/falcon_test/preads4falcon_aligned.sort.bam', 'rb')\n",
    "edges_list = pd.read_csv('/hpc/users/neffr01/jason_new/falcon_test/2-asm-falcon/sg_edges_list', sep=' ', header=None)"
   ]
  },
  {
   "cell_type": "code",
   "execution_count": null,
   "metadata": {
    "collapsed": false
   },
   "outputs": [],
   "source": [
    "edge_set = set()\n",
    "for i in list(edges_list[edges_list[7] == 'G'][0]):\n",
    "    edge_set.add(i[0:-2])\n"
   ]
  },
  {
   "cell_type": "code",
   "execution_count": null,
   "metadata": {
    "collapsed": false
   },
   "outputs": [],
   "source": [
    "bam_fp = pysam.AlignmentFile('/hpc/users/neffr01/jason_new/falcon_test/preads4falcon_aligned.sort.bam', 'rb')\n",
    "out_bam = pysam.AlignmentFile('/hpc/users/neffr01/jason_new/falcon_test/edges_reads.bam', 'wb', template=bam_fp)\n",
    "for bamread in bam_fp:\n",
    "    name = bamread.query_name.split('/')[0]\n",
    "    if name in edge_set:\n",
    "        print name, bamread.reference_id, bamread.pos, bamread.aend\n",
    "        out_bam.write(bamread)\n",
    "out_bam.close()"
   ]
  },
  {
   "cell_type": "code",
   "execution_count": null,
   "metadata": {
    "collapsed": false
   },
   "outputs": [],
   "source": [
    "import networkx as nx\n",
    "net = nx.read_dot('/hpc/users/neffr01/jason_new/falcon_test/2-asm-falcon/sg_edges_list.dot')"
   ]
  },
  {
   "cell_type": "code",
   "execution_count": 71,
   "metadata": {
    "collapsed": false
   },
   "outputs": [],
   "source": [
    "import networkx as nx\n",
    "jasonnet = nx.read_gexf('/hpc/users/neffr01/jason_new/falcon_unzip_jason_071715/3-falcon_unzip/000000F/000000F_0.gexf')"
   ]
  },
  {
   "cell_type": "code",
   "execution_count": null,
   "metadata": {
    "collapsed": false
   },
   "outputs": [],
   "source": [
    "jasonnet.degree()"
   ]
  },
  {
   "cell_type": "code",
   "execution_count": null,
   "metadata": {
    "collapsed": false,
    "scrolled": true
   },
   "outputs": [],
   "source": [
    "edges_list = set()\n",
    "for i in jasonnet.nodes():\n",
    "    if (jasonnet.out_degree(i) > 1) | (jasonnet.in_degree(i) > 1):\n",
    "        contributedegree = 0\n",
    "        for pred in jasonnet.predecessors(i):\n",
    "            if jasonnet[pred][i]['src'] == 'P':\n",
    "                contributedegree += 1\n",
    "        for succ in jasonnet.successors(i):\n",
    "            if jasonnet[i][succ]['src'] == 'P':\n",
    "                contributedegree += 1\n",
    "        if contributedegree == 3:\n",
    "            print i[0:-2]\n",
    "            edges_list.add(i[0:-2])\n",
    "edges_list_2 = set()\n",
    "for i in edges_list:\n",
    "    try:\n",
    "        edges_list_2.add(translate_file.ix[int(i)][1])\n",
    "    except:\n",
    "        print \"ERROR at \", i"
   ]
  },
  {
   "cell_type": "code",
   "execution_count": null,
   "metadata": {
    "collapsed": false
   },
   "outputs": [],
   "source": [
    "translate_file.tail()"
   ]
  },
  {
   "cell_type": "code",
   "execution_count": 125,
   "metadata": {
    "collapsed": false
   },
   "outputs": [],
   "source": [
    "linked_blocks = []\n",
    "for i in jasonnet.nodes():\n",
    "    curr_phase = jasonnet.node[i]['phase'].split('_')[0]\n",
    "    curr_hap = jasonnet.node[i]['phase'].split('_')[1]\n",
    "    if curr_phase == '-1':\n",
    "        continue\n",
    "    for n in jasonnet.predecessors(i):\n",
    "        next_phase = jasonnet.node[n]['phase'].split('_')[0]\n",
    "        next_hap = jasonnet.node[n]['phase'].split('_')[1]\n",
    "        if next_phase == '-1':\n",
    "            continue\n",
    "        if next_phase != curr_phase:\n",
    "            linked_blocks.append([(int(curr_phase), int(curr_hap)), (int(next_phase), int(next_hap))])\n",
    "    for n in jasonnet.successors(i):\n",
    "        next_phase = jasonnet.node[n]['phase'].split('_')[0]\n",
    "        next_hap = jasonnet.node[n]['phase'].split('_')[1]\n",
    "        if next_phase == '-1':\n",
    "            continue\n",
    "        if next_phase != curr_phase:\n",
    "            linked_blocks.append([(int(curr_phase), int(curr_hap)), (int(next_phase), int(next_hap))])\n",
    "\n",
    "hap_link_graph = nx.Graph()\n",
    "for i in linked_blocks:\n",
    "    cisweight, transweight = 0,0\n",
    "    (u, hap1), (v,hap2) = i\n",
    "    weight = 0\n",
    "    if hap1 == hap2:\n",
    "        cisweight = 1\n",
    "    else:\n",
    "        transweight = 1\n",
    "    if hap_link_graph.has_edge(u,v):\n",
    "        currcis = hap_link_graph.edge[u][v]['cis']\n",
    "        currtrans = hap_link_graph.edge[u][v]['trans']\n",
    "        hap_link_graph.add_edge(u,v,cis=currcis+cisweight, trans=currtrans+transweight)\n",
    "    else:\n",
    "        hap_link_graph.add_edge(u,v,cis = cisweight, trans = transweight)\n",
    "\n",
    "for e,i in hap_link_graph.edges():\n",
    "    if hap_link_graph.edge[e][i]['cis'] == hap_link_graph.edge[e][i]['trans']:\n",
    "        hap_link_graph.remove_edge(e,i)"
   ]
  },
  {
   "cell_type": "code",
   "execution_count": 114,
   "metadata": {
    "collapsed": false
   },
   "outputs": [
    {
     "name": "stdout",
     "output_type": "stream",
     "text": [
      "(1, 2)\n"
     ]
    }
   ],
   "source": [
    "for i in hap_link_graph.edges():\n",
    "    print i\n",
    "    break"
   ]
  },
  {
   "cell_type": "code",
   "execution_count": 124,
   "metadata": {
    "collapsed": false
   },
   "outputs": [],
   "source": [
    "nx.write_gexf(hap_link_graph, '/hpc/users/neffr01/2work/falcon_unzip_jason_071715/hap_link_graph.gexf')"
   ]
  },
  {
   "cell_type": "code",
   "execution_count": 92,
   "metadata": {
    "collapsed": false
   },
   "outputs": [
    {
     "name": "stdout",
     "output_type": "stream",
     "text": [
      "[(1, 1), (2, 1)]\n",
      "[(2, 1), (1, 1)]\n",
      "[(3, 1), (4, 0)]\n",
      "[(4, 0), (3, 1)]\n",
      "[(11, 0), (12, 0)]\n",
      "[(12, 0), (11, 0)]\n",
      "[(14, 0), (15, 0)]\n",
      "[(15, 0), (14, 0)]\n",
      "[(17, 0), (18, 1)]\n",
      "[(18, 1), (17, 0)]\n",
      "[(18, 1), (19, 1)]\n",
      "[(19, 1), (18, 1)]\n",
      "[(26, 1), (27, 1)]\n",
      "[(27, 1), (26, 1)]\n",
      "[(30, 0), (31, 1)]\n",
      "[(31, 1), (30, 0)]\n",
      "[(31, 1), (32, 0)]\n",
      "[(32, 0), (31, 1)]\n",
      "[(34, 0), (35, 1)]\n",
      "[(35, 1), (34, 0)]\n",
      "[(45, 0), (46, 1)]\n",
      "[(45, 1), (46, 1)]\n",
      "[(46, 0), (47, 1)]\n",
      "[(46, 1), (45, 0)]\n",
      "[(46, 1), (45, 1)]\n",
      "[(47, 1), (46, 0)]\n",
      "[(48, 0), (49, 0)]\n",
      "[(49, 0), (48, 0)]\n",
      "[(51, 0), (52, 1)]\n",
      "[(52, 1), (51, 0)]\n",
      "[(62, 1), (63, 0)]\n",
      "[(63, 0), (62, 1)]\n",
      "[(68, 0), (69, 1)]\n",
      "[(68, 1), (69, 0)]\n",
      "[(69, 0), (68, 1)]\n",
      "[(69, 1), (68, 0)]\n",
      "[(79, 0), (80, 0)]\n",
      "[(80, 0), (79, 0)]\n",
      "[(83, 1), (84, 0)]\n",
      "[(83, 1), (175, 0)]\n",
      "[(83, 1), (175, 0)]\n",
      "[(84, 0), (83, 1)]\n",
      "[(97, 1), (98, 0)]\n",
      "[(97, 1), (98, 0)]\n",
      "[(98, 0), (97, 1)]\n",
      "[(98, 0), (97, 1)]\n",
      "[(104, 0), (105, 1)]\n",
      "[(104, 0), (105, 1)]\n",
      "[(104, 0), (105, 1)]\n",
      "[(105, 1), (104, 0)]\n",
      "[(105, 1), (104, 0)]\n",
      "[(105, 1), (104, 0)]\n",
      "[(109, 0), (110, 0)]\n",
      "[(110, 0), (109, 0)]\n",
      "[(110, 0), (111, 1)]\n",
      "[(110, 1), (111, 1)]\n",
      "[(111, 1), (110, 0)]\n",
      "[(111, 1), (110, 1)]\n",
      "[(115, 0), (116, 0)]\n",
      "[(116, 0), (115, 0)]\n",
      "[(116, 0), (117, 0)]\n",
      "[(117, 0), (116, 0)]\n",
      "[(118, 0), (119, 0)]\n",
      "[(118, 1), (119, 0)]\n",
      "[(119, 0), (118, 0)]\n",
      "[(119, 0), (118, 1)]\n",
      "[(120, 1), (121, 1)]\n",
      "[(121, 1), (120, 1)]\n",
      "[(121, 1), (122, 0)]\n",
      "[(121, 1), (122, 1)]\n",
      "[(121, 1), (122, 1)]\n",
      "[(122, 0), (121, 1)]\n",
      "[(122, 1), (121, 1)]\n",
      "[(122, 1), (121, 1)]\n",
      "[(127, 0), (128, 0)]\n",
      "[(128, 0), (127, 0)]\n",
      "[(129, 0), (130, 0)]\n",
      "[(130, 0), (129, 0)]\n",
      "[(130, 0), (131, 0)]\n",
      "[(130, 1), (131, 1)]\n",
      "[(131, 0), (130, 0)]\n",
      "[(131, 1), (130, 1)]\n",
      "[(131, 1), (132, 1)]\n",
      "[(132, 1), (131, 1)]\n",
      "[(133, 1), (134, 0)]\n",
      "[(134, 0), (133, 1)]\n",
      "[(136, 0), (137, 1)]\n",
      "[(136, 1), (137, 1)]\n",
      "[(136, 1), (137, 1)]\n",
      "[(137, 1), (136, 0)]\n",
      "[(137, 1), (136, 1)]\n",
      "[(137, 1), (136, 1)]\n",
      "[(140, 0), (141, 1)]\n",
      "[(141, 1), (140, 0)]\n",
      "[(148, 0), (149, 1)]\n",
      "[(149, 1), (148, 0)]\n",
      "[(152, 0), (153, 1)]\n",
      "[(153, 1), (152, 0)]\n",
      "[(156, 1), (157, 1)]\n",
      "[(157, 1), (156, 1)]\n",
      "[(157, 1), (158, 1)]\n",
      "[(158, 1), (157, 1)]\n",
      "[(162, 1), (163, 0)]\n",
      "[(163, 0), (162, 1)]\n",
      "[(164, 1), (165, 0)]\n",
      "[(165, 0), (164, 1)]\n",
      "[(167, 1), (168, 0)]\n",
      "[(167, 1), (168, 0)]\n",
      "[(167, 1), (168, 0)]\n",
      "[(168, 0), (167, 1)]\n",
      "[(168, 0), (167, 1)]\n",
      "[(168, 0), (167, 1)]\n",
      "[(175, 0), (83, 1)]\n",
      "[(175, 0), (83, 1)]\n",
      "[(185, 0), (186, 1)]\n",
      "[(186, 1), (185, 0)]\n",
      "[(188, 1), (189, 1)]\n",
      "[(189, 1), (188, 1)]\n",
      "[(197, 0), (198, 0)]\n",
      "[(198, 0), (197, 0)]\n",
      "[(203, 0), (204, 1)]\n",
      "[(203, 0), (204, 1)]\n",
      "[(203, 1), (204, 1)]\n",
      "[(204, 1), (203, 0)]\n",
      "[(204, 1), (203, 0)]\n",
      "[(204, 1), (203, 1)]\n",
      "[(206, 1), (207, 0)]\n",
      "[(207, 0), (206, 1)]\n",
      "[(209, 0), (210, 0)]\n",
      "[(210, 0), (209, 0)]\n",
      "[(214, 1), (215, 0)]\n",
      "[(215, 0), (214, 1)]\n",
      "[(215, 1), (216, 1)]\n",
      "[(216, 1), (215, 1)]\n",
      "[(220, 0), (221, 1)]\n",
      "[(220, 1), (221, 0)]\n",
      "[(220, 1), (221, 1)]\n",
      "[(221, 0), (220, 1)]\n",
      "[(221, 1), (220, 0)]\n",
      "[(221, 1), (220, 1)]\n",
      "[(229, 1), (230, 1)]\n",
      "[(230, 1), (229, 1)]\n",
      "[(232, 1), (233, 0)]\n",
      "[(233, 0), (232, 1)]\n",
      "[(233, 0), (234, 1)]\n",
      "[(234, 1), (233, 0)]\n",
      "[(238, 1), (239, 0)]\n",
      "[(238, 1), (239, 0)]\n",
      "[(238, 1), (239, 0)]\n",
      "[(239, 0), (238, 1)]\n",
      "[(239, 0), (238, 1)]\n",
      "[(239, 0), (238, 1)]\n",
      "[(241, 0), (242, 1)]\n",
      "[(242, 1), (241, 0)]\n",
      "[(252, 0), (253, 1)]\n",
      "[(253, 1), (252, 0)]\n",
      "[(259, 0), (260, 0)]\n",
      "[(260, 0), (259, 0)]\n",
      "[(260, 0), (261, 0)]\n",
      "[(261, 0), (260, 0)]\n",
      "[(272, 1), (273, 0)]\n",
      "[(273, 0), (272, 1)]\n"
     ]
    }
   ],
   "source": []
  },
  {
   "cell_type": "code",
   "execution_count": null,
   "metadata": {
    "collapsed": false
   },
   "outputs": [],
   "source": [
    "nx.draw_networkx(G, pos=position, with_labels=False)"
   ]
  },
  {
   "cell_type": "code",
   "execution_count": null,
   "metadata": {
    "collapsed": false,
    "scrolled": true
   },
   "outputs": [],
   "source": [
    "edges_list_2 = set()\n",
    "net = jasonnet\n",
    "in_out_nodes = [i for i in net.nodes() if net.degree(i) == 1]\n",
    "#print in_out_nodes\n",
    "sys.stdout.flush()\n",
    "\n",
    "node_order = []\n",
    "curr_degree = 2\n",
    "start_node = in_out_nodes[0]\n",
    "next_node = net.edges(start_node)[0][1]\n",
    "curr_degree = net.degree(next_node)\n",
    "#print start_node\n",
    "count = 0\n",
    "last_node = start_node\n",
    "curr_node = next_node\n",
    "#print curr_node\n",
    "while count < 10000:\n",
    "    count += 1\n",
    "    #print net.edges(curr_node)\n",
    "    next_node = [b for a,b in net.edges(curr_node) if b != last_node]\n",
    "    if len(next_node) == 0:\n",
    "        print \"BREAK at\", curr_node\n",
    "        break\n",
    "    next_node = next_node[0]\n",
    "    print last_node, curr_node, next_node\n",
    "    last_node = curr_node\n",
    "    curr_node = next_node\n",
    "    curr_degree = net.degree(curr_node)"
   ]
  },
  {
   "cell_type": "code",
   "execution_count": null,
   "metadata": {
    "collapsed": false
   },
   "outputs": [],
   "source": [
    "%pylab inline\n",
    "\n",
    "G = jasonnet\n",
    "\n",
    "position=nx.graphviz_layout(G, prog='dot', args=\"-Grankdir=LR\" ) \n",
    "\n",
    "figure(figsize=(45,8))\n",
    "\n",
    "ax=subplot(1,1,1)\n",
    "\n",
    "minx = 1000000\n",
    "maxx = 0\n",
    "\n",
    "miny = 1000000\n",
    "maxy = 0\n",
    "\n",
    "count = 0\n",
    "colmap = dict(zip((0,1,2,3,4,5),(\"r\",\"b\",\"y\",\"c\",\"m\",\"g\")))\n",
    "for e in G.edges():\n",
    "    v, w = e\n",
    "\n",
    "    if G[v][w][\"src\"] != \"P\":\n",
    "        continue\n",
    "        \n",
    "    phase0 = G.node[v][\"phase\"].split(\"_\")\n",
    "    phase1 = G.node[w][\"phase\"].split(\"_\")\n",
    "    if int(phase0[0]) not in range(60,69) and int(phase1[0]) not in range(60,69):\n",
    "        continue\n",
    "    if int(phase0[0]) == -1:\n",
    "        col = \"k\"\n",
    "    else:\n",
    "        col =  colmap[int(phase0[0]) % 6]     \n",
    "    \n",
    "    xx, yy = zip(position[e[0]], position[e[1]]) \n",
    "    \n",
    "    if xx[0] < 500000 or xx[0] > 500000 + 50000:\n",
    "        continue\n",
    "    \n",
    "    ax.plot( xx, yy, \".-\"+col, markersize=1, lw=2) \n",
    "    \n",
    "    minx = min(minx, min(xx))\n",
    "    maxx = max(maxx, max(xx))\n",
    "    miny = min(miny, min(yy))\n",
    "    maxy = max(maxy, max(yy))\n",
    "    \n",
    "ax.get_xaxis().set_visible(False)\n",
    "ax.get_yaxis().set_visible(False)\n",
    "\n",
    "ylim( miny-100, maxy + 100)\n",
    "xlim( minx-1000, maxx + 1000)"
   ]
  },
  {
   "cell_type": "code",
   "execution_count": null,
   "metadata": {
    "collapsed": true
   },
   "outputs": [],
   "source": [
    "!hostname"
   ]
  },
  {
   "cell_type": "code",
   "execution_count": null,
   "metadata": {
    "collapsed": false
   },
   "outputs": [],
   "source": [
    "#%matplotlib inline\n",
    "G = jasonnet\n",
    "fig = plt.figure(figsize=(45,8))\n",
    "\n",
    "ax=plt.subplot(1,1,1)\n",
    "\n",
    "minx = 1000000\n",
    "maxx = 0\n",
    "\n",
    "miny = 1000000\n",
    "maxy = 0\n",
    "\n",
    "count = 0\n",
    "colmap = dict(zip((0,1,2,3,4,5),(\"r\",\"b\",\"y\",\"c\",\"m\",\"g\")))\n",
    "for e in G.edges():\n",
    "    v, w = e\n",
    "\n",
    "    phase0 = G.node[v][\"phase\"].split(\"_\")\n",
    "    phase1 = G.node[w][\"phase\"].split(\"_\")\n",
    "    if int(phase0[0]) not in range(67,69) and int(phase1[0]) not in range(67,69):\n",
    "        continue\n",
    "    if G[v][w][\"h_edge\"] != \"Y\":\n",
    "        continue\n",
    "\n",
    "    if int(phase0[0]) == -1:\n",
    "        col = \"k\"\n",
    "    else:\n",
    "        col =  colmap[int(phase0[0]) % 6]     \n",
    "    \n",
    "    xx, yy = zip(position[e[0]], position[e[1]]) \n",
    "\n",
    "        \n",
    "    ax.plot(xx, yy, \".-\"+col, markersize=1, lw=2) \n",
    "    \n",
    "    minx = min(minx, min(xx))\n",
    "    maxx = max(maxx, max(xx))\n",
    "    miny = min(miny, min(yy))\n",
    "    maxy = max(maxy, max(yy))\n",
    "    \n",
    "ax.get_xaxis().set_visible(False)\n",
    "ax.get_yaxis().set_visible(False)\n",
    "\n",
    "ylim( miny-100, maxy + 100)\n",
    "xlim( minx-1000, maxx + 1000)"
   ]
  },
  {
   "cell_type": "code",
   "execution_count": null,
   "metadata": {
    "collapsed": true
   },
   "outputs": [],
   "source": [
    "%matplotlib inline"
   ]
  },
  {
   "cell_type": "code",
   "execution_count": null,
   "metadata": {
    "collapsed": false
   },
   "outputs": [],
   "source": [
    "nx.draw_graphviz(jasonnet)"
   ]
  },
  {
   "cell_type": "code",
   "execution_count": null,
   "metadata": {
    "collapsed": true
   },
   "outputs": [],
   "source": [
    "import networkx as nx\n",
    "net = nx.read_dot('/hpc/users/neffr01/jason_new/falcon_test/2-asm-falcon/sg_edges_list.dot')"
   ]
  },
  {
   "cell_type": "code",
   "execution_count": null,
   "metadata": {
    "collapsed": false
   },
   "outputs": [],
   "source": [
    "edges_list_2 = set()\n",
    "in_out_nodes = [i for i in net.nodes() if net.degree(i) == 1]\n",
    "#print in_out_nodes\n",
    "sys.stdout.flush()\n",
    "\n",
    "node_order = []\n",
    "curr_degree = 2\n",
    "start_node = in_out_nodes[0]\n",
    "next_node = net.edges(start_node)[0][1]\n",
    "curr_degree = net.degree(next_node)\n",
    "#print start_node\n",
    "count = 0\n",
    "last_node = start_node\n",
    "curr_node = next_node\n",
    "#print curr_node\n",
    "while count < 10:\n",
    "    count += 1\n",
    "    #print net.edges(curr_node)\n",
    "    next_node = [b for a,b in net.edges(curr_node) if b != last_node][0]\n",
    "    print last_node, curr_node, next_node\n",
    "    last_node = curr_node\n",
    "    curr_node = next_node\n",
    "    curr_degree = net.degree(curr_node)"
   ]
  },
  {
   "cell_type": "code",
   "execution_count": null,
   "metadata": {
    "collapsed": false
   },
   "outputs": [],
   "source": [
    "nx.draw_graphviz(net, prog='dot')"
   ]
  },
  {
   "cell_type": "code",
   "execution_count": null,
   "metadata": {
    "collapsed": false
   },
   "outputs": [],
   "source": [
    "edges_list_2 = set()\n",
    "for i in jasonnet.nodes():\n",
    "    if net.degree(i) > 2:\n",
    "        print net.node[i]['label']\n",
    "        edges_list_2.add(net.node[i]['label'].encode('ascii'))"
   ]
  },
  {
   "cell_type": "code",
   "execution_count": null,
   "metadata": {
    "collapsed": true
   },
   "outputs": [],
   "source": [
    "translate_file = pd.read_csv('/hpc/users/neffr01/jason_new/falcon_unzip_jason_071715/3-falcon_unzip/000000F/q_id_map', sep=\" \", header=None)\n",
    "translate_file.set_index(translate_file[0], inplace=True)"
   ]
  },
  {
   "cell_type": "code",
   "execution_count": null,
   "metadata": {
    "collapsed": false,
    "scrolled": true
   },
   "outputs": [],
   "source": [
    "import pysam\n",
    "bam_fp = pysam.AlignmentFile('/hpc/users/neffr01/jason_new/hapcut_outputs/hg002_re_000000F/hg002_000000F.new.merged.bam.rg.bam', 'rb')\n",
    "#out_bam = pysam.AlignmentFile('/hpc/users/neffr01/jason_new/falcon_unzip_jason_071715/edges_reads.bam', 'wb', template=bam_fp)\n",
    "split_list = []\n",
    "for bamread in bam_fp:\n",
    "    name = bamread.query_name\n",
    "    if name in edges_list_2:\n",
    "        print name, bamread.reference_id, bamread.pos, bamread.aend\n",
    "        if bamread.reference_id == 0:\n",
    "            split_list.append((bamread.pos, bamread.aend))\n",
    "        #out_bam.write(bamread)\n",
    "#out_bam.close()"
   ]
  },
  {
   "cell_type": "code",
   "execution_count": null,
   "metadata": {
    "collapsed": true
   },
   "outputs": [],
   "source": [
    "excelfile = '/hpc/users/neffr01/jason_new/hapcut_outputs/hg002_re_000000F/hapcut_with_indels/hg002_000000F.indels.aftermerge.interblock_stats.tsv'\n",
    "interblock_stats = pd.read_csv(excelfile, sep='\\t')\n"
   ]
  },
  {
   "cell_type": "code",
   "execution_count": null,
   "metadata": {
    "collapsed": false
   },
   "outputs": [],
   "source": [
    "pd.set_option('display.width', 500)\n",
    "pd.set_option('display.max_columns', 100)\n",
    "plt.style.use('ggplot')\n",
    "rcParams['figure.figsize'] = (20, 16)\n",
    "rcParams['figure.dpi'] = 150\n",
    "rcParams['font.size'] = 16\n",
    "rcParams['font.family'] = 'Bitstream Vera Sans'\n",
    "a = interblock_stats.block1_end - interblock_stats.block1_size\n",
    "x = interblock_stats.block1_end\n",
    "y = interblock_stats.block1_size\n",
    "long_x = [j for i in zip(a,x) for j in i]\n",
    "long_y = [j for i in y for j in (i,i)]\n",
    "fig, ax = plt.subplots()\n",
    "ax.set_ylabel(\"block size\")\n",
    "ax.set_xlabel(\"genomic position (bp)\")\n",
    "ax.plot(long_x, long_y, color='b')\n",
    "ax.scatter(long_x, long_y, color='r', linewidths=4)\n",
    "for s,e in split_list:\n",
    "    ax.axvspan(s,e,ymin=0, ymax=2500000, alpha=1)\n",
    "ax.minorticks_on()\n",
    "ax.set_title(\"Structural variant intersection with haplotype block defintions\")\n",
    "ax.set_xlim([0, 33300000])\n",
    "ax.set_ylim([-200000,2500000])\n",
    "#print \"N50: \", n50(y)\n",
    "print \"blocks: \", len(y)\n",
    "plt.show()"
   ]
  }
 ],
 "metadata": {
  "kernelspec": {
   "display_name": "Python 2",
   "language": "python",
   "name": "python2"
  },
  "language_info": {
   "codemirror_mode": {
    "name": "ipython",
    "version": 2
   },
   "file_extension": ".py",
   "mimetype": "text/x-python",
   "name": "python",
   "nbconvert_exporter": "python",
   "pygments_lexer": "ipython2",
   "version": "2.7.10"
  }
 },
 "nbformat": 4,
 "nbformat_minor": 0
}
