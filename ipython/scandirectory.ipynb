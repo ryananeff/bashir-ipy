{
 "cells": [
  {
   "cell_type": "markdown",
   "metadata": {},
   "source": [
    "##scandirectory\n",
    "\n",
    "Finds all of the files in a certain directory and makes nice looking tables based on what the most frequent file type is, what size that file type takes up, etc."
   ]
  },
  {
   "cell_type": "code",
   "execution_count": 1,
   "metadata": {
    "collapsed": false
   },
   "outputs": [],
   "source": [
    "from math import log\n",
    "unit_list = zip(['bytes', 'kB', 'MB', 'GB', 'TB', 'PB'], [0, 0, 1, 2, 2, 2])\n",
    "def sizeof_fmt(num):\n",
    "    \"\"\"Human friendly file size\"\"\"\n",
    "    if num > 1:\n",
    "        exponent = min(int(log(num, 1024)), len(unit_list) - 1)\n",
    "        quotient = float(num) / 1024**exponent\n",
    "        unit, num_decimals = unit_list[exponent]\n",
    "        format_string = '{:.%sf} {}' % (num_decimals)\n",
    "        return format_string.format(quotient, unit)\n",
    "    if num == 0:\n",
    "        return '0 bytes'\n",
    "    if num == 1:\n",
    "        return '1 byte'"
   ]
  },
  {
   "cell_type": "code",
   "execution_count": 2,
   "metadata": {
    "collapsed": false
   },
   "outputs": [],
   "source": [
    "class ListTable(list):\n",
    "    \"\"\" Overridden list class which takes a 2-dimensional list of \n",
    "        the form [[1,2,3],[4,5,6]], and renders an HTML Table in \n",
    "        IPython Notebook. \"\"\"\n",
    "    \n",
    "    def _repr_html_(self):\n",
    "        html = [\"<table>\"]\n",
    "        count = 0\n",
    "        for row in self:\n",
    "            html.append(\"<tr>\")\n",
    "            \n",
    "            for col in row:\n",
    "                if count == 0:\n",
    "                    html.append(\"<td><strong>{0}</strong></td>\".format(col))\n",
    "                else:\n",
    "                    html.append(\"<td>{0}</td>\".format(col))\n",
    "            \n",
    "            html.append(\"</tr>\")\n",
    "            count += 1\n",
    "        html.append(\"</table>\")\n",
    "        return ''.join(html)"
   ]
  },
  {
   "cell_type": "code",
   "execution_count": 3,
   "metadata": {
    "collapsed": false
   },
   "outputs": [],
   "source": [
    "# Imports / style (run this first always)\n",
    "\n",
    "%matplotlib inline\n",
    "from IPython.display import FileLink, FileLinks\n",
    "from IPython.core import display\n",
    "from collections import defaultdict\n",
    "import json\n",
    "import sys\n",
    "import time\n",
    "\n",
    "import numpy as np\n",
    "import scipy as sp\n",
    "import matplotlib.pyplot as plt\n",
    "import pandas as pd\n",
    "\n",
    "from matplotlib import rcParams\n",
    "import matplotlib.cm as cm\n",
    "import matplotlib as mpl\n",
    "\n",
    "class AwesomeError(Exception):\n",
    "     def __init__(self, value):\n",
    "         self.value = value\n",
    "         pass\n",
    "     def __str__(self):\n",
    "         return repr(self.value)\n",
    "         pass\n",
    "\n",
    "#colorbrewer2 Dark2 qualitative color table\n",
    "dark2_colors = [(0.10588235294117647, 0.6196078431372549, 0.4666666666666667),\n",
    "                (0.8509803921568627, 0.37254901960784315, 0.00784313725490196),\n",
    "                (0.4588235294117647, 0.4392156862745098, 0.7019607843137254),\n",
    "                (0.9058823529411765, 0.1607843137254902, 0.5411764705882353),\n",
    "                (0.4, 0.6509803921568628, 0.11764705882352941),\n",
    "                (0.9019607843137255, 0.6705882352941176, 0.00784313725490196),\n",
    "                (0.6509803921568628, 0.4627450980392157, 0.11372549019607843)]\n",
    "\n",
    "rcParams['figure.figsize'] = (10, 6)\n",
    "rcParams['figure.dpi'] = 150\n",
    "rcParams['axes.color_cycle'] = dark2_colors\n",
    "rcParams['lines.linewidth'] = 2\n",
    "rcParams['axes.facecolor'] = 'white'\n",
    "rcParams['font.size'] = 14\n",
    "rcParams['patch.edgecolor'] = 'white'\n",
    "rcParams['patch.facecolor'] = dark2_colors[0]\n",
    "rcParams['font.family'] = 'StixGeneral'\n",
    "\n",
    "\n",
    "def remove_border(axes=None, top=False, right=False, left=True, bottom=True):\n",
    "    \"\"\"\n",
    "    Minimize chartjunk by stripping out unnecesasry plot borders and axis ticks\n",
    "    \n",
    "    The top/right/left/bottom keywords toggle whether the corresponding plot border is drawn\n",
    "    \"\"\"\n",
    "    ax = axes or plt.gca()\n",
    "    ax.spines['top'].set_visible(top)\n",
    "    ax.spines['right'].set_visible(right)\n",
    "    ax.spines['left'].set_visible(left)\n",
    "    ax.spines['bottom'].set_visible(bottom)\n",
    "    \n",
    "    #turn off all ticks\n",
    "    ax.yaxis.set_ticks_position('none')\n",
    "    ax.xaxis.set_ticks_position('none')\n",
    "    \n",
    "    #now re-enable visibles\n",
    "    if top:\n",
    "        ax.xaxis.tick_top()\n",
    "    if bottom:\n",
    "        ax.xaxis.tick_bottom()\n",
    "    if left:\n",
    "        ax.yaxis.tick_left()\n",
    "    if right:\n",
    "        ax.yaxis.tick_right()\n",
    "        \n",
    "pd.set_option('display.width', 500)\n",
    "pd.set_option('display.max_columns', 100)\n",
    "\n",
    "import Bio as bp\n",
    "from Bio.Sequencing.Applications import BwaAlignCommandline as bwa_aln\n",
    "from Bio.Sequencing.Applications import BwaSamseCommandline as bwa_samse\n",
    "from Bio.Sequencing.Applications import BwaSampeCommandline as bwa_sampe\n",
    "from Bio.Sequencing.Applications import BwaIndexCommandline as bwa_index\n",
    "from Bio.Sequencing.Applications import BwaBwaswCommandline as bwa_bwasw\n",
    "import HTSeq as ht\n",
    "import subprocess"
   ]
  },
  {
   "cell_type": "code",
   "execution_count": 4,
   "metadata": {
    "collapsed": false,
    "scrolled": true
   },
   "outputs": [
    {
     "name": "stdout",
     "output_type": "stream",
     "text": [
      "\u001b[33mYou are using pip version 6.0.8, however version 7.1.0 is available.\n",
      "You should consider upgrading via the 'pip install --upgrade pip' command.\u001b[0m\n",
      "Collecting subprocess\n",
      "\u001b[31m  Could not find any downloads that satisfy the requirement subprocess\u001b[0m\n",
      "\u001b[31m  No distributions at all found for subprocess\u001b[0m\n"
     ]
    }
   ],
   "source": [
    "!pip install subprocess"
   ]
  },
  {
   "cell_type": "code",
   "execution_count": 12,
   "metadata": {
    "collapsed": false
   },
   "outputs": [
    {
     "name": "stdout",
     "output_type": "stream",
     "text": [
      "root prints out directories only from what you specified\n",
      "dirs prints out sub-directories from root\n",
      "files prints out all files from root and directories\n",
      "********************\n"
     ]
    }
   ],
   "source": [
    "import os\n",
    "import struct\n",
    "\n",
    "def getuncompressedsize(filename):\n",
    "    with open(filename) as f:\n",
    "        f.seek(-4, 2)\n",
    "        return struct.unpack('I', f.read(4))[0]\n",
    "    \n",
    "print \"root prints out directories only from what you specified\"\n",
    "print \"dirs prints out sub-directories from root\"\n",
    "print \"files prints out all files from root and directories\"\n",
    "print \"*\" * 20\n",
    "master_file_array = []\n",
    "prefix = \"/hpc/users/neffr01/jason_new/short_reads/hg004/\"\n",
    "for root, dirs, files in os.walk(prefix):\n",
    "    #print root\n",
    "    #print dirs\n",
    "    holdit = []\n",
    "    for file_ in files:\n",
    "        tmp = os.path.join(root, file_)\n",
    "        try:\n",
    "            size = os.path.getsize(tmp)\n",
    "        except:\n",
    "            continue\n",
    "        ext = tmp.split('/')[-1].split('.')[-1]\n",
    "        if ext == \"gz\":\n",
    "            ext = '.'.join([tmp.split('/')[-1].split('.')[-2], 'gz'])\n",
    "            #size = getuncompressedsize(tmp)\n",
    "        holdit.append((tmp.split('/')[5], file_, ext, size, tmp))\n",
    "    master_file_array.append(holdit)\n",
    "    #print files\n",
    "len(master_file_array)\n",
    "master_file_array2 = [item for sublist in master_file_array for item in sublist] # only do this once!\n",
    "master_file_array2.sort()\n",
    "pdarr = pd.DataFrame(master_file_array2)\n",
    "pdarr_pretty = pd.DataFrame(master_file_array2, columns=[\"folder\", \"name\", \"extension\", \"size\", \"path\"])[['.' not in i[0] for i in pdarr[1]]]\n",
    "pdarr = pdarr[['.' not in i[0] for i in pdarr[1]]] # remove hidden files\n",
    "grouped = pdarr.groupby(pdarr[0])"
   ]
  },
  {
   "cell_type": "code",
   "execution_count": null,
   "metadata": {
    "collapsed": false
   },
   "outputs": [],
   "source": [
    "import os\n",
    "import struct\n",
    "def getlastchars(filename):\n",
    "    with open(filename) as f:\n",
    "        f.seek(-16, 2)\n",
    "        return f.read(16)"
   ]
  },
  {
   "cell_type": "code",
   "execution_count": 13,
   "metadata": {
    "collapsed": false
   },
   "outputs": [],
   "source": [
    "fastq_files = pdarr_pretty[(pdarr_pretty['extension'] == 'fastq.gz')]"
   ]
  },
  {
   "cell_type": "code",
   "execution_count": 14,
   "metadata": {
    "collapsed": false
   },
   "outputs": [
    {
     "name": "stderr",
     "output_type": "stream",
     "text": [
      "/hpc/users/neffr01/anaconda/lib/python2.7/site-packages/IPython/kernel/__main__.py:1: SettingWithCopyWarning: \n",
      "A value is trying to be set on a copy of a slice from a DataFrame.\n",
      "Try using .loc[row_indexer,col_indexer] = value instead\n",
      "\n",
      "See the the caveats in the documentation: http://pandas.pydata.org/pandas-docs/stable/indexing.html#indexing-view-versus-copy\n",
      "  if __name__ == '__main__':\n"
     ]
    }
   ],
   "source": [
    "fastq_files['size'] = fastq_files['size'].map(lambda x: sizeof_fmt(x))"
   ]
  },
  {
   "cell_type": "code",
   "execution_count": 15,
   "metadata": {
    "collapsed": false
   },
   "outputs": [
    {
     "name": "stderr",
     "output_type": "stream",
     "text": [
      "/hpc/users/neffr01/anaconda/lib/python2.7/site-packages/IPython/kernel/__main__.py:1: SettingWithCopyWarning: \n",
      "A value is trying to be set on a copy of a slice from a DataFrame.\n",
      "Try using .loc[row_indexer,col_indexer] = value instead\n",
      "\n",
      "See the the caveats in the documentation: http://pandas.pydata.org/pandas-docs/stable/indexing.html#indexing-view-versus-copy\n",
      "  if __name__ == '__main__':\n"
     ]
    }
   ],
   "source": [
    "fastq_files['parent'] = fastq_files['path'].map(lambda x: '/'.join(x.split('/')[-4:-3]))"
   ]
  },
  {
   "cell_type": "code",
   "execution_count": 8,
   "metadata": {
    "collapsed": false,
    "scrolled": false
   },
   "outputs": [
    {
     "data": {
      "text/plain": [
       "1084"
      ]
     },
     "execution_count": 8,
     "metadata": {},
     "output_type": "execute_result"
    }
   ],
   "source": [
    "len(fastq_files)"
   ]
  },
  {
   "cell_type": "code",
   "execution_count": 16,
   "metadata": {
    "collapsed": false
   },
   "outputs": [
    {
     "name": "stdout",
     "output_type": "stream",
     "text": [
      "[493, 492]\n"
     ]
    }
   ],
   "source": [
    "study=\"HG004-GIAB\"\n",
    "left=\"\"\n",
    "right=\"\"\n",
    "sample=\"HG004\"\n",
    "lane=\"\"\n",
    "outfile = open('/hpc/users/neffr01/jason_new/short_reads/hg004.fastq.index', 'wb')\n",
    "count = [0,0]\n",
    "for i,n in fastq_files.iterrows():\n",
    "    basepath = '/hpc/users/neffr01/jason_new/'\n",
    "    if \"R1\" not in n['name']:\n",
    "        if \"R2\" in n['name']:\n",
    "            count[1] += 1\n",
    "            continue\n",
    "        else:\n",
    "            print n['name']\n",
    "            continue\n",
    "    sample = n['parent'] + \"-\" + \"_\".join(n['name'].split(\"_\")[0:3])\n",
    "    left = n['path']\n",
    "    right = n['path'].replace('_R1_','_R2_')\n",
    "    lane = n['name'].split('_')[2].strip('L')\n",
    "    count[0] += 1\n",
    "    outfile.write('\\t'.join([left, right, sample, lane, study]) + '\\n')\n",
    "outfile.close()\n",
    "print count"
   ]
  },
  {
   "cell_type": "code",
   "execution_count": 10,
   "metadata": {
    "collapsed": false
   },
   "outputs": [
    {
     "name": "stdout",
     "output_type": "stream",
     "text": [
      "> \u001b[1;32m<ipython-input-9-a5831ba6cd2e>\u001b[0m(22)\u001b[0;36m<module>\u001b[1;34m()\u001b[0m\n",
      "\u001b[1;32m     21 \u001b[1;33m    \u001b[0mcount\u001b[0m\u001b[1;33m[\u001b[0m\u001b[1;36m0\u001b[0m\u001b[1;33m]\u001b[0m \u001b[1;33m+=\u001b[0m \u001b[1;36m1\u001b[0m\u001b[1;33m\u001b[0m\u001b[0m\n",
      "\u001b[0m\u001b[1;32m---> 22 \u001b[1;33m    \u001b[0moutfile\u001b[0m\u001b[1;33m.\u001b[0m\u001b[0mwrite\u001b[0m\u001b[1;33m(\u001b[0m\u001b[1;34m'\\t'\u001b[0m\u001b[1;33m.\u001b[0m\u001b[0mjoin\u001b[0m\u001b[1;33m(\u001b[0m\u001b[1;33m[\u001b[0m\u001b[0mleft\u001b[0m\u001b[1;33m,\u001b[0m \u001b[0mright\u001b[0m\u001b[1;33m,\u001b[0m \u001b[0msample\u001b[0m\u001b[1;33m,\u001b[0m \u001b[0mlane\u001b[0m\u001b[1;33m,\u001b[0m \u001b[0mstudy\u001b[0m\u001b[1;33m]\u001b[0m\u001b[1;33m)\u001b[0m \u001b[1;33m+\u001b[0m \u001b[1;34m'\\n'\u001b[0m\u001b[1;33m)\u001b[0m\u001b[1;33m\u001b[0m\u001b[0m\n",
      "\u001b[0m\u001b[1;32m     23 \u001b[1;33m\u001b[0moutfile\u001b[0m\u001b[1;33m.\u001b[0m\u001b[0mclose\u001b[0m\u001b[1;33m(\u001b[0m\u001b[1;33m)\u001b[0m\u001b[1;33m\u001b[0m\u001b[0m\n",
      "\u001b[0m\n",
      "ipdb> print left\n",
      "['', 'hpc', 'users', 'neffr01', 'jason_new', 'short_reads', 'hg003', 'giab', 'ftp', 'technical', 'NISTAshkenazimTrio', 'HG-003_Homogeneity-12389378', 'HG003_HiSeq300x_fastq', '140627_D00360_0030_AHA0L6ADXX', 'Project_RM8392', 'Sample_3A1', '3A1_CGATGT_L001_R1_001.fastq.gz']\n",
      "ipdb> exit\n"
     ]
    }
   ],
   "source": [
    "%debug"
   ]
  },
  {
   "cell_type": "code",
   "execution_count": 57,
   "metadata": {
    "collapsed": false
   },
   "outputs": [
    {
     "name": "stdout",
     "output_type": "stream",
     "text": [
      "hg002\n"
     ]
    },
    {
     "data": {
      "text/html": [
       "<table><tr><td><strong>extension</strong></td><td><strong># files</strong></td><td><strong>size</strong></td></tr><tr><td>csv</td><td>118</td><td>20 kB</td></tr><tr><td>fastq.gz</td><td>1504</td><td>615.46 GB</td></tr></table>"
      ]
     },
     "metadata": {},
     "output_type": "display_data"
    },
    {
     "name": "stdout",
     "output_type": "stream",
     "text": [
      "hg002_bams\n"
     ]
    },
    {
     "data": {
      "text/html": [
       "<table><tr><td><strong>extension</strong></td><td><strong># files</strong></td><td><strong>size</strong></td></tr><tr><td>10018</td><td>1</td><td>9.4 MB</td></tr><tr><td>10180</td><td>1</td><td>9.4 MB</td></tr><tr><td>10357</td><td>1</td><td>9.4 MB</td></tr><tr><td>10395</td><td>1</td><td>9.4 MB</td></tr><tr><td>1049</td><td>1</td><td>9.4 MB</td></tr><tr><td>10515</td><td>1</td><td>9.4 MB</td></tr><tr><td>10849</td><td>1</td><td>9.4 MB</td></tr><tr><td>11275</td><td>1</td><td>9.4 MB</td></tr><tr><td>11327</td><td>1</td><td>9.4 MB</td></tr><tr><td>11336</td><td>1</td><td>9.4 MB</td></tr><tr><td>11435</td><td>1</td><td>9.4 MB</td></tr><tr><td>1146</td><td>1</td><td>9.4 MB</td></tr><tr><td>11547</td><td>1</td><td>9.4 MB</td></tr><tr><td>11708</td><td>1</td><td>9.4 MB</td></tr><tr><td>11813</td><td>1</td><td>9.4 MB</td></tr><tr><td>11869</td><td>1</td><td>9.4 MB</td></tr><tr><td>11894</td><td>1</td><td>9.4 MB</td></tr><tr><td>11934</td><td>1</td><td>9.4 MB</td></tr><tr><td>11983</td><td>1</td><td>9.4 MB</td></tr><tr><td>12225</td><td>1</td><td>9.4 MB</td></tr><tr><td>12232</td><td>1</td><td>9.4 MB</td></tr><tr><td>12248</td><td>1</td><td>9.4 MB</td></tr><tr><td>12261</td><td>1</td><td>9.4 MB</td></tr><tr><td>12655</td><td>1</td><td>9.4 MB</td></tr><tr><td>12656</td><td>1</td><td>9.4 MB</td></tr><tr><td>12737</td><td>1</td><td>9.4 MB</td></tr><tr><td>12759</td><td>1</td><td>9.4 MB</td></tr><tr><td>12820</td><td>1</td><td>9.4 MB</td></tr><tr><td>12878</td><td>1</td><td>9.4 MB</td></tr><tr><td>13013</td><td>1</td><td>9.4 MB</td></tr><tr><td>13062</td><td>1</td><td>9.4 MB</td></tr><tr><td>13091</td><td>1</td><td>9.4 MB</td></tr><tr><td>13110</td><td>1</td><td>9.4 MB</td></tr><tr><td>13140</td><td>1</td><td>9.4 MB</td></tr><tr><td>13155</td><td>1</td><td>9.4 MB</td></tr><tr><td>13207</td><td>1</td><td>9.4 MB</td></tr><tr><td>13427</td><td>1</td><td>9.4 MB</td></tr><tr><td>13444</td><td>1</td><td>9.4 MB</td></tr><tr><td>13565</td><td>1</td><td>9.4 MB</td></tr><tr><td>13686</td><td>1</td><td>9.4 MB</td></tr><tr><td>13692</td><td>1</td><td>9.4 MB</td></tr><tr><td>13697</td><td>1</td><td>9.4 MB</td></tr><tr><td>13740</td><td>1</td><td>9.4 MB</td></tr><tr><td>13856</td><td>1</td><td>9.4 MB</td></tr><tr><td>13948</td><td>1</td><td>9.4 MB</td></tr><tr><td>14101</td><td>1</td><td>9.4 MB</td></tr><tr><td>14170</td><td>1</td><td>9.4 MB</td></tr><tr><td>14204</td><td>1</td><td>9.4 MB</td></tr><tr><td>14301</td><td>1</td><td>9.4 MB</td></tr><tr><td>14312</td><td>1</td><td>9.4 MB</td></tr><tr><td>14407</td><td>1</td><td>9.4 MB</td></tr><tr><td>14498</td><td>1</td><td>9.4 MB</td></tr><tr><td>14518</td><td>1</td><td>9.4 MB</td></tr><tr><td>14548</td><td>1</td><td>9.4 MB</td></tr><tr><td>14563</td><td>1</td><td>9.4 MB</td></tr><tr><td>14772</td><td>1</td><td>9.4 MB</td></tr><tr><td>14834</td><td>1</td><td>9.4 MB</td></tr><tr><td>15040</td><td>1</td><td>9.4 MB</td></tr><tr><td>15227</td><td>1</td><td>9.4 MB</td></tr><tr><td>15242</td><td>1</td><td>9.4 MB</td></tr><tr><td>15354</td><td>1</td><td>9.4 MB</td></tr><tr><td>15400</td><td>1</td><td>9.4 MB</td></tr><tr><td>15445</td><td>1</td><td>9.4 MB</td></tr><tr><td>15552</td><td>1</td><td>9.4 MB</td></tr><tr><td>15602</td><td>1</td><td>9.4 MB</td></tr><tr><td>15725</td><td>1</td><td>9.4 MB</td></tr><tr><td>15809</td><td>1</td><td>9.4 MB</td></tr><tr><td>15907</td><td>1</td><td>9.4 MB</td></tr><tr><td>16004</td><td>1</td><td>9.4 MB</td></tr><tr><td>16018</td><td>1</td><td>9.4 MB</td></tr><tr><td>16062</td><td>1</td><td>9.4 MB</td></tr><tr><td>16067</td><td>1</td><td>9.4 MB</td></tr><tr><td>16079</td><td>1</td><td>9.4 MB</td></tr><tr><td>16189</td><td>1</td><td>9.4 MB</td></tr><tr><td>16232</td><td>1</td><td>9.4 MB</td></tr><tr><td>16357</td><td>1</td><td>9.4 MB</td></tr><tr><td>16397</td><td>1</td><td>9.4 MB</td></tr><tr><td>16417</td><td>1</td><td>9.4 MB</td></tr><tr><td>16428</td><td>1</td><td>9.4 MB</td></tr><tr><td>16516</td><td>1</td><td>9.4 MB</td></tr><tr><td>16525</td><td>1</td><td>9.4 MB</td></tr><tr><td>16566</td><td>1</td><td>9.4 MB</td></tr><tr><td>16654</td><td>1</td><td>9.4 MB</td></tr><tr><td>16670</td><td>1</td><td>9.4 MB</td></tr><tr><td>16703</td><td>1</td><td>9.4 MB</td></tr><tr><td>16761</td><td>1</td><td>9.4 MB</td></tr><tr><td>1686</td><td>1</td><td>9.4 MB</td></tr><tr><td>16920</td><td>1</td><td>9.4 MB</td></tr><tr><td>17031</td><td>1</td><td>9.4 MB</td></tr><tr><td>17143</td><td>1</td><td>9.4 MB</td></tr><tr><td>17177</td><td>1</td><td>9.4 MB</td></tr><tr><td>17235</td><td>1</td><td>9.4 MB</td></tr><tr><td>17344</td><td>1</td><td>9.4 MB</td></tr><tr><td>17447</td><td>1</td><td>9.4 MB</td></tr><tr><td>17479</td><td>1</td><td>9.4 MB</td></tr><tr><td>17545</td><td>1</td><td>9.4 MB</td></tr><tr><td>17620</td><td>1</td><td>9.4 MB</td></tr><tr><td>17634</td><td>1</td><td>9.4 MB</td></tr><tr><td>17665</td><td>1</td><td>9.4 MB</td></tr><tr><td>17678</td><td>1</td><td>9.4 MB</td></tr><tr><td>17754</td><td>1</td><td>9.4 MB</td></tr><tr><td>18047</td><td>1</td><td>9.4 MB</td></tr><tr><td>18131</td><td>1</td><td>9.4 MB</td></tr><tr><td>18151</td><td>1</td><td>9.4 MB</td></tr><tr><td>18185</td><td>1</td><td>9.4 MB</td></tr><tr><td>18535</td><td>1</td><td>9.4 MB</td></tr><tr><td>18741</td><td>1</td><td>9.4 MB</td></tr><tr><td>18744</td><td>1</td><td>9.4 MB</td></tr><tr><td>18795</td><td>1</td><td>9.4 MB</td></tr><tr><td>18856</td><td>1</td><td>9.4 MB</td></tr><tr><td>18907</td><td>1</td><td>9.4 MB</td></tr><tr><td>1897</td><td>1</td><td>9.4 MB</td></tr><tr><td>19217</td><td>1</td><td>9.4 MB</td></tr><tr><td>19410</td><td>1</td><td>9.4 MB</td></tr><tr><td>19447</td><td>1</td><td>9.4 MB</td></tr><tr><td>19796</td><td>1</td><td>9.4 MB</td></tr><tr><td>19880</td><td>1</td><td>9.4 MB</td></tr><tr><td>19932</td><td>1</td><td>9.4 MB</td></tr><tr><td>19938</td><td>1</td><td>9.4 MB</td></tr><tr><td>19958</td><td>1</td><td>9.4 MB</td></tr><tr><td>20139</td><td>1</td><td>9.4 MB</td></tr><tr><td>20143</td><td>1</td><td>9.4 MB</td></tr><tr><td>20199</td><td>1</td><td>9.4 MB</td></tr><tr><td>20269</td><td>1</td><td>9.4 MB</td></tr><tr><td>20380</td><td>1</td><td>9.4 MB</td></tr><tr><td>20441</td><td>1</td><td>9.4 MB</td></tr><tr><td>20581</td><td>1</td><td>9.4 MB</td></tr><tr><td>20701</td><td>1</td><td>9.4 MB</td></tr><tr><td>20800</td><td>1</td><td>9.4 MB</td></tr><tr><td>20846</td><td>1</td><td>9.4 MB</td></tr><tr><td>20890</td><td>1</td><td>9.4 MB</td></tr><tr><td>20942</td><td>1</td><td>9.4 MB</td></tr><tr><td>21002</td><td>1</td><td>9.4 MB</td></tr><tr><td>21172</td><td>1</td><td>9.4 MB</td></tr><tr><td>21204</td><td>1</td><td>9.4 MB</td></tr><tr><td>21240</td><td>1</td><td>9.4 MB</td></tr><tr><td>21245</td><td>1</td><td>9.4 MB</td></tr><tr><td>21362</td><td>1</td><td>9.4 MB</td></tr><tr><td>21412</td><td>1</td><td>9.4 MB</td></tr><tr><td>21529</td><td>1</td><td>9.4 MB</td></tr><tr><td>21565</td><td>1</td><td>9.4 MB</td></tr><tr><td>21593</td><td>1</td><td>9.4 MB</td></tr><tr><td>21668</td><td>1</td><td>9.4 MB</td></tr><tr><td>21765</td><td>1</td><td>9.4 MB</td></tr><tr><td>21926</td><td>1</td><td>9.4 MB</td></tr><tr><td>21928</td><td>1</td><td>9.4 MB</td></tr><tr><td>22106</td><td>1</td><td>9.4 MB</td></tr><tr><td>22167</td><td>1</td><td>9.4 MB</td></tr><tr><td>22194</td><td>1</td><td>9.4 MB</td></tr><tr><td>22212</td><td>1</td><td>9.4 MB</td></tr><tr><td>22242</td><td>1</td><td>9.4 MB</td></tr><tr><td>22390</td><td>1</td><td>9.4 MB</td></tr><tr><td>22509</td><td>1</td><td>9.4 MB</td></tr><tr><td>22536</td><td>1</td><td>9.4 MB</td></tr><tr><td>22561</td><td>1</td><td>9.4 MB</td></tr><tr><td>22589</td><td>1</td><td>9.4 MB</td></tr><tr><td>22650</td><td>1</td><td>9.4 MB</td></tr><tr><td>22683</td><td>1</td><td>9.4 MB</td></tr><tr><td>22729</td><td>1</td><td>9.4 MB</td></tr><tr><td>22833</td><td>1</td><td>9.4 MB</td></tr><tr><td>22915</td><td>1</td><td>9.4 MB</td></tr><tr><td>22989</td><td>1</td><td>9.4 MB</td></tr><tr><td>23017</td><td>1</td><td>9.4 MB</td></tr><tr><td>23100</td><td>1</td><td>9.4 MB</td></tr><tr><td>23126</td><td>1</td><td>9.4 MB</td></tr><tr><td>23213</td><td>1</td><td>9.4 MB</td></tr><tr><td>2327</td><td>1</td><td>9.4 MB</td></tr><tr><td>23313</td><td>1</td><td>9.4 MB</td></tr><tr><td>23394</td><td>1</td><td>9.4 MB</td></tr><tr><td>23490</td><td>1</td><td>9.4 MB</td></tr><tr><td>23525</td><td>1</td><td>9.4 MB</td></tr><tr><td>23662</td><td>1</td><td>9.4 MB</td></tr><tr><td>23738</td><td>1</td><td>9.4 MB</td></tr><tr><td>23950</td><td>1</td><td>9.4 MB</td></tr><tr><td>24012</td><td>1</td><td>9.4 MB</td></tr><tr><td>24214</td><td>1</td><td>9.4 MB</td></tr><tr><td>24301</td><td>1</td><td>9.4 MB</td></tr><tr><td>24306</td><td>1</td><td>9.4 MB</td></tr><tr><td>24341</td><td>1</td><td>9.4 MB</td></tr><tr><td>24439</td><td>1</td><td>9.4 MB</td></tr><tr><td>24469</td><td>1</td><td>9.4 MB</td></tr><tr><td>24549</td><td>1</td><td>9.4 MB</td></tr><tr><td>2455</td><td>1</td><td>9.4 MB</td></tr><tr><td>24562</td><td>1</td><td>9.4 MB</td></tr><tr><td>24585</td><td>1</td><td>9.4 MB</td></tr><tr><td>24625</td><td>1</td><td>9.4 MB</td></tr><tr><td>24771</td><td>1</td><td>9.4 MB</td></tr><tr><td>24866</td><td>1</td><td>9.4 MB</td></tr><tr><td>24988</td><td>1</td><td>9.4 MB</td></tr><tr><td>25029</td><td>1</td><td>9.4 MB</td></tr><tr><td>25142</td><td>1</td><td>9.4 MB</td></tr><tr><td>25152</td><td>1</td><td>9.4 MB</td></tr><tr><td>25159</td><td>1</td><td>9.4 MB</td></tr><tr><td>25177</td><td>1</td><td>9.4 MB</td></tr><tr><td>25336</td><td>1</td><td>9.4 MB</td></tr><tr><td>25443</td><td>1</td><td>9.4 MB</td></tr><tr><td>25464</td><td>1</td><td>9.4 MB</td></tr><tr><td>25682</td><td>1</td><td>9.4 MB</td></tr><tr><td>25697</td><td>1</td><td>9.4 MB</td></tr><tr><td>25770</td><td>1</td><td>9.4 MB</td></tr><tr><td>25784</td><td>1</td><td>9.4 MB</td></tr><tr><td>25928</td><td>1</td><td>9.4 MB</td></tr><tr><td>26006</td><td>1</td><td>9.4 MB</td></tr><tr><td>26026</td><td>1</td><td>9.4 MB</td></tr><tr><td>26081</td><td>1</td><td>9.4 MB</td></tr><tr><td>26130</td><td>1</td><td>9.4 MB</td></tr><tr><td>26132</td><td>1</td><td>9.4 MB</td></tr><tr><td>26137</td><td>1</td><td>9.4 MB</td></tr><tr><td>26209</td><td>1</td><td>9.4 MB</td></tr><tr><td>26255</td><td>1</td><td>9.4 MB</td></tr><tr><td>26286</td><td>1</td><td>9.4 MB</td></tr><tr><td>26310</td><td>1</td><td>9.4 MB</td></tr><tr><td>26503</td><td>1</td><td>9.4 MB</td></tr><tr><td>26816</td><td>1</td><td>9.4 MB</td></tr><tr><td>26825</td><td>1</td><td>9.4 MB</td></tr><tr><td>26886</td><td>1</td><td>9.4 MB</td></tr><tr><td>27014</td><td>1</td><td>9.4 MB</td></tr><tr><td>27228</td><td>1</td><td>9.4 MB</td></tr><tr><td>27338</td><td>1</td><td>9.4 MB</td></tr><tr><td>27418</td><td>1</td><td>9.4 MB</td></tr><tr><td>27521</td><td>1</td><td>9.4 MB</td></tr><tr><td>2824</td><td>1</td><td>9.4 MB</td></tr><tr><td>28336</td><td>1</td><td>9.4 MB</td></tr><tr><td>2845</td><td>1</td><td>9.4 MB</td></tr><tr><td>28539</td><td>1</td><td>9.4 MB</td></tr><tr><td>28542</td><td>1</td><td>9.4 MB</td></tr><tr><td>28546</td><td>1</td><td>9.4 MB</td></tr><tr><td>28767</td><td>1</td><td>9.4 MB</td></tr><tr><td>28994</td><td>1</td><td>9.4 MB</td></tr><tr><td>29039</td><td>1</td><td>9.4 MB</td></tr><tr><td>29118</td><td>1</td><td>9.4 MB</td></tr><tr><td>29183</td><td>1</td><td>9.4 MB</td></tr><tr><td>29279</td><td>1</td><td>9.4 MB</td></tr><tr><td>29323</td><td>1</td><td>9.4 MB</td></tr><tr><td>29336</td><td>1</td><td>9.4 MB</td></tr><tr><td>29352</td><td>1</td><td>9.4 MB</td></tr><tr><td>29383</td><td>1</td><td>9.4 MB</td></tr><tr><td>29452</td><td>1</td><td>9.4 MB</td></tr><tr><td>29676</td><td>1</td><td>9.4 MB</td></tr><tr><td>30011</td><td>1</td><td>9.4 MB</td></tr><tr><td>30084</td><td>1</td><td>9.4 MB</td></tr><tr><td>30090</td><td>1</td><td>9.4 MB</td></tr><tr><td>30199</td><td>1</td><td>9.4 MB</td></tr><tr><td>30338</td><td>1</td><td>9.4 MB</td></tr><tr><td>30446</td><td>1</td><td>9.4 MB</td></tr><tr><td>30527</td><td>1</td><td>9.4 MB</td></tr><tr><td>30704</td><td>1</td><td>9.4 MB</td></tr><tr><td>30887</td><td>1</td><td>9.4 MB</td></tr><tr><td>30958</td><td>1</td><td>9.4 MB</td></tr><tr><td>31031</td><td>1</td><td>9.4 MB</td></tr><tr><td>31167</td><td>1</td><td>9.4 MB</td></tr><tr><td>31334</td><td>1</td><td>9.4 MB</td></tr><tr><td>31423</td><td>1</td><td>9.4 MB</td></tr><tr><td>31679</td><td>1</td><td>9.4 MB</td></tr><tr><td>31900</td><td>1</td><td>9.4 MB</td></tr><tr><td>32169</td><td>1</td><td>9.4 MB</td></tr><tr><td>32249</td><td>1</td><td>9.4 MB</td></tr><tr><td>32257</td><td>1</td><td>9.4 MB</td></tr><tr><td>32260</td><td>1</td><td>9.4 MB</td></tr><tr><td>32264</td><td>1</td><td>9.4 MB</td></tr><tr><td>32345</td><td>1</td><td>9.4 MB</td></tr><tr><td>32505</td><td>1</td><td>9.4 MB</td></tr><tr><td>32719</td><td>1</td><td>9.4 MB</td></tr><tr><td>32845</td><td>1</td><td>9.4 MB</td></tr><tr><td>33164</td><td>1</td><td>9.4 MB</td></tr><tr><td>3334</td><td>1</td><td>9.4 MB</td></tr><tr><td>33387</td><td>1</td><td>9.4 MB</td></tr><tr><td>3352</td><td>1</td><td>9.4 MB</td></tr><tr><td>33685</td><td>1</td><td>9.4 MB</td></tr><tr><td>3371</td><td>1</td><td>9.4 MB</td></tr><tr><td>33728</td><td>1</td><td>9.4 MB</td></tr><tr><td>33911</td><td>1</td><td>9.4 MB</td></tr><tr><td>34003</td><td>1</td><td>9.4 MB</td></tr><tr><td>34229</td><td>1</td><td>9.4 MB</td></tr><tr><td>34674</td><td>1</td><td>9.4 MB</td></tr><tr><td>34762</td><td>1</td><td>9.4 MB</td></tr><tr><td>34769</td><td>1</td><td>9.4 MB</td></tr><tr><td>34787</td><td>1</td><td>9.4 MB</td></tr><tr><td>34908</td><td>1</td><td>9.4 MB</td></tr><tr><td>3493</td><td>1</td><td>9.4 MB</td></tr><tr><td>35118</td><td>1</td><td>9.4 MB</td></tr><tr><td>35126</td><td>1</td><td>9.4 MB</td></tr><tr><td>35315</td><td>1</td><td>9.4 MB</td></tr><tr><td>35362</td><td>1</td><td>9.4 MB</td></tr><tr><td>35395</td><td>1</td><td>9.4 MB</td></tr><tr><td>3557</td><td>1</td><td>9.4 MB</td></tr><tr><td>35676</td><td>1</td><td>9.4 MB</td></tr><tr><td>35713</td><td>1</td><td>9.4 MB</td></tr><tr><td>35867</td><td>1</td><td>9.4 MB</td></tr><tr><td>35986</td><td>1</td><td>9.4 MB</td></tr><tr><td>36043</td><td>1</td><td>9.4 MB</td></tr><tr><td>36066</td><td>1</td><td>9.4 MB</td></tr><tr><td>36074</td><td>1</td><td>9.4 MB</td></tr><tr><td>36108</td><td>1</td><td>9.4 MB</td></tr><tr><td>36129</td><td>1</td><td>9.4 MB</td></tr><tr><td>3624</td><td>1</td><td>9.4 MB</td></tr><tr><td>36397</td><td>1</td><td>9.4 MB</td></tr><tr><td>36459</td><td>1</td><td>9.4 MB</td></tr><tr><td>36485</td><td>1</td><td>9.4 MB</td></tr><tr><td>3660</td><td>1</td><td>9.4 MB</td></tr><tr><td>37385</td><td>1</td><td>9.4 MB</td></tr><tr><td>37650</td><td>1</td><td>9.4 MB</td></tr><tr><td>37714</td><td>1</td><td>9.4 MB</td></tr><tr><td>3783</td><td>1</td><td>9.4 MB</td></tr><tr><td>37853</td><td>1</td><td>9.4 MB</td></tr><tr><td>38073</td><td>1</td><td>9.4 MB</td></tr><tr><td>38094</td><td>1</td><td>9.4 MB</td></tr><tr><td>3811</td><td>1</td><td>9.4 MB</td></tr><tr><td>38417</td><td>1</td><td>9.4 MB</td></tr><tr><td>38538</td><td>1</td><td>9.4 MB</td></tr><tr><td>38665</td><td>1</td><td>9.4 MB</td></tr><tr><td>3869</td><td>1</td><td>9.4 MB</td></tr><tr><td>3887</td><td>1</td><td>9.4 MB</td></tr><tr><td>38918</td><td>1</td><td>9.4 MB</td></tr><tr><td>3912</td><td>1</td><td>9.4 MB</td></tr><tr><td>39148</td><td>1</td><td>9.4 MB</td></tr><tr><td>39449</td><td>1</td><td>9.4 MB</td></tr><tr><td>39751</td><td>1</td><td>9.4 MB</td></tr><tr><td>39771</td><td>1</td><td>9.4 MB</td></tr><tr><td>3996</td><td>1</td><td>9.4 MB</td></tr><tr><td>40291</td><td>1</td><td>9.4 MB</td></tr><tr><td>4038</td><td>1</td><td>9.4 MB</td></tr><tr><td>40411</td><td>1</td><td>9.4 MB</td></tr><tr><td>40555</td><td>1</td><td>9.4 MB</td></tr><tr><td>40688</td><td>1</td><td>9.4 MB</td></tr><tr><td>40750</td><td>1</td><td>9.4 MB</td></tr><tr><td>40858</td><td>1</td><td>9.4 MB</td></tr><tr><td>40882</td><td>1</td><td>9.4 MB</td></tr><tr><td>40926</td><td>1</td><td>9.4 MB</td></tr><tr><td>40948</td><td>1</td><td>9.4 MB</td></tr><tr><td>41147</td><td>1</td><td>9.4 MB</td></tr><tr><td>41159</td><td>1</td><td>9.4 MB</td></tr><tr><td>41164</td><td>1</td><td>9.4 MB</td></tr><tr><td>41315</td><td>1</td><td>9.4 MB</td></tr><tr><td>41361</td><td>1</td><td>9.4 MB</td></tr><tr><td>4144</td><td>1</td><td>9.4 MB</td></tr><tr><td>41444</td><td>1</td><td>9.4 MB</td></tr><tr><td>41523</td><td>1</td><td>9.4 MB</td></tr><tr><td>41691</td><td>1</td><td>9.4 MB</td></tr><tr><td>41955</td><td>1</td><td>9.4 MB</td></tr><tr><td>42172</td><td>1</td><td>9.4 MB</td></tr><tr><td>42423</td><td>1</td><td>9.4 MB</td></tr><tr><td>42508</td><td>1</td><td>9.4 MB</td></tr><tr><td>42537</td><td>1</td><td>9.4 MB</td></tr><tr><td>42609</td><td>1</td><td>9.4 MB</td></tr><tr><td>42646</td><td>1</td><td>9.4 MB</td></tr><tr><td>42791</td><td>1</td><td>9.4 MB</td></tr><tr><td>42924</td><td>1</td><td>9.4 MB</td></tr><tr><td>42945</td><td>1</td><td>9.4 MB</td></tr><tr><td>43003</td><td>1</td><td>9.4 MB</td></tr><tr><td>43068</td><td>1</td><td>9.4 MB</td></tr><tr><td>43255</td><td>1</td><td>9.4 MB</td></tr><tr><td>43288</td><td>1</td><td>9.4 MB</td></tr><tr><td>43316</td><td>1</td><td>9.4 MB</td></tr><tr><td>43379</td><td>1</td><td>9.4 MB</td></tr><tr><td>43397</td><td>1</td><td>9.4 MB</td></tr><tr><td>43549</td><td>1</td><td>9.4 MB</td></tr><tr><td>43565</td><td>1</td><td>9.4 MB</td></tr><tr><td>43579</td><td>1</td><td>9.4 MB</td></tr><tr><td>44034</td><td>1</td><td>9.4 MB</td></tr><tr><td>44160</td><td>1</td><td>9.4 MB</td></tr><tr><td>44193</td><td>1</td><td>9.4 MB</td></tr><tr><td>44292</td><td>1</td><td>9.4 MB</td></tr><tr><td>44346</td><td>1</td><td>9.4 MB</td></tr><tr><td>4435</td><td>1</td><td>9.4 MB</td></tr><tr><td>44408</td><td>1</td><td>9.4 MB</td></tr><tr><td>44415</td><td>1</td><td>9.4 MB</td></tr><tr><td>44428</td><td>1</td><td>9.4 MB</td></tr><tr><td>44573</td><td>1</td><td>9.4 MB</td></tr><tr><td>44734</td><td>1</td><td>9.4 MB</td></tr><tr><td>44774</td><td>1</td><td>9.4 MB</td></tr><tr><td>45141</td><td>1</td><td>9.4 MB</td></tr><tr><td>45220</td><td>1</td><td>9.4 MB</td></tr><tr><td>45324</td><td>1</td><td>9.4 MB</td></tr><tr><td>45410</td><td>1</td><td>9.4 MB</td></tr><tr><td>45559</td><td>1</td><td>9.4 MB</td></tr><tr><td>45714</td><td>1</td><td>9.4 MB</td></tr><tr><td>4593</td><td>1</td><td>9.4 MB</td></tr><tr><td>45967</td><td>1</td><td>9.4 MB</td></tr><tr><td>46080</td><td>1</td><td>9.4 MB</td></tr><tr><td>46104</td><td>1</td><td>9.4 MB</td></tr><tr><td>4635</td><td>1</td><td>9.4 MB</td></tr><tr><td>46395</td><td>1</td><td>9.4 MB</td></tr><tr><td>46776</td><td>1</td><td>9.4 MB</td></tr><tr><td>46795</td><td>1</td><td>9.4 MB</td></tr><tr><td>46850</td><td>1</td><td>9.4 MB</td></tr><tr><td>46926</td><td>1</td><td>9.4 MB</td></tr><tr><td>47070</td><td>1</td><td>9.4 MB</td></tr><tr><td>47154</td><td>1</td><td>9.4 MB</td></tr><tr><td>47183</td><td>1</td><td>9.4 MB</td></tr><tr><td>47209</td><td>1</td><td>9.4 MB</td></tr><tr><td>47425</td><td>1</td><td>9.4 MB</td></tr><tr><td>47474</td><td>1</td><td>9.4 MB</td></tr><tr><td>47613</td><td>1</td><td>9.4 MB</td></tr><tr><td>47638</td><td>1</td><td>9.4 MB</td></tr><tr><td>47875</td><td>1</td><td>9.4 MB</td></tr><tr><td>4792</td><td>1</td><td>9.4 MB</td></tr><tr><td>47979</td><td>1</td><td>9.4 MB</td></tr><tr><td>48010</td><td>1</td><td>9.4 MB</td></tr><tr><td>4826</td><td>1</td><td>9.4 MB</td></tr><tr><td>48402</td><td>1</td><td>9.4 MB</td></tr><tr><td>48456</td><td>1</td><td>9.4 MB</td></tr><tr><td>4853</td><td>1</td><td>9.4 MB</td></tr><tr><td>48583</td><td>1</td><td>9.4 MB</td></tr><tr><td>4892</td><td>1</td><td>9.4 MB</td></tr><tr><td>48999</td><td>1</td><td>9.4 MB</td></tr><tr><td>49056</td><td>1</td><td>9.4 MB</td></tr><tr><td>49102</td><td>1</td><td>9.4 MB</td></tr><tr><td>49209</td><td>1</td><td>9.4 MB</td></tr><tr><td>49519</td><td>1</td><td>9.4 MB</td></tr><tr><td>4958</td><td>1</td><td>9.4 MB</td></tr><tr><td>4959</td><td>1</td><td>9.4 MB</td></tr><tr><td>49594</td><td>1</td><td>9.4 MB</td></tr><tr><td>49785</td><td>1</td><td>9.4 MB</td></tr><tr><td>49903</td><td>1</td><td>9.4 MB</td></tr><tr><td>4995</td><td>1</td><td>9.4 MB</td></tr><tr><td>49968</td><td>1</td><td>9.4 MB</td></tr><tr><td>49974</td><td>1</td><td>9.4 MB</td></tr><tr><td>50026</td><td>1</td><td>9.4 MB</td></tr><tr><td>50100</td><td>1</td><td>9.4 MB</td></tr><tr><td>50268</td><td>1</td><td>9.4 MB</td></tr><tr><td>50465</td><td>1</td><td>9.4 MB</td></tr><tr><td>50561</td><td>1</td><td>9.4 MB</td></tr><tr><td>50720</td><td>1</td><td>9.4 MB</td></tr><tr><td>50769</td><td>1</td><td>9.4 MB</td></tr><tr><td>50795</td><td>1</td><td>9.4 MB</td></tr><tr><td>50822</td><td>1</td><td>9.4 MB</td></tr><tr><td>50848</td><td>1</td><td>9.4 MB</td></tr><tr><td>50865</td><td>1</td><td>9.4 MB</td></tr><tr><td>50949</td><td>1</td><td>9.4 MB</td></tr><tr><td>51146</td><td>1</td><td>9.4 MB</td></tr><tr><td>51178</td><td>1</td><td>9.4 MB</td></tr><tr><td>51408</td><td>1</td><td>9.4 MB</td></tr><tr><td>51493</td><td>1</td><td>9.4 MB</td></tr><tr><td>51676</td><td>1</td><td>9.4 MB</td></tr><tr><td>51764</td><td>1</td><td>9.4 MB</td></tr><tr><td>51814</td><td>1</td><td>9.4 MB</td></tr><tr><td>51881</td><td>1</td><td>9.4 MB</td></tr><tr><td>51952</td><td>1</td><td>9.4 MB</td></tr><tr><td>51956</td><td>1</td><td>9.4 MB</td></tr><tr><td>52051</td><td>1</td><td>9.4 MB</td></tr><tr><td>52265</td><td>1</td><td>9.4 MB</td></tr><tr><td>52283</td><td>1</td><td>9.4 MB</td></tr><tr><td>52316</td><td>1</td><td>9.4 MB</td></tr><tr><td>52578</td><td>1</td><td>9.4 MB</td></tr><tr><td>5258</td><td>1</td><td>9.4 MB</td></tr><tr><td>52607</td><td>1</td><td>9.4 MB</td></tr><tr><td>52680</td><td>1</td><td>9.4 MB</td></tr><tr><td>52685</td><td>1</td><td>9.4 MB</td></tr><tr><td>52810</td><td>1</td><td>9.4 MB</td></tr><tr><td>53028</td><td>1</td><td>9.4 MB</td></tr><tr><td>53087</td><td>1</td><td>9.4 MB</td></tr><tr><td>53178</td><td>1</td><td>9.4 MB</td></tr><tr><td>53242</td><td>1</td><td>9.4 MB</td></tr><tr><td>53295</td><td>1</td><td>9.4 MB</td></tr><tr><td>53456</td><td>1</td><td>9.4 MB</td></tr><tr><td>53625</td><td>1</td><td>9.4 MB</td></tr><tr><td>53690</td><td>1</td><td>9.4 MB</td></tr><tr><td>53954</td><td>1</td><td>9.4 MB</td></tr><tr><td>54058</td><td>1</td><td>9.4 MB</td></tr><tr><td>54079</td><td>1</td><td>9.4 MB</td></tr><tr><td>54112</td><td>1</td><td>9.4 MB</td></tr><tr><td>54176</td><td>1</td><td>9.4 MB</td></tr><tr><td>54220</td><td>1</td><td>9.4 MB</td></tr><tr><td>54351</td><td>1</td><td>9.4 MB</td></tr><tr><td>54437</td><td>1</td><td>9.4 MB</td></tr><tr><td>54554</td><td>1</td><td>9.4 MB</td></tr><tr><td>54601</td><td>1</td><td>9.4 MB</td></tr><tr><td>54729</td><td>1</td><td>9.4 MB</td></tr><tr><td>54942</td><td>1</td><td>9.4 MB</td></tr><tr><td>55109</td><td>1</td><td>9.4 MB</td></tr><tr><td>55142</td><td>1</td><td>9.4 MB</td></tr><tr><td>55301</td><td>1</td><td>9.4 MB</td></tr><tr><td>5537</td><td>1</td><td>9.4 MB</td></tr><tr><td>55538</td><td>1</td><td>9.4 MB</td></tr><tr><td>55589</td><td>1</td><td>9.4 MB</td></tr><tr><td>55678</td><td>1</td><td>9.4 MB</td></tr><tr><td>55764</td><td>1</td><td>9.4 MB</td></tr><tr><td>56029</td><td>1</td><td>9.4 MB</td></tr><tr><td>56513</td><td>1</td><td>9.4 MB</td></tr><tr><td>56571</td><td>1</td><td>9.4 MB</td></tr><tr><td>56635</td><td>1</td><td>9.4 MB</td></tr><tr><td>56709</td><td>1</td><td>9.4 MB</td></tr><tr><td>5695</td><td>1</td><td>9.4 MB</td></tr><tr><td>57024</td><td>1</td><td>9.4 MB</td></tr><tr><td>5729</td><td>1</td><td>9.4 MB</td></tr><tr><td>57344</td><td>1</td><td>9.4 MB</td></tr><tr><td>57384</td><td>1</td><td>9.4 MB</td></tr><tr><td>57469</td><td>1</td><td>9.4 MB</td></tr><tr><td>57657</td><td>1</td><td>9.4 MB</td></tr><tr><td>57843</td><td>1</td><td>9.4 MB</td></tr><tr><td>57858</td><td>1</td><td>9.4 MB</td></tr><tr><td>57935</td><td>1</td><td>9.4 MB</td></tr><tr><td>57971</td><td>1</td><td>9.4 MB</td></tr><tr><td>57974</td><td>1</td><td>9.4 MB</td></tr><tr><td>58048</td><td>1</td><td>9.4 MB</td></tr><tr><td>58063</td><td>1</td><td>9.4 MB</td></tr><tr><td>58084</td><td>1</td><td>9.4 MB</td></tr><tr><td>58088</td><td>1</td><td>9.4 MB</td></tr><tr><td>58123</td><td>1</td><td>9.4 MB</td></tr><tr><td>58151</td><td>1</td><td>9.4 MB</td></tr><tr><td>5816</td><td>1</td><td>9.4 MB</td></tr><tr><td>58268</td><td>1</td><td>9.4 MB</td></tr><tr><td>58428</td><td>1</td><td>9.4 MB</td></tr><tr><td>58495</td><td>1</td><td>9.4 MB</td></tr><tr><td>58606</td><td>1</td><td>9.4 MB</td></tr><tr><td>58649</td><td>1</td><td>9.4 MB</td></tr><tr><td>58815</td><td>1</td><td>9.4 MB</td></tr><tr><td>58865</td><td>1</td><td>9.4 MB</td></tr><tr><td>58905</td><td>1</td><td>9.4 MB</td></tr><tr><td>58959</td><td>1</td><td>9.4 MB</td></tr><tr><td>58973</td><td>1</td><td>9.4 MB</td></tr><tr><td>59130</td><td>1</td><td>9.4 MB</td></tr><tr><td>59156</td><td>1</td><td>9.4 MB</td></tr><tr><td>59199</td><td>1</td><td>9.4 MB</td></tr><tr><td>59364</td><td>1</td><td>9.4 MB</td></tr><tr><td>5942</td><td>1</td><td>9.4 MB</td></tr><tr><td>59666</td><td>1</td><td>9.4 MB</td></tr><tr><td>59802</td><td>1</td><td>9.4 MB</td></tr><tr><td>59812</td><td>1</td><td>9.4 MB</td></tr><tr><td>59827</td><td>1</td><td>9.4 MB</td></tr><tr><td>6010</td><td>1</td><td>9.4 MB</td></tr><tr><td>60105</td><td>1</td><td>9.4 MB</td></tr><tr><td>60166</td><td>1</td><td>9.4 MB</td></tr><tr><td>6035</td><td>1</td><td>9.4 MB</td></tr><tr><td>60425</td><td>1</td><td>9.4 MB</td></tr><tr><td>6066</td><td>1</td><td>9.4 MB</td></tr><tr><td>6076</td><td>1</td><td>9.4 MB</td></tr><tr><td>60975</td><td>1</td><td>9.4 MB</td></tr><tr><td>61066</td><td>1</td><td>9.4 MB</td></tr><tr><td>61082</td><td>1</td><td>9.4 MB</td></tr><tr><td>61209</td><td>1</td><td>9.4 MB</td></tr><tr><td>61425</td><td>1</td><td>9.4 MB</td></tr><tr><td>61492</td><td>1</td><td>9.4 MB</td></tr><tr><td>61645</td><td>1</td><td>9.4 MB</td></tr><tr><td>61671</td><td>1</td><td>9.4 MB</td></tr><tr><td>61678</td><td>1</td><td>9.4 MB</td></tr><tr><td>61702</td><td>1</td><td>9.4 MB</td></tr><tr><td>61716</td><td>1</td><td>9.4 MB</td></tr><tr><td>61720</td><td>1</td><td>9.4 MB</td></tr><tr><td>61773</td><td>1</td><td>9.4 MB</td></tr><tr><td>62398</td><td>1</td><td>9.4 MB</td></tr><tr><td>62523</td><td>1</td><td>9.4 MB</td></tr><tr><td>62527</td><td>1</td><td>9.4 MB</td></tr><tr><td>62549</td><td>1</td><td>9.4 MB</td></tr><tr><td>62556</td><td>1</td><td>9.4 MB</td></tr><tr><td>6261</td><td>1</td><td>9.4 MB</td></tr><tr><td>6263</td><td>1</td><td>9.4 MB</td></tr><tr><td>6280</td><td>1</td><td>9.4 MB</td></tr><tr><td>6282</td><td>1</td><td>9.4 MB</td></tr><tr><td>62887</td><td>1</td><td>9.4 MB</td></tr><tr><td>6315</td><td>1</td><td>9.4 MB</td></tr><tr><td>63325</td><td>1</td><td>9.4 MB</td></tr><tr><td>63329</td><td>1</td><td>9.4 MB</td></tr><tr><td>6338</td><td>1</td><td>9.4 MB</td></tr><tr><td>63398</td><td>1</td><td>9.4 MB</td></tr><tr><td>63403</td><td>1</td><td>9.4 MB</td></tr><tr><td>6344</td><td>1</td><td>9.4 MB</td></tr><tr><td>63579</td><td>1</td><td>9.4 MB</td></tr><tr><td>6376</td><td>1</td><td>9.4 MB</td></tr><tr><td>63773</td><td>1</td><td>9.4 MB</td></tr><tr><td>63776</td><td>1</td><td>9.4 MB</td></tr><tr><td>63836</td><td>1</td><td>9.4 MB</td></tr><tr><td>63927</td><td>1</td><td>9.4 MB</td></tr><tr><td>63949</td><td>1</td><td>9.4 MB</td></tr><tr><td>64073</td><td>1</td><td>9.4 MB</td></tr><tr><td>64223</td><td>1</td><td>9.4 MB</td></tr><tr><td>64557</td><td>1</td><td>9.4 MB</td></tr><tr><td>6459</td><td>1</td><td>9.4 MB</td></tr><tr><td>6467</td><td>1</td><td>9.4 MB</td></tr><tr><td>64746</td><td>1</td><td>9.4 MB</td></tr><tr><td>65055</td><td>1</td><td>9.4 MB</td></tr><tr><td>65308</td><td>1</td><td>9.4 MB</td></tr><tr><td>6769</td><td>1</td><td>9.4 MB</td></tr><tr><td>6826</td><td>1</td><td>9.4 MB</td></tr><tr><td>6847</td><td>1</td><td>9.4 MB</td></tr><tr><td>6880</td><td>1</td><td>9.4 MB</td></tr><tr><td>6921</td><td>1</td><td>9.4 MB</td></tr><tr><td>7006</td><td>1</td><td>9.4 MB</td></tr><tr><td>7021</td><td>1</td><td>9.4 MB</td></tr><tr><td>7338</td><td>1</td><td>9.4 MB</td></tr><tr><td>7370</td><td>1</td><td>9.4 MB</td></tr><tr><td>7382</td><td>1</td><td>9.4 MB</td></tr><tr><td>7513</td><td>1</td><td>9.4 MB</td></tr><tr><td>7523</td><td>1</td><td>9.4 MB</td></tr><tr><td>7944</td><td>1</td><td>9.4 MB</td></tr><tr><td>8249</td><td>1</td><td>9.4 MB</td></tr><tr><td>8642</td><td>1</td><td>9.4 MB</td></tr><tr><td>8725</td><td>1</td><td>9.4 MB</td></tr><tr><td>8779</td><td>1</td><td>9.4 MB</td></tr><tr><td>8843</td><td>1</td><td>9.4 MB</td></tr><tr><td>8864</td><td>1</td><td>9.4 MB</td></tr><tr><td>8905</td><td>1</td><td>9.4 MB</td></tr><tr><td>9014</td><td>1</td><td>9.4 MB</td></tr><tr><td>9303</td><td>1</td><td>9.4 MB</td></tr><tr><td>9514</td><td>1</td><td>9.4 MB</td></tr><tr><td>9546</td><td>1</td><td>9.4 MB</td></tr><tr><td>9578</td><td>1</td><td>9.4 MB</td></tr><tr><td>9670</td><td>1</td><td>9.4 MB</td></tr><tr><td>9732</td><td>1</td><td>9.4 MB</td></tr><tr><td>am</td><td>1</td><td>11 kB</td></tr><tr><td>bai</td><td>64</td><td>416.9 MB</td></tr><tr><td>bam</td><td>212</td><td>102.48 GB</td></tr><tr><td>index</td><td>1</td><td>408 kB</td></tr><tr><td>sam</td><td>149</td><td>467.07 GB</td></tr><tr><td>sh</td><td>1</td><td>539 bytes</td></tr></table>"
      ]
     },
     "metadata": {},
     "output_type": "display_data"
    }
   ],
   "source": [
    "masterdict = dict()\n",
    "for name, group in grouped:\n",
    "    print name\n",
    "    filedict = dict()\n",
    "    \n",
    "    for idx, item in group.iterrows():\n",
    "        ext = item[2]\n",
    "        if ext in filedict:\n",
    "            filedict[ext][0] += item[3]\n",
    "            filedict[ext][1] += 1\n",
    "        else:\n",
    "            filedict[ext] = [item[3], 1]\n",
    "    tbl = ListTable()\n",
    "    tbl.append(['extension', '# files', 'size'])\n",
    "    for key in sorted(filedict.keys()):\n",
    "        tbl.append([key, str(filedict[key][1]), sizeof_fmt(filedict[key][0])])\n",
    "    display.display_html(tbl)\n",
    "    for key in filedict:\n",
    "        if key in masterdict:\n",
    "            masterdict[key][0] += filedict[key][0]\n",
    "            masterdict[key][1] += filedict[key][1]\n",
    "        else:\n",
    "            masterdict[key] = filedict[key]\n",
    "\n",
    "    "
   ]
  },
  {
   "cell_type": "code",
   "execution_count": null,
   "metadata": {
    "collapsed": false
   },
   "outputs": [],
   "source": [
    "print \"---------------\\n\"\n",
    "print \"Master stats:\\n\"\n",
    "totsize = 0\n",
    "tbl = ListTable()\n",
    "tbl.append(['extension', '# files', 'size'])\n",
    "for key in sorted(masterdict.keys()):\n",
    "    if masterdict[key][0] >= 1*1024*1024*512:\n",
    "        tbl.append([key, str(masterdict[key][1]), sizeof_fmt(masterdict[key][0])])\n",
    "    totsize += masterdict[key][0]\n",
    "print sizeof_fmt(totsize)\n",
    "display.display_html(tbl)"
   ]
  }
 ],
 "metadata": {
  "kernelspec": {
   "display_name": "Python 2",
   "language": "python",
   "name": "python2"
  },
  "language_info": {
   "codemirror_mode": {
    "name": "ipython",
    "version": 2
   },
   "file_extension": ".py",
   "mimetype": "text/x-python",
   "name": "python",
   "nbconvert_exporter": "python",
   "pygments_lexer": "ipython2",
   "version": "2.7.10"
  }
 },
 "nbformat": 4,
 "nbformat_minor": 0
}
