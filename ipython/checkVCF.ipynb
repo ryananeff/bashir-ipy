{
 "cells": [
  {
   "cell_type": "code",
   "execution_count": 1,
   "metadata": {
    "collapsed": true
   },
   "outputs": [],
   "source": [
    "%run ./ipy_setup.py"
   ]
  },
  {
   "cell_type": "code",
   "execution_count": 2,
   "metadata": {
    "collapsed": true
   },
   "outputs": [],
   "source": [
    "%matplotlib inline"
   ]
  },
  {
   "cell_type": "code",
   "execution_count": 3,
   "metadata": {
    "collapsed": false
   },
   "outputs": [],
   "source": [
    "import os\n",
    "import sys\n",
    "import pysam\n",
    "import vcf\n",
    "import itertools\n",
    "import string\n",
    "import numpy as np\n",
    "from collections import Counter\n",
    "from copy import deepcopy"
   ]
  },
  {
   "cell_type": "code",
   "execution_count": 4,
   "metadata": {
    "collapsed": true
   },
   "outputs": [],
   "source": [
    "def readVcfToDict (vcf_reader, sample_id = \"hg002\"):\n",
    "    snpChromDict = {}\n",
    "    snpChromDictUnphased = {}\n",
    "    chrom = None\n",
    "    rcount = 0\n",
    "    for record in vcf_reader:\n",
    "        #print record\n",
    "        rcount += 1\n",
    "        if chrom != record.CHROM:\n",
    "            print >>sys.stderr, \"...reading chrom %s\" %(record.CHROM)\n",
    "            snpChromDict.setdefault(record.CHROM, {})\n",
    "            snpChromDictUnphased.setdefault(record.CHROM, {})\n",
    "        if rcount % 1000 == 0:\n",
    "            print >>sys.stderr, \"...read %s vars\" %(rcount)\n",
    "        if record.CHROM != \"000000F\":\n",
    "            print >>sys.stderr, \"...exiting out of function early after first contig\"\n",
    "            return snpChromDict, snpChromDictUnphased\n",
    "        chrom, ref, alt, pos = record.CHROM, record.REF, record.ALT, record.POS\n",
    "\n",
    "        gt_sample = record.genotype(sample_id)['GT']\n",
    "        if gt_sample != None:\n",
    "            if \"|\" in gt_sample:\n",
    "                mat_gt, pat_gt = map(int, gt_sample.split(\"|\"))\n",
    "                if mat_gt == pat_gt:\n",
    "                    continue\n",
    "                snpChromDict[chrom][int(pos)] = (mat_gt, pat_gt)\n",
    "            if \"/\" in gt_sample:\n",
    "                mat_gt, pat_gt = map(int, gt_sample.split(\"/\"))\n",
    "                if mat_gt == pat_gt:\n",
    "                    continue\n",
    "                snpChromDictUnphased[chrom][int(pos)] = (mat_gt, pat_gt)\n",
    "    return snpChromDict, snpChromDictUnphased"
   ]
  },
  {
   "cell_type": "code",
   "execution_count": 5,
   "metadata": {
    "collapsed": true
   },
   "outputs": [],
   "source": [
    "def parseHapCutOut (hapcutoutfn):\n",
    "    with open (hapcutoutfn) as f:\n",
    "        f.readline()\n",
    "        block = []\n",
    "        for l in f:\n",
    "            if l[0] == \"B\":\n",
    "                yield block\n",
    "                block = []\n",
    "            else:\n",
    "                ll = l.split(\"\\t\")\n",
    "                if len(ll) > 5:\n",
    "                    hap1, hap2, chrom, pos = ll[1:5]\n",
    "                    hap1, hap2, pos = int(hap1), int(hap2), int(pos)\n",
    "                    block.append((hap1, hap2, chrom, pos))\n",
    "                \n",
    "        yield block"
   ]
  },
  {
   "cell_type": "code",
   "execution_count": 7,
   "metadata": {
    "collapsed": true
   },
   "outputs": [],
   "source": [
    "def calculateSwitchError (switch_list):\n",
    "    switches = 0\n",
    "    if len(switch_list) == 0:\n",
    "        return switches, 0\n",
    "    curr_s = switch_list[0]\n",
    "    for s in switch_list[1:]:\n",
    "        if s != curr_s:\n",
    "            switches += 1\n",
    "        curr_s = s\n",
    "    if len(switch_list) == 1:\n",
    "        return 0, 0\n",
    "    else:\n",
    "        return switches, switches/(float(len(switch_list))-1)"
   ]
  },
  {
   "cell_type": "code",
   "execution_count": 9,
   "metadata": {
    "collapsed": true
   },
   "outputs": [],
   "source": [
    "def measureBlockConcordance (block, snpDict, snpDictUnphased={}):\n",
    "    pcount = 0\n",
    "    mcount = 0\n",
    "    missing_from_trio = 0\n",
    "    missing_from_file = 0\n",
    "    missing_other = 0\n",
    "    switch_list = []\n",
    "    for var in block:\n",
    "        pos = var[3]\n",
    "        if pos in snpDict:\n",
    "            if snpDict[pos][0] == var[0]:\n",
    "                mcount += 1\n",
    "                switch_list.append(0)\n",
    "            elif snpDict[pos][1] == var[0]:\n",
    "                pcount += 1\n",
    "                switch_list.append(1)\n",
    "            else:\n",
    "                missing_other += 1\n",
    "        elif pos in snpDictUnphased:\n",
    "            missing_from_trio += 1\n",
    "        else:\n",
    "            missing_from_file += 1\n",
    "    if missing_from_trio + missing_from_file == len(block):\n",
    "        return 0, max(pcount, mcount), missing_from_trio, missing_from_file, missing_other, switch_list\n",
    "    else:\n",
    "        denom = (len(block)-missing_from_trio-missing_from_file)\n",
    "        return float(max(pcount, mcount))/denom, max(pcount, mcount), missing_from_trio, missing_from_file, missing_other, switch_list\n"
   ]
  },
  {
   "cell_type": "code",
   "execution_count": 10,
   "metadata": {
    "collapsed": true
   },
   "outputs": [],
   "source": [
    "def measureBlockConcordanceWithPos (block, snpDict, snpDictUnphased={}):\n",
    "    pcount = 0\n",
    "    mcount = 0\n",
    "    missing_from_trio = 0\n",
    "    missing_from_file = 0\n",
    "    missing_other = 0\n",
    "    switch_list = []\n",
    "    switchpos_list = []\n",
    "    for var in block:\n",
    "        pos = var[3]\n",
    "        if pos in snpDict:\n",
    "            if snpDict[pos][0] == var[0]:\n",
    "                mcount += 1\n",
    "                switch_list.append(0)\n",
    "                switchpos_list.append(pos)\n",
    "            elif snpDict[pos][1] == var[0]:\n",
    "                pcount += 1\n",
    "                switch_list.append(1)\n",
    "                switchpos_list.append(pos)\n",
    "            else:\n",
    "                missing_other += 1\n",
    "        elif pos in snpDictUnphased:\n",
    "            missing_from_trio += 1\n",
    "        else:\n",
    "            missing_from_file += 1\n",
    "    if missing_from_trio + missing_from_file == len(block):\n",
    "        return 0, max(pcount, mcount), missing_from_trio, missing_from_file, missing_other, switch_list, \\\n",
    "    switchpos_list\n",
    "    else:\n",
    "        denom = (len(block)-missing_from_trio-missing_from_file)\n",
    "        return float(max(pcount, mcount))/denom, max(pcount, mcount), missing_from_trio, missing_from_file, \\\n",
    "    missing_other, switch_list, switchpos_list\n"
   ]
  },
  {
   "cell_type": "code",
   "execution_count": 11,
   "metadata": {
    "collapsed": true
   },
   "outputs": [],
   "source": [
    "def calculateX50 ( rawvals ):\n",
    "    vals = deepcopy(rawvals)\n",
    "    vals.sort(reverse=True)\n",
    "    vsum = sum(vals)\n",
    "    currsum = 0\n",
    "    for v in vals:\n",
    "        currsum += v\n",
    "        if currsum >= .5*vsum:\n",
    "            return v"
   ]
  },
  {
   "cell_type": "code",
   "execution_count": 12,
   "metadata": {
    "collapsed": true
   },
   "outputs": [],
   "source": [
    "def getVCF(vcffn):\n",
    "    print >>sys.stderr, \"opening vcf file %s\" %(vcffn)\n",
    "    vcf_reader = vcf.Reader(filename=vcffn)\n",
    "    print >>sys.stderr, \"reading vcf file . . .\"\n",
    "    snpChromDict, snpChromDictUnphased = readVcfToDict (vcf_reader)\n",
    "    print >>sys.stderr, \"finished reading vcf file\"\n",
    "    return snpChromDict, snpChromDictUnphased"
   ]
  },
  {
   "cell_type": "code",
   "execution_count": 13,
   "metadata": {
    "collapsed": true
   },
   "outputs": [],
   "source": [
    "def phaseLocalRegions (snpChromDict, snpChromDictUnphased, hapcutfn):    \n",
    "    blocklens = []\n",
    "    blockspans = []\n",
    "    bs = []\n",
    "    triomissings = []\n",
    "    filemissings = []\n",
    "    concordances = []\n",
    "    concounts = []\n",
    "    switch_counts = []\n",
    "    switch_errors = []\n",
    "    othermissings = []\n",
    "    switch_list_all = []\n",
    "    switchpos_list_all = []\n",
    "    print >>sys.stderr, \"reading hapcut blocks: \"\n",
    "    bcount = 0\n",
    "    for block in parseHapCutOut(hapcutfn):\n",
    "        bcount += 1\n",
    "        if bcount % 10000 == 0:\n",
    "            print >>sys.stderr, \". . . read %i blocks\" %(bcount)\n",
    "        positions = map(lambda x: x[3], block)\n",
    "        span = max(positions)-min(positions)\n",
    "        blocklens.append(len(positions))\n",
    "        blockspans.append(span)\n",
    "        bs.append([min(positions), max(positions)])\n",
    "        chrom = block[0][2]\n",
    "        concordance, concount, triomissing, filemissing, othermissing, switch_list, switchpos_list = \\\n",
    "            measureBlockConcordanceWithPos ( block, snpChromDict[chrom], snpChromDictUnphased[chrom])\n",
    "        switches, switch_error = calculateSwitchError (switch_list)\n",
    "        switch_counts.append(switches)\n",
    "        switch_errors.append(switch_error)\n",
    "        switch_list = [abs(i) for i in np.diff(switch_list)]\n",
    "        switch_list_all.extend(switch_list)\n",
    "        switchpos_list_all.extend(switchpos_list[0:-1])\n",
    "        triomissings.append(triomissing)\n",
    "        concordances.append(concordance)\n",
    "        filemissings.append(filemissing)\n",
    "        othermissings.append(othermissing)\n",
    "        concounts.append(concount)\n",
    "    denomsum = sum(blocklens) -  sum(filemissings) - sum(triomissings)\n",
    "    conrate = sum(concounts)/float(denomsum)\n",
    "    switchrate = float(sum(switch_counts))/denomsum\n",
    "    print \"switches              : %i\" %(sum(switch_counts))\n",
    "    print \"concordant snps       : %i\" %(sum(concounts))\n",
    "    print \"total snps in blocks  : %i\" %(sum(blocklens))\n",
    "    print \"missing from trio snps: %i\" %(sum(triomissings))\n",
    "    print \"missing from file snps: %i\" %(sum(filemissings))\n",
    "    print \"other missing     snps: %i\" %(sum(othermissings))\n",
    "    print \"denominator snps      : %i\" %(denomsum)\n",
    "    print \"haplotype accuracy    : %f\" %(conrate)\n",
    "    print \"switch error rate     : %f\" %(switchrate)\n",
    "    \n",
    "    print \"S50: %i\" %(calculateX50 ( blocklens ))\n",
    "    print \"N50: %i\" %(calculateX50 ( blockspans ))\n",
    "    return concordance, concount, triomissing, filemissing, othermissing, switch_list_all, switchpos_list_all, bs"
   ]
  },
  {
   "cell_type": "code",
   "execution_count": 111,
   "metadata": {
    "collapsed": false
   },
   "outputs": [],
   "source": [
    "vcf_fn = \"/hpc/users/neffr01/jason_new/trio_analysis/aj_trio_phasebytrans.phased-trio.vcf\"\n",
    "hapcut_fn1 = \"/Users/alibashir/sshfs/jason_new/hapcut_outputs/hg002_re_000000F/long_short_reads/hg002_hapcut_longshort_regen_000000F.hapcut\"\n",
    "hapcut_fn2 = \"/Users/alibashir/sshfs/jason_new/hapcut_outputs/hg002_re_000000F/long_short_reads/hg002_hapcut_longshort_000000F.hapcut\"\n",
    "hapcut_fn3 = \"/hpc/users/neffr01/jason_new/hapcut_outputs/hg002_re_000000F/hapcut_qv13_mq10/hg002_hapcut_000000F.hapcut\"\n",
    "hapcut_fn4 = \"/hpc/users/neffr01/jason_new/hapcut_outputs/hg002_re_000000F/hg002_more_hapcut.000000F.hapcut\"\n",
    "hapcut_fn5 = \"/hpc/users/neffr01/test_pbcoord_merged.hapcut\""
   ]
  },
  {
   "cell_type": "code",
   "execution_count": 116,
   "metadata": {
    "collapsed": false,
    "scrolled": true
   },
   "outputs": [
    {
     "name": "stdout",
     "output_type": "stream",
     "text": [
      "switches              : 1220\n",
      "concordant snps       : 5021\n",
      "total snps in blocks  : 29622\n",
      "missing from trio snps: 8560\n",
      "missing from file snps: 14415\n",
      "other missing     snps: 0\n",
      "denominator snps      : 6647\n",
      "haplotype accuracy    : 0.755378\n",
      "switch error rate     : 0.183541\n",
      "S50: 18317\n",
      "N50: 743761\n"
     ]
    },
    {
     "name": "stderr",
     "output_type": "stream",
     "text": [
      "reading hapcut blocks: \n"
     ]
    }
   ],
   "source": [
    "#snpChromDict, snpChromDictUnphased = getVCF(vcf_fn)\n",
    "#_,_,_,_,_, switch_list_s, switchpos_list_s, bs_s = \\\n",
    "#phaseLocalRegions (snpChromDict, snpChromDictUnphased, hapcut_fn4)\n",
    "#snpChromDict, snpChromDictUnphased = getVCF(vcf_fn)\n",
    "_,_,_,_,_, switch_list, switchpos_list, bs = \\\n",
    "phaseLocalRegions (snpChromDict, snpChromDictUnphased, hapcut_fn5)"
   ]
  },
  {
   "cell_type": "code",
   "execution_count": 102,
   "metadata": {
    "collapsed": false
   },
   "outputs": [
    {
     "data": {
      "text/plain": [
       "218"
      ]
     },
     "execution_count": 102,
     "metadata": {},
     "output_type": "execute_result"
    }
   ],
   "source": [
    "len(bs)"
   ]
  },
  {
   "cell_type": "code",
   "execution_count": 62,
   "metadata": {
    "collapsed": false
   },
   "outputs": [
    {
     "name": "stdout",
     "output_type": "stream",
     "text": [
      "9894 29393\n",
      "324581 367158\n",
      "797371 814779\n",
      "1003311 1019989\n",
      "1069446 1085375\n",
      "1213313 1225126\n",
      "2483513 2501062\n",
      "2555651 2576607\n",
      "2588354 2611699\n",
      "3021394 3035106\n",
      "3274041 3289332\n",
      "3544279 3558445\n",
      "3841644 3856824\n",
      "3889591 3912069\n",
      "3939669 3965102\n",
      "4175622 4188951\n",
      "5001446 5026148\n",
      "5150739 5174227\n",
      "5499485 5522206\n",
      "5533101 5546416\n",
      "5791244 5820985\n",
      "7148827 7166360\n",
      "7676798 7704616\n",
      "7718906 7737703\n",
      "7811303 7830389\n",
      "7856509 7877638\n",
      "7916281 7943825\n",
      "7980771 7994334\n",
      "8007541 8025649\n",
      "8043818 8069103\n",
      "8152042 8180458\n",
      "8801700 8824614\n",
      "9336099 9362338\n",
      "10360613 10377821\n",
      "11890525 11913420\n",
      "12765268 12787528\n",
      "13305307 13323348\n",
      "13349960 13363167\n",
      "13572651 13589593\n",
      "13743243 13771002\n",
      "13981531 14001467\n",
      "14635535 14651204\n",
      "15337804 15357978\n",
      "15846416 15869035\n",
      "15916933 15938999\n",
      "16455980 16470487\n",
      "16957508 16980396\n",
      "17179293 17196788\n",
      "17265503 17285843\n",
      "17946821 17965376\n",
      "18374528 18387166\n",
      "18674723 18690447\n",
      "18788928 18809181\n",
      "19444747 19462596\n",
      "20729791 20745089\n",
      "20823481 20846387\n",
      "20847985 20867905\n",
      "21428346 21451924\n",
      "21552954 21567673\n",
      "21789661 21819085\n",
      "22356416 22381278\n",
      "22390892 22413087\n",
      "22544692 22563176\n",
      "22626776 22656067\n",
      "22669993 22700209\n",
      "23045221 23063314\n",
      "23074234 23090365\n",
      "23440001 23464481\n",
      "24468043 24489718\n",
      "24501419 24531133\n",
      "24626171 24649368\n",
      "25915059 25937546\n",
      "26503833 26521824\n",
      "26610867 26627070\n",
      "26634892 26655031\n",
      "26908590 26926522\n",
      "27004397 27024467\n",
      "27033358 27065336\n",
      "27743144 27765781\n",
      "28126076 28148568\n",
      "28628909 28651739\n",
      "28722221 28737976\n",
      "28809379 28832685\n",
      "30280080 30303265\n",
      "30487181 30514749\n",
      "30694255 30706846\n",
      "30707379 30722278\n",
      "30846637 30875534\n",
      "31424261 31449422\n",
      "31704522 31724400\n",
      "31757358 31769746\n",
      "31773277 31788691\n",
      "32276468 32297398\n",
      "32298527 32317277\n",
      "32372315 32383980\n",
      "32403231 32422924\n",
      "32599687 32616780\n",
      "32957565 32980826\n"
     ]
    },
    {
     "data": {
      "text/plain": [
       "[[19499, [5369, 9894], [29393, 36129]],\n",
       " [42577, [67661, 324581], [367158, 489672]],\n",
       " [17408, [786438, 797371], [814779, 916586]],\n",
       " [16678, [944680, 1003311], [1019989, 1069446]],\n",
       " [15929, [1019989, 1069446], [1085375, 1213313]],\n",
       " [11813, [1085375, 1213313], [1225126, 1832991]],\n",
       " [17549, [2039042, 2483513], [2501062, 2555651]],\n",
       " [20956, [2501062, 2555651], [2576607, 2588354]],\n",
       " [23345, [2576607, 2588354], [2611699, 2803738]],\n",
       " [13712, [3006681, 3021394], [3035106, 3274041]],\n",
       " [15291, [3035106, 3274041], [3289332, 3544279]],\n",
       " [14166, [3289332, 3544279], [3558445, 3841644]],\n",
       " [15180, [3558445, 3841644], [3856824, 3889591]],\n",
       " [22478, [3856824, 3889591], [3912069, 3939669]],\n",
       " [25433, [3912069, 3939669], [3965102, 4175622]],\n",
       " [13329, [3965102, 4175622], [4188951, 4481397]],\n",
       " [24702, [4992996, 5001446], [5026148, 5044424]],\n",
       " [23488, [5137537, 5150739], [5174227, 5193606]],\n",
       " [22721, [5326963, 5499485], [5522206, 5533101]],\n",
       " [13315, [5522206, 5533101], [5546416, 5622144]],\n",
       " [29741, [5639309, 5791244], [5820985, 5853029]],\n",
       " [17533, [7120378, 7148827], [7166360, 7548075]],\n",
       " [27818, [7628004, 7676798], [7704616, 7718906]],\n",
       " [18797, [7704616, 7718906], [7737703, 7811303]],\n",
       " [19086, [7737703, 7811303], [7830389, 7856509]],\n",
       " [21129, [7830389, 7856509], [7877638, 7916281]],\n",
       " [27544, [7877638, 7916281], [7943825, 7980771]],\n",
       " [13563, [7943825, 7980771], [7994334, 8007541]],\n",
       " [18108, [7994334, 8007541], [8025649, 8043818]],\n",
       " [25285, [8025649, 8043818], [8069103, 8152042]],\n",
       " [28416, [8069103, 8152042], [8180458, 8235565]],\n",
       " [22914, [8651977, 8801700], [8824614, 8855861]],\n",
       " [26239, [9126462, 9336099], [9362338, 9381259]],\n",
       " [17208, [9404063, 10360613], [10377821, 10704151]],\n",
       " [22895, [11741289, 11890525], [11913420, 11934898]],\n",
       " [22260, [12052443, 12765268], [12787528, 13054269]],\n",
       " [18041, [13109645, 13305307], [13323348, 13349960]],\n",
       " [13207, [13323348, 13349960], [13363167, 13572651]],\n",
       " [16942, [13363167, 13572651], [13589593, 13743243]],\n",
       " [27759, [13589593, 13743243], [13771002, 13981531]],\n",
       " [19936, [13771002, 13981531], [14001467, 14124095]],\n",
       " [15669, [14483092, 14635535], [14651204, 14662157]],\n",
       " [20174, [14966122, 15337804], [15357978, 15501699]],\n",
       " [22619, [15844909, 15846416], [15869035, 15916933]],\n",
       " [22066, [15869035, 15916933], [15938999, 16007993]],\n",
       " [14507, [16443323, 16455980], [16470487, 16478812]],\n",
       " [22888, [16597131, 16957508], [16980396, 17020369]],\n",
       " [17495, [17075380, 17179293], [17196788, 17208151]],\n",
       " [20340, [17233796, 17265503], [17285843, 17665501]],\n",
       " [18555, [17717757, 17946821], [17965376, 18374528]],\n",
       " [12638, [17965376, 18374528], [18387166, 18674723]],\n",
       " [15724, [18387166, 18674723], [18690447, 18730666]],\n",
       " [20253, [18753276, 18788928], [18809181, 18998860]],\n",
       " [17849, [19360373, 19444747], [19462596, 19465998]],\n",
       " [15298, [19729138, 20729791], [20745089, 20823481]],\n",
       " [22906, [20745089, 20823481], [20846387, 20847985]],\n",
       " [19920, [20846387, 20847985], [20867905, 21030881]],\n",
       " [23578, [21420555, 21428346], [21451924, 21454143]],\n",
       " [14719, [21538070, 21552954], [21567673, 21570811]],\n",
       " [29424, [21767760, 21789661], [21819085, 21837162]],\n",
       " [24862, [22355233, 22356416], [22381278, 22390892]],\n",
       " [22195, [22381278, 22390892], [22413087, 22544692]],\n",
       " [18484, [22413087, 22544692], [22563176, 22626776]],\n",
       " [29291, [22563176, 22626776], [22656067, 22669993]],\n",
       " [30216, [22656067, 22669993], [22700209, 22976764]],\n",
       " [18093, [23008182, 23045221], [23063314, 23074234]],\n",
       " [16131, [23063314, 23074234], [23090365, 23095293]],\n",
       " [24480, [23290245, 23440001], [23464481, 23475298]],\n",
       " [21675, [24096892, 24468043], [24489718, 24501419]],\n",
       " [29714, [24489718, 24501419], [24531133, 24626171]],\n",
       " [23197, [24531133, 24626171], [24649368, 24653275]],\n",
       " [22487, [25353686, 25915059], [25937546, 25938988]],\n",
       " [17991, [26278114, 26503833], [26521824, 26610867]],\n",
       " [16203, [26521824, 26610867], [26627070, 26634892]],\n",
       " [20139, [26627070, 26634892], [26655031, 26811945]],\n",
       " [17932, [26896739, 26908590], [26926522, 27004397]],\n",
       " [20070, [26926522, 27004397], [27024467, 27033358]],\n",
       " [31978, [27024467, 27033358], [27065336, 27280964]],\n",
       " [22637, [27314041, 27743144], [27765781, 27805903]],\n",
       " [22492, [28119925, 28126076], [28148568, 28159640]],\n",
       " [22830, [28318981, 28628909], [28651739, 28722221]],\n",
       " [15755, [28651739, 28722221], [28737976, 28809379]],\n",
       " [23306, [28737976, 28809379], [28832685, 30280080]],\n",
       " [23185, [28832685, 30280080], [30303265, 30308778]],\n",
       " [27568, [30479757, 30487181], [30514749, 30694255]],\n",
       " [12591, [30514749, 30694255], [30706846, 30707379]],\n",
       " [14899, [30706846, 30707379], [30722278, 30846637]],\n",
       " [28897, [30722278, 30846637], [30875534, 31117781]],\n",
       " [25161, [31180721, 31424261], [31449422, 31465126]],\n",
       " [19878, [31514328, 31704522], [31724400, 31757358]],\n",
       " [12388, [31724400, 31757358], [31769746, 31773277]],\n",
       " [15414, [31769746, 31773277], [31788691, 32170544]],\n",
       " [20930, [32251312, 32276468], [32297398, 32298527]],\n",
       " [18750, [32297398, 32298527], [32317277, 32372315]],\n",
       " [11665, [32317277, 32372315], [32383980, 32403231]],\n",
       " [19693, [32383980, 32403231], [32422924, 32440654]],\n",
       " [17093, [32491859, 32599687], [32616780, 32957565]],\n",
       " [23261, [32616780, 32957565], [32980826, 33309844]]]"
      ]
     },
     "execution_count": 62,
     "metadata": {},
     "output_type": "execute_result"
    }
   ],
   "source": [
    "count = 0\n",
    "switchcount = 0\n",
    "ibd_sizes = []\n",
    "for s,e in bs:\n",
    "    linked = [block for block in bs_s if block[0] >= s and block[1] <= e]\n",
    "    if len(linked) > 1:\n",
    "        #print count, s,e, linked\n",
    "        for ix in range(0,len(linked)-1):\n",
    "            count += 1\n",
    "            ss = linked[ix][1]\n",
    "            ee = linked[ix+1][0]\n",
    "            print \"000000F\", ss, ee\n",
    "            ibd_sizes.append([ee-ss, linked[ix], linked[ix+1]])\n",
    "            #if len([i for i in switchpos_list if i >= ss and i < ee]) !=0:\n",
    "            #    switchcount += 1\n",
    "#print count, switchcount\n",
    "ibd_sizes"
   ]
  },
  {
   "cell_type": "code",
   "execution_count": 55,
   "metadata": {
    "collapsed": false
   },
   "outputs": [
    {
     "data": {
      "text/plain": [
       "0.5306122448979592"
      ]
     },
     "execution_count": 55,
     "metadata": {},
     "output_type": "execute_result"
    }
   ],
   "source": [
    "52/98."
   ]
  },
  {
   "cell_type": "code",
   "execution_count": 192,
   "metadata": {
    "collapsed": false
   },
   "outputs": [
    {
     "name": "stdout",
     "output_type": "stream",
     "text": [
      "0.047619047619\n"
     ]
    }
   ],
   "source": [
    "merge_regions = []\n",
    "last_end = None\n",
    "switch_errors_new = []\n",
    "switch_diff_list = np.diff(switch_list)\n",
    "switch_diff_list = [abs(i) for i in switch_diff_list]\n",
    "switch_methyl = zip(switchpos_list, switch_list)\n",
    "for ix,item in enumerate(bs_s[1:len(bs_s)]):\n",
    "    end = bs_s[ix][1]\n",
    "    start = bs_s[ix+1][0]\n",
    "    #print end, start\n",
    "    switch_errors_new.extend([(a,b) for a,b in switch_methyl if (a >= end) & (a <= start)])\n",
    "print sum([b for a,b in switch_errors_new])/float(len(switch_errors_new))"
   ]
  },
  {
   "cell_type": "code",
   "execution_count": 193,
   "metadata": {
    "collapsed": false
   },
   "outputs": [
    {
     "data": {
      "text/plain": [
       "[29393,\n",
       " 51676,\n",
       " 324581,\n",
       " 348103,\n",
       " 489672,\n",
       " 512097,\n",
       " 647942,\n",
       " 663949,\n",
       " 786438,\n",
       " 944680,\n",
       " 1019989,\n",
       " 1069446,\n",
       " 1213313,\n",
       " 1225126,\n",
       " 1832991,\n",
       " 1920508,\n",
       " 2483513,\n",
       " 2555651,\n",
       " 2576607,\n",
       " 2588354,\n",
       " 2611699,\n",
       " 2803738,\n",
       " 2847178,\n",
       " 2859179,\n",
       " 2951301,\n",
       " 3035106,\n",
       " 3558445,\n",
       " 3856824,\n",
       " 3889591,\n",
       " 3912069,\n",
       " 3939669,\n",
       " 3965102,\n",
       " 4175622,\n",
       " 4188951,\n",
       " 4553082,\n",
       " 4676047,\n",
       " 5026148,\n",
       " 5044424,\n",
       " 5150739,\n",
       " 5193606,\n",
       " 5267345,\n",
       " 5499485,\n",
       " 5533101,\n",
       " 5791244,\n",
       " 5820985,\n",
       " 6373916,\n",
       " 6518471,\n",
       " 6717392,\n",
       " 6780299,\n",
       " 7084960,\n",
       " 7148827,\n",
       " 7548075,\n",
       " 7628004,\n",
       " 7718906,\n",
       " 7737703,\n",
       " 7830389,\n",
       " 7856509,\n",
       " 8025649,\n",
       " 8180458,\n",
       " 8366778,\n",
       " 8525495,\n",
       " 8651977,\n",
       " 8801700,\n",
       " 8959842,\n",
       " 9019236,\n",
       " 9027090,\n",
       " 9104190,\n",
       " 9381259,\n",
       " 10360613,\n",
       " 10377821,\n",
       " 10729170,\n",
       " 11890525,\n",
       " 11913420,\n",
       " 11997492,\n",
       " 13054269,\n",
       " 13743243,\n",
       " 14172849,\n",
       " 14334473,\n",
       " 14635535,\n",
       " 14651204,\n",
       " 14930271,\n",
       " 15501699,\n",
       " 15537982,\n",
       " 15540566,\n",
       " 15646290,\n",
       " 15699828,\n",
       " 15846416,\n",
       " 15916933,\n",
       " 15938999,\n",
       " 16409030,\n",
       " 16443323,\n",
       " 16597131,\n",
       " 16957508,\n",
       " 16980396,\n",
       " 17020369,\n",
       " 17043269,\n",
       " 17075380,\n",
       " 17179293,\n",
       " 17233796,\n",
       " 17665501,\n",
       " 18374528,\n",
       " 18674723,\n",
       " 18690447,\n",
       " 18730666,\n",
       " 18753276,\n",
       " 18809181,\n",
       " 19072906,\n",
       " 19094250,\n",
       " 19316799,\n",
       " 19360373,\n",
       " 19512047,\n",
       " 19579768,\n",
       " 19729138,\n",
       " 20729791,\n",
       " 20846387,\n",
       " 20867905,\n",
       " 21030881,\n",
       " 21115746,\n",
       " 21428346,\n",
       " 21451924,\n",
       " 21496674,\n",
       " 21552954,\n",
       " 21570811,\n",
       " 21688281,\n",
       " 21789661,\n",
       " 22355233,\n",
       " 22356416,\n",
       " 22390892,\n",
       " 22413087,\n",
       " 22544692,\n",
       " 22626776,\n",
       " 22656067,\n",
       " 22669993,\n",
       " 23008182,\n",
       " 23063314,\n",
       " 23124233,\n",
       " 23290245,\n",
       " 23440001,\n",
       " 23524540,\n",
       " 23609156,\n",
       " 23636976,\n",
       " 23785333,\n",
       " 23813708,\n",
       " 23983733,\n",
       " 24489718,\n",
       " 24501419,\n",
       " 25044052,\n",
       " 25058530,\n",
       " 25353686,\n",
       " 25915059,\n",
       " 26052981,\n",
       " 26237274,\n",
       " 26239488,\n",
       " 26278114,\n",
       " 26503833,\n",
       " 26610867,\n",
       " 26634892,\n",
       " 26811945,\n",
       " 26908590,\n",
       " 26926522,\n",
       " 27004397,\n",
       " 27049392,\n",
       " 27743144,\n",
       " 27765781,\n",
       " 27805903,\n",
       " 27830097,\n",
       " 28062079,\n",
       " 28126076,\n",
       " 28148568,\n",
       " 28159640,\n",
       " 28628909,\n",
       " 28651739,\n",
       " 28722221,\n",
       " 28832685,\n",
       " 30479757,\n",
       " 30487181,\n",
       " 30694255,\n",
       " 30722278,\n",
       " 30846637,\n",
       " 31180721,\n",
       " 32170544,\n",
       " 32251312,\n",
       " 32297398,\n",
       " 32298527,\n",
       " 32317277,\n",
       " 32599687,\n",
       " 32616780,\n",
       " 32957565,\n",
       " 32980826]"
      ]
     },
     "execution_count": 193,
     "metadata": {},
     "output_type": "execute_result"
    }
   ],
   "source": [
    "[a for a,b in switch_errors_new]"
   ]
  },
  {
   "cell_type": "code",
   "execution_count": 202,
   "metadata": {
    "collapsed": false
   },
   "outputs": [
    {
     "data": {
      "text/plain": [
       "7938"
      ]
     },
     "execution_count": 202,
     "metadata": {},
     "output_type": "execute_result"
    }
   ],
   "source": [
    "len(switch_list_s)"
   ]
  },
  {
   "cell_type": "code",
   "execution_count": 207,
   "metadata": {
    "collapsed": false
   },
   "outputs": [
    {
     "data": {
      "image/png": "[encoded data removed]",
      "text/plain": [
       "<matplotlib.figure.Figure at 0x7f40ab558850>"
      ]
     },
     "metadata": {},
     "output_type": "display_data"
    }
   ],
   "source": [
    "pd.set_option('display.width', 500)\n",
    "pd.set_option('display.max_columns', 100)\n",
    "plt.style.use('ggplot')\n",
    "rcParams['figure.figsize'] = (20, 8)\n",
    "rcParams['figure.dpi'] = 150\n",
    "rcParams['font.size'] = 16\n",
    "rcParams['font.family'] = 'Bitstream Vera Sans'\n",
    "fig, ax = plt.subplots()\n",
    "\n",
    "for s,e in bs_s:\n",
    "    ax.axvspan(s,e,ymin=0, ymax=2500000, alpha=0.2, color='b')\n",
    "for s,e in bs:\n",
    "    ax.axvspan(s,e,ymin=0, ymax=2500000, alpha=0.2, color='r')\n",
    "ax.plot(switchpos_list_s, switch_list_s, color='b', alpha=0.5, lw=4)\n",
    "ax.plot(switchpos_list, switch_list, color='r', alpha=0.3, lw=4) #methyl\n",
    "ax.set_xlim([2500000,6500000])\n",
    "ax.set_ylim([-0.1,1.1])\n",
    "plt.show()"
   ]
  },
  {
   "cell_type": "code",
   "execution_count": 68,
   "metadata": {
    "collapsed": false,
    "scrolled": false
   },
   "outputs": [
    {
     "name": "stderr",
     "output_type": "stream",
     "text": [
      "opening vcf file /Users/alibashir/sshfs/jason_new/trio_analysis/aj_trio_phasebytrans.phased-trio.vcf\n",
      "reading vcf file . . .\n",
      "...reading chrom 000000F\n",
      "...read 100000 vars\n",
      "...reading chrom 000001F\n",
      "...exiting out of function early after first contig\n",
      "finished reading vcf file\n",
      "reading hapcut blocks: \n",
      "opening vcf file /Users/alibashir/sshfs/jason_new/trio_analysis/aj_trio_phasebytrans.phased-trio.vcf\n",
      "reading vcf file . . .\n",
      "...reading chrom 000000F\n",
      "...read 100000 vars\n",
      "...reading chrom 000001F"
     ]
    },
    {
     "name": "stdout",
     "output_type": "stream",
     "text": [
      "switches              : 3294\n",
      "concordant snps       : 6384\n",
      "total snps in blocks  : 73369\n",
      "missing from trio snps: 14845\n",
      "missing from file snps: 46911\n",
      "other missing     snps: 0\n",
      "denominator snps      : 11613\n",
      "haplotype accuracy    : 0.549729\n",
      "switch error rate     : 0.283648\n",
      "S50: 58877\n",
      "N50: 27040168\n",
      "switches              : 4262"
     ]
    },
    {
     "name": "stderr",
     "output_type": "stream",
     "text": [
      "\n",
      "...exiting out of function early after first contig\n",
      "finished reading vcf file\n",
      "reading hapcut blocks: \n",
      "opening vcf file /Users/alibashir/sshfs/jason_new/trio_analysis/aj_trio_phasebytrans.phased-trio.vcf\n",
      "reading vcf file . . .\n",
      "...reading chrom 000000F\n",
      "...read 100000 vars\n",
      "...reading chrom 000001F"
     ]
    },
    {
     "name": "stdout",
     "output_type": "stream",
     "text": [
      "\n",
      "concordant snps       : 11697\n",
      "total snps in blocks  : 51861\n",
      "missing from trio snps: 26575\n",
      "missing from file snps: 7723\n",
      "other missing     snps: 0\n",
      "denominator snps      : 17563\n",
      "haplotype accuracy    : 0.666002\n",
      "switch error rate     : 0.242669\n",
      "S50: 1103\n",
      "N50: 626525\n",
      "switches              : 410"
     ]
    },
    {
     "name": "stderr",
     "output_type": "stream",
     "text": [
      "\n",
      "...exiting out of function early after first contig\n",
      "finished reading vcf file\n",
      "reading hapcut blocks: \n",
      "opening vcf file /Users/alibashir/sshfs/jason_new/trio_analysis/aj_trio_phasebytrans.phased-trio.vcf\n",
      "reading vcf file . . .\n",
      "...reading chrom 000000F\n",
      "...read 100000 vars\n",
      "...reading chrom 000001F"
     ]
    },
    {
     "name": "stdout",
     "output_type": "stream",
     "text": [
      "\n",
      "concordant snps       : 7155\n",
      "total snps in blocks  : 19682\n",
      "missing from trio snps: 11458\n",
      "missing from file snps: 136\n",
      "other missing     snps: 0\n",
      "denominator snps      : 8088\n",
      "haplotype accuracy    : 0.884644\n",
      "switch error rate     : 0.050692\n",
      "S50: 204\n",
      "N50: 220011\n",
      "switches              : 336\n",
      "concordant snps       : 7049\n",
      "total snps in blocks  : 19901\n",
      "missing from trio snps: 11622\n",
      "missing from file snps: 148\n",
      "other missing     snps: 0\n",
      "denominator snps      : 8131\n",
      "haplotype accuracy    : 0.866929\n",
      "switch error rate     : 0.041323\n",
      "S50: 259\n",
      "N50: 287557\n"
     ]
    },
    {
     "name": "stderr",
     "output_type": "stream",
     "text": [
      "\n",
      "...exiting out of function early after first contig\n",
      "finished reading vcf file\n",
      "reading hapcut blocks: \n"
     ]
    }
   ],
   "source": [
    "phaseLocalRegions (vcf_fn, hapcut_fn1)\n",
    "phaseLocalRegions (vcf_fn, hapcut_fn2)\n",
    "phaseLocalRegions (vcf_fn, hapcut_fn3)\n",
    "phaseLocalRegions (vcf_fn, hapcut_fn4)"
   ]
  },
  {
   "cell_type": "code",
   "execution_count": null,
   "metadata": {
    "collapsed": true
   },
   "outputs": [],
   "source": []
  }
 ],
 "metadata": {
  "kernelspec": {
   "display_name": "Python 2",
   "language": "python",
   "name": "python2"
  },
  "language_info": {
   "codemirror_mode": {
    "name": "ipython",
    "version": 2
   },
   "file_extension": ".py",
   "mimetype": "text/x-python",
   "name": "python",
   "nbconvert_exporter": "python",
   "pygments_lexer": "ipython2",
   "version": "2.7.10"
  }
 },
 "nbformat": 4,
 "nbformat_minor": 0
}
