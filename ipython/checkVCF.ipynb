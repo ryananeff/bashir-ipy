{
 "cells": [
  {
   "cell_type": "code",
   "execution_count": 4,
   "metadata": {
    "collapsed": false
   },
   "outputs": [],
   "source": [
    "import os\n",
    "import sys\n",
    "import pysam\n",
    "import vcf\n",
    "import itertools\n",
    "import string\n",
    "import numpy as np\n",
    "from collections import Counter\n",
    "from copy import deepcopy"
   ]
  },
  {
   "cell_type": "code",
   "execution_count": 17,
   "metadata": {
    "collapsed": true
   },
   "outputs": [],
   "source": [
    "def readVcfToDict (vcf_reader, sample_id = \"hg002\"):\n",
    "    snpChromDict = {}\n",
    "    snpChromDictUnphased = {}\n",
    "    chrom = None\n",
    "    rcount = 0\n",
    "    for record in vcf_reader:\n",
    "        #print record\n",
    "        rcount += 1\n",
    "        if chrom != record.CHROM:\n",
    "            print >>sys.stderr, \"...reading chrom %s\" %(record.CHROM)\n",
    "            snpChromDict.setdefault(record.CHROM, {})\n",
    "            snpChromDictUnphased.setdefault(record.CHROM, {})\n",
    "        if rcount % 1000 == 0:\n",
    "            print >>sys.stderr, \"...read %s vars\" %(rcount)\n",
    "        if record.CHROM != \"000000F\":\n",
    "            print >>sys.stderr, \"...exiting out of function early after first contig\"\n",
    "            return snpChromDict, snpChromDictUnphased\n",
    "        chrom, ref, alt, pos = record.CHROM, record.REF, record.ALT, record.POS\n",
    "\n",
    "        gt_sample = record.genotype(sample_id)['GT']\n",
    "        if gt_sample != None:\n",
    "            if \"|\" in gt_sample:\n",
    "                mat_gt, pat_gt = map(int, gt_sample.split(\"|\"))\n",
    "                if mat_gt == pat_gt:\n",
    "                    continue\n",
    "                snpChromDict[chrom][int(pos)] = (mat_gt, pat_gt)\n",
    "            if \"/\" in gt_sample:\n",
    "                mat_gt, pat_gt = map(int, gt_sample.split(\"/\"))\n",
    "                if mat_gt == pat_gt:\n",
    "                    continue\n",
    "                snpChromDictUnphased[chrom][int(pos)] = (mat_gt, pat_gt)\n",
    "    return snpChromDict, snpChromDictUnphased"
   ]
  },
  {
   "cell_type": "code",
   "execution_count": 6,
   "metadata": {
    "collapsed": true
   },
   "outputs": [],
   "source": [
    "def parseHapCutOut (hapcutoutfn):\n",
    "    with open (hapcutoutfn) as f:\n",
    "        f.readline()\n",
    "        block = []\n",
    "        for l in f:\n",
    "            if l[0] == \"B\":\n",
    "                yield block\n",
    "                block = []\n",
    "            else:\n",
    "                ll = l.split(\"\\t\")\n",
    "                if len(ll) > 5:\n",
    "                    hap1, hap2, chrom, pos = ll[1:5]\n",
    "                    hap1, hap2, pos = int(hap1), int(hap2), int(pos)\n",
    "                    block.append((hap1, hap2, chrom, pos))\n",
    "                \n",
    "        yield block"
   ]
  },
  {
   "cell_type": "code",
   "execution_count": 7,
   "metadata": {
    "collapsed": true
   },
   "outputs": [],
   "source": [
    "def calculateSwitchError (switch_list):\n",
    "    switches = 0\n",
    "    if len(switch_list) == 0:\n",
    "        return switches, 0\n",
    "    curr_s = switch_list[0]\n",
    "    for s in switch_list[1:]:\n",
    "        if s != curr_s:\n",
    "            switches += 1\n",
    "        curr_s = s\n",
    "    if len(switch_list) == 1:\n",
    "        return 0, 0\n",
    "    else:\n",
    "        return switches, switches/(float(len(switch_list))-1)"
   ]
  },
  {
   "cell_type": "code",
   "execution_count": 8,
   "metadata": {
    "collapsed": true
   },
   "outputs": [],
   "source": [
    "def measureBlockConcordance (block, snpDict, snpDictUnphased={}):\n",
    "    pcount = 0\n",
    "    mcount = 0\n",
    "    missing_from_trio = 0\n",
    "    missing_from_file = 0\n",
    "    missing_other = 0\n",
    "    switch_list = []\n",
    "    for var in block:\n",
    "        pos = var[3]\n",
    "        if pos in snpDict:\n",
    "            if snpDict[pos][0] == var[0]:\n",
    "                mcount += 1\n",
    "                switch_list.append(0)\n",
    "            elif snpDict[pos][1] == var[0]:\n",
    "                pcount += 1\n",
    "                switch_list.append(1)\n",
    "            else:\n",
    "                missing_other += 1\n",
    "        elif pos in snpDictUnphased:\n",
    "            missing_from_trio += 1\n",
    "        else:\n",
    "            missing_from_file += 1\n",
    "    if missing_from_trio + missing_from_file == len(block):\n",
    "        return 0, max(pcount, mcount), missing_from_trio, missing_from_file, missing_other, switch_list\n",
    "    else:\n",
    "        denom = (len(block)-missing_from_trio-missing_from_file)\n",
    "        return float(max(pcount, mcount))/denom, max(pcount, mcount), missing_from_trio, missing_from_file, missing_other, switch_list\n"
   ]
  },
  {
   "cell_type": "code",
   "execution_count": 9,
   "metadata": {
    "collapsed": true
   },
   "outputs": [],
   "source": [
    "def calculateX50 ( rawvals ):\n",
    "    vals = deepcopy(rawvals)\n",
    "    vals.sort(reverse=True)\n",
    "    vsum = sum(vals)\n",
    "    currsum = 0\n",
    "    for v in vals:\n",
    "        currsum += v\n",
    "        if currsum >= .5*vsum:\n",
    "            return v"
   ]
  },
  {
   "cell_type": "code",
   "execution_count": 22,
   "metadata": {
    "collapsed": true
   },
   "outputs": [],
   "source": [
    "def getVCF(vcffn):\n",
    "    print >>sys.stderr, \"opening vcf file %s\" %(vcffn)\n",
    "    vcf_reader = vcf.Reader(filename=vcffn)\n",
    "    print >>sys.stderr, \"reading vcf file . . .\"\n",
    "    snpChromDict, snpChromDictUnphased = readVcfToDict (vcf_reader)\n",
    "    print >>sys.stderr, \"finished reading vcf file\"\n",
    "    return snpChromDict, snpChromDictUnphased"
   ]
  },
  {
   "cell_type": "code",
   "execution_count": 23,
   "metadata": {
    "collapsed": true
   },
   "outputs": [],
   "source": [
    "def phaseLocalRegions (snpChromDict, snpChromDictUnphased, hapcutfn):    \n",
    "    blocklens = []\n",
    "    blockspans = []\n",
    "    triomissings = []\n",
    "    filemissings = []\n",
    "    concordances = []\n",
    "    concounts = []\n",
    "    switch_counts = []\n",
    "    switch_errors = []\n",
    "    othermissings = []\n",
    "    print >>sys.stderr, \"reading hapcut blocks: \"\n",
    "    bcount = 0\n",
    "    for block in parseHapCutOut(hapcutfn):\n",
    "        bcount += 1\n",
    "        if bcount % 10000 == 0:\n",
    "            print >>sys.stderr, \". . . read %i blocks\" %(bcount)\n",
    "        positions = map(lambda x: x[3], block)\n",
    "        span = max(positions)-min(positions)\n",
    "        blocklens.append(len(positions))\n",
    "        blockspans.append(span)\n",
    "        chrom = block[0][2]\n",
    "        concordance, concount, triomissing, filemissing, othermissing, switch_list = \\\n",
    "            measureBlockConcordance ( block, snpChromDict[chrom], snpChromDictUnphased[chrom])\n",
    "        switches, switch_error = calculateSwitchError (switch_list)\n",
    "        switch_counts.append(switches)\n",
    "        switch_errors.append(switch_error)\n",
    "        triomissings.append(triomissing)\n",
    "        concordances.append(concordance)\n",
    "        filemissings.append(filemissing)\n",
    "        othermissings.append(othermissing)\n",
    "        concounts.append(concount)\n",
    "    denomsum = sum(blocklens) -  sum(filemissings) - sum(triomissings)\n",
    "    conrate = sum(concounts)/float(denomsum)\n",
    "    switchrate = float(sum(switch_counts))/denomsum\n",
    "    print \"switches              : %i\" %(sum(switch_counts))\n",
    "    print \"concordant snps       : %i\" %(sum(concounts))\n",
    "    print \"total snps in blocks  : %i\" %(sum(blocklens))\n",
    "    print \"missing from trio snps: %i\" %(sum(triomissings))\n",
    "    print \"missing from file snps: %i\" %(sum(filemissings))\n",
    "    print \"other missing     snps: %i\" %(sum(othermissings))\n",
    "    print \"denominator snps      : %i\" %(denomsum)\n",
    "    print \"haplotype accuracy    : %f\" %(conrate)\n",
    "    print \"switch error rate     : %f\" %(switchrate)\n",
    "    \n",
    "    print \"S50: %i\" %(calculateX50 ( blocklens ))\n",
    "    print \"N50: %i\" %(calculateX50 ( blockspans ))\n"
   ]
  },
  {
   "cell_type": "code",
   "execution_count": 25,
   "metadata": {
    "collapsed": false
   },
   "outputs": [],
   "source": [
    "vcf_fn = \"/dev/shm/aj_trio_phasebytrans.phased-trio.vcf\"\n",
    "hapcut_fn1 = \"/Users/alibashir/sshfs/jason_new/hapcut_outputs/hg002_re_000000F/long_short_reads/hg002_hapcut_longshort_regen_000000F.hapcut\"\n",
    "hapcut_fn2 = \"/Users/alibashir/sshfs/jason_new/hapcut_outputs/hg002_re_000000F/long_short_reads/hg002_hapcut_longshort_000000F.hapcut\"\n",
    "hapcut_fn3 = \"/Users/alibashir/sshfs/jason_new/hapcut_outputs/hg002_re_000000F/hg002_hapcut_000000F.hapcut\"\n",
    "hapcut_fn4 = \"/Users/alibashir/sshfs/jason_new/hapcut_outputs/hg002_re_000000F/hg002_more_hapcut.000000F.hapcut\"\n",
    "hapcut_fn5 = \"/hpc/users/neffr01/jason_new/hapcut_outputs/hg002_re_000000F/fake_hairs/hg002_methyl_snps_longread.hapcut\""
   ]
  },
  {
   "cell_type": "code",
   "execution_count": 27,
   "metadata": {
    "collapsed": false,
    "scrolled": true
   },
   "outputs": [
    {
     "name": "stdout",
     "output_type": "stream",
     "text": [
      "switches              : 1207\n",
      "concordant snps       : 5137\n",
      "total snps in blocks  : 90818\n",
      "missing from trio snps: 11443\n",
      "missing from file snps: 71237\n",
      "other missing     snps: 0\n",
      "denominator snps      : 8138\n",
      "haplotype accuracy    : 0.631236\n",
      "switch error rate     : 0.148317\n",
      "S50: 1989\n",
      "N50: 608155\n"
     ]
    },
    {
     "name": "stderr",
     "output_type": "stream",
     "text": [
      "reading hapcut blocks: \n"
     ]
    }
   ],
   "source": [
    "#snpChromDict, snpChromDictUnphased = getVCF(vcf_fn)\n",
    "phaseLocalRegions (snpChromDict, snpChromDictUnphased, hapcut_fn5)"
   ]
  },
  {
   "cell_type": "code",
   "execution_count": 68,
   "metadata": {
    "collapsed": false,
    "scrolled": false
   },
   "outputs": [
    {
     "name": "stderr",
     "output_type": "stream",
     "text": [
      "opening vcf file /Users/alibashir/sshfs/jason_new/trio_analysis/aj_trio_phasebytrans.phased-trio.vcf\n",
      "reading vcf file . . .\n",
      "...reading chrom 000000F\n",
      "...read 100000 vars\n",
      "...reading chrom 000001F\n",
      "...exiting out of function early after first contig\n",
      "finished reading vcf file\n",
      "reading hapcut blocks: \n",
      "opening vcf file /Users/alibashir/sshfs/jason_new/trio_analysis/aj_trio_phasebytrans.phased-trio.vcf\n",
      "reading vcf file . . .\n",
      "...reading chrom 000000F\n",
      "...read 100000 vars\n",
      "...reading chrom 000001F"
     ]
    },
    {
     "name": "stdout",
     "output_type": "stream",
     "text": [
      "switches              : 3294\n",
      "concordant snps       : 6384\n",
      "total snps in blocks  : 73369\n",
      "missing from trio snps: 14845\n",
      "missing from file snps: 46911\n",
      "other missing     snps: 0\n",
      "denominator snps      : 11613\n",
      "haplotype accuracy    : 0.549729\n",
      "switch error rate     : 0.283648\n",
      "S50: 58877\n",
      "N50: 27040168\n",
      "switches              : 4262"
     ]
    },
    {
     "name": "stderr",
     "output_type": "stream",
     "text": [
      "\n",
      "...exiting out of function early after first contig\n",
      "finished reading vcf file\n",
      "reading hapcut blocks: \n",
      "opening vcf file /Users/alibashir/sshfs/jason_new/trio_analysis/aj_trio_phasebytrans.phased-trio.vcf\n",
      "reading vcf file . . .\n",
      "...reading chrom 000000F\n",
      "...read 100000 vars\n",
      "...reading chrom 000001F"
     ]
    },
    {
     "name": "stdout",
     "output_type": "stream",
     "text": [
      "\n",
      "concordant snps       : 11697\n",
      "total snps in blocks  : 51861\n",
      "missing from trio snps: 26575\n",
      "missing from file snps: 7723\n",
      "other missing     snps: 0\n",
      "denominator snps      : 17563\n",
      "haplotype accuracy    : 0.666002\n",
      "switch error rate     : 0.242669\n",
      "S50: 1103\n",
      "N50: 626525\n",
      "switches              : 410"
     ]
    },
    {
     "name": "stderr",
     "output_type": "stream",
     "text": [
      "\n",
      "...exiting out of function early after first contig\n",
      "finished reading vcf file\n",
      "reading hapcut blocks: \n",
      "opening vcf file /Users/alibashir/sshfs/jason_new/trio_analysis/aj_trio_phasebytrans.phased-trio.vcf\n",
      "reading vcf file . . .\n",
      "...reading chrom 000000F\n",
      "...read 100000 vars\n",
      "...reading chrom 000001F"
     ]
    },
    {
     "name": "stdout",
     "output_type": "stream",
     "text": [
      "\n",
      "concordant snps       : 7155\n",
      "total snps in blocks  : 19682\n",
      "missing from trio snps: 11458\n",
      "missing from file snps: 136\n",
      "other missing     snps: 0\n",
      "denominator snps      : 8088\n",
      "haplotype accuracy    : 0.884644\n",
      "switch error rate     : 0.050692\n",
      "S50: 204\n",
      "N50: 220011\n",
      "switches              : 336\n",
      "concordant snps       : 7049\n",
      "total snps in blocks  : 19901\n",
      "missing from trio snps: 11622\n",
      "missing from file snps: 148\n",
      "other missing     snps: 0\n",
      "denominator snps      : 8131\n",
      "haplotype accuracy    : 0.866929\n",
      "switch error rate     : 0.041323\n",
      "S50: 259\n",
      "N50: 287557\n"
     ]
    },
    {
     "name": "stderr",
     "output_type": "stream",
     "text": [
      "\n",
      "...exiting out of function early after first contig\n",
      "finished reading vcf file\n",
      "reading hapcut blocks: \n"
     ]
    }
   ],
   "source": [
    "phaseLocalRegions (vcf_fn, hapcut_fn1)\n",
    "phaseLocalRegions (vcf_fn, hapcut_fn2)\n",
    "phaseLocalRegions (vcf_fn, hapcut_fn3)\n",
    "phaseLocalRegions (vcf_fn, hapcut_fn4)"
   ]
  },
  {
   "cell_type": "code",
   "execution_count": null,
   "metadata": {
    "collapsed": true
   },
   "outputs": [],
   "source": []
  }
 ],
 "metadata": {
  "kernelspec": {
   "display_name": "Python 2",
   "language": "python",
   "name": "python2"
  },
  "language_info": {
   "codemirror_mode": {
    "name": "ipython",
    "version": 2
   },
   "file_extension": ".py",
   "mimetype": "text/x-python",
   "name": "python",
   "nbconvert_exporter": "python",
   "pygments_lexer": "ipython2",
   "version": "2.7.10"
  }
 },
 "nbformat": 4,
 "nbformat_minor": 0
}
