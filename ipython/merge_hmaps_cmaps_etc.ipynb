{
 "cells": [
  {
   "cell_type": "code",
   "execution_count": 3,
   "metadata": {
    "collapsed": true
   },
   "outputs": [],
   "source": [
    "import sys, os"
   ]
  },
  {
   "cell_type": "code",
   "execution_count": 4,
   "metadata": {
    "collapsed": false
   },
   "outputs": [],
   "source": [
    "def xmap_reader (xmap_fn):\n",
    "    qDict = {}\n",
    "    rDict = {}\n",
    "    with open(xmap_fn) as f:\n",
    "        for l in f:\n",
    "            if l[0] != \"#\":\n",
    "                #h XmapEntryID\tQryContigID\tRefContigID\tQryStartPos\tQryEndPos\tRefStartPos\tRefEndPos\tOrientation\tConfidence\tHitEnum\tQryLen\tRefLen\tLabelChannel\tAlignment\n",
    "                #f int        \tint        \tint        \tfloat      \tfloat    \tfloat      \tfloat    \tstring     \tfloat     \tstring \tfloat \tfloat \tint         \tstring   \n",
    "                ll = l.strip().split(\"\\t\")\n",
    "                qry_id, ref_id = ll[1:3]\n",
    "                alignlist = ll[-1][1:-1].split(\")(\")\n",
    "                alignedtups = map(lambda x: tuple(x.split(\",\")), alignlist)\n",
    "                qDict.setdefault(qry_id, {}).setdefault(ref_id, []).append(alignedtups)\n",
    "                rDict.setdefault(ref_id, {}).setdefault(qry_id, []).append(alignedtups)\n",
    "    return qDict, rDict\n",
    "                "
   ]
  },
  {
   "cell_type": "code",
   "execution_count": 5,
   "metadata": {
    "collapsed": true
   },
   "outputs": [],
   "source": [
    "def cmap_reader (qmap_fn, hmap=False):\n",
    "    qMapDict = {}\n",
    "    with open(qmap_fn) as f:\n",
    "        for l in f:\n",
    "            if l[0] != \"#\":\n",
    "                #h CMapId\tContigLength\tNumSites\tSiteID\tLabelChannel\tPosition\tStdDev\tCoverage\tOccurrence\n",
    "                #f int\tfloat\tint\tint\tint\tfloat\tfloat\tfloat\tfloat\n",
    "                ll = l.strip().split(\"\\t\")\n",
    "                qry_id, site_id, position = ll[0], ll[3], ll[5]\n",
    "                if hmap:\n",
    "                    hmap_cols = ll[9:]\n",
    "                    qMapDict.setdefault(qry_id, {})[site_id] = (position, hmap_cols)\n",
    "                else:\n",
    "                    qMapDict.setdefault(qry_id, {})[site_id] = position\n",
    "    return qMapDict"
   ]
  },
  {
   "cell_type": "code",
   "execution_count": 11,
   "metadata": {
    "collapsed": true
   },
   "outputs": [],
   "source": [
    "def merge_maps_into_simple_table(qXDict, qHDict, rDict, out=sys.stdout):\n",
    "    '''\n",
    "    print a list with format:\n",
    "    q_contig_id, q_site_id, q_pos, r_contig_id, r_site_id, r_pos, hap_cols...,\n",
    "    '''\n",
    "    print >>out, '#q_contig_id', 'q_site_id', 'q_pos', 'r_contig_id', 'r_site_id', 'r_pos','HapSite','HapDelta','SitePhaseConf','DeltaPhaseConf','HapSiteScore','HapDeltaScore'\n",
    "    for qry_id in qXDict:\n",
    "        for ref_id in qXDict[qry_id]:\n",
    "            for alignedtups in qXDict[qry_id][ref_id]: \n",
    "                for alignedtup in alignedtups:\n",
    "                    #print alignedtup\n",
    "                    r_site_id, q_site_id = alignedtup\n",
    "                    qpos, hmap_cols = qHDict[qry_id][q_site_id]\n",
    "                    rpos            = rDict[ref_id][r_site_id]\n",
    "                    print >>out, qry_id, q_site_id, qpos, ref_id, r_site_id, rpos, \" \".join(hmap_cols)"
   ]
  },
  {
   "cell_type": "code",
   "execution_count": 1,
   "metadata": {
    "collapsed": false
   },
   "outputs": [
    {
     "name": "stdout",
     "output_type": "stream",
     "text": [
      "/sc/orga/work/neffr01/alex_na24385_phasing/hmap_combine\n"
     ]
    }
   ],
   "source": [
    "%cd /hpc/users/neffr01/2work/alex_na24385_phasing/hmap_combine"
   ]
  },
  {
   "cell_type": "code",
   "execution_count": 7,
   "metadata": {
    "collapsed": false
   },
   "outputs": [],
   "source": [
    "qXDict, rXDict = xmap_reader(\"alex_concat_hmaps_aligned.xmap\")\n",
    "qDict = cmap_reader(\"alex_concat_hmaps_aligned_q.cmap\")\n",
    "rDict = cmap_reader(\"alex_concat_hmaps_aligned_r.cmap\")\n",
    "qHDict = cmap_reader(\"alex_concat_hmaps.hmap\",hmap=True)\n"
   ]
  },
  {
   "cell_type": "code",
   "execution_count": 12,
   "metadata": {
    "collapsed": false
   },
   "outputs": [],
   "source": [
    "fout = open(\"alex_merged_maps.txt\", 'w')\n",
    "merge_maps_into_simple_table(qXDict, qHDict, rDict, fout)\n",
    "fout.close()"
   ]
  }
 ],
 "metadata": {
  "kernelspec": {
   "display_name": "Python 2",
   "language": "python",
   "name": "python2"
  },
  "language_info": {
   "codemirror_mode": {
    "name": "ipython",
    "version": 2
   },
   "file_extension": ".py",
   "mimetype": "text/x-python",
   "name": "python",
   "nbconvert_exporter": "python",
   "pygments_lexer": "ipython2",
   "version": "2.7.10"
  }
 },
 "nbformat": 4,
 "nbformat_minor": 0
}
