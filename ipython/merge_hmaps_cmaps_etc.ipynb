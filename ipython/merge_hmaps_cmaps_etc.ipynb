{
 "cells": [
  {
   "cell_type": "code",
   "execution_count": 1,
   "metadata": {
    "collapsed": true
   },
   "outputs": [],
   "source": [
    "import sys, os\n"
   ]
  },
  {
   "cell_type": "markdown",
   "metadata": {},
   "source": []
  },
  {
   "cell_type": "code",
   "execution_count": 20,
   "metadata": {
    "collapsed": false
   },
   "outputs": [],
   "source": [
    "def xmap_reader (xmap_fn):\n",
    "    qDict = {}\n",
    "    rDict = {}\n",
    "    with open(xmap_fn) as f:\n",
    "        for l in f:\n",
    "            if l[0] != \"#\":\n",
    "                #h XmapEntryID\tQryContigID\tRefContigID\tQryStartPos\tQryEndPos\tRefStartPos\tRefEndPos\tOrientation\tConfidence\tHitEnum\tQryLen\tRefLen\tLabelChannel\tAlignment\n",
    "                #f int        \tint        \tint        \tfloat      \tfloat    \tfloat      \tfloat    \tstring     \tfloat     \tstring \tfloat \tfloat \tint         \tstring   \n",
    "                ll = l.strip().split(\"\\t\")\n",
    "                qry_id, ref_id = ll[1:3]\n",
    "                alignlist = ll[-1][1:-1].split(\")(\")\n",
    "                alignedtups = map(lambda x: tuple(x.split(\",\")), alignlist)\n",
    "                qDict.setdefault(qry_id, {}).setdefault(ref_id, []).append(alignedtups)\n",
    "                rDict.setdefault(ref_id, {}).setdefault(qry_id, []).append(alignedtups)\n",
    "    return qDict, rDict\n",
    "                "
   ]
  },
  {
   "cell_type": "code",
   "execution_count": 21,
   "metadata": {
    "collapsed": true
   },
   "outputs": [],
   "source": [
    "def cmap_reader (qmap_fn, hmap=False):\n",
    "    qMapDict = {}\n",
    "    with open(qmap_fn) as f:\n",
    "        for l in f:\n",
    "            if l[0] != \"#\":\n",
    "                #h CMapId\tContigLength\tNumSites\tSiteID\tLabelChannel\tPosition\tStdDev\tCoverage\tOccurrence\n",
    "                #f int\tfloat\tint\tint\tint\tfloat\tfloat\tfloat\tfloat\n",
    "                ll = l.strip().split(\"\\t\")\n",
    "                qry_id, site_id, position = ll[0], ll[3], ll[5]\n",
    "                if hmap:\n",
    "                    hmap_cols = ll[9:]\n",
    "                    qMapDict.setdefault(qry_id, {})[site_id] = (position, hmap_cols)\n",
    "                else:\n",
    "                    qMapDict.setdefault(qry_id, {})[site_id] = position\n",
    "    return qMapDict"
   ]
  },
  {
   "cell_type": "code",
   "execution_count": 35,
   "metadata": {
    "collapsed": true
   },
   "outputs": [],
   "source": [
    "def merge_maps_into_simple_table(qXDict, qHDict, rDict, out=sys.stdout):\n",
    "    '''\n",
    "    print a list with format:\n",
    "    q_contig_id, q_site_id, q_pos, r_contig_id, r_site_id, r_pos, hap_cols...,\n",
    "    '''\n",
    "    for qry_id in qXDict:\n",
    "        for ref_id in qXDict[qry_id]:\n",
    "            for alignedtups in qXDict[qry_id][ref_id]: \n",
    "                for alignedtup in alignedtups:\n",
    "                    #print alignedtup\n",
    "                    r_site_id, q_site_id = alignedtup\n",
    "                    qpos, hmap_cols = qHDict[qry_id][q_site_id]\n",
    "                    rpos            = rDict[ref_id][r_site_id]\n",
    "                    print >>out, qry_id, q_site_id, qpos, ref_id, r_site_id, rpos, \" \".join(hmap_cols)"
   ]
  },
  {
   "cell_type": "code",
   "execution_count": 33,
   "metadata": {
    "collapsed": false
   },
   "outputs": [],
   "source": [
    "qXDict, rXDict = xmap_reader(\"hybrid/alex_concat_hmaps_aligned.xmap\")\n",
    "qDict = cmap_reader(\"hybrid/alex_concat_hmaps_aligned_q.cmap\")\n",
    "rDict = cmap_reader(\"hybrid/alex_concat_hmaps_aligned_r.cmap\")\n",
    "qHDict = cmap_reader(\"hybrid/alex_concat_hmaps.hmap\",hmap=True)\n"
   ]
  },
  {
   "cell_type": "code",
   "execution_count": 37,
   "metadata": {
    "collapsed": false
   },
   "outputs": [],
   "source": [
    "fout = open(\"test.txt\", 'w')\n",
    "merge_maps_into_simple_table(qXDict, qHDict, rDict, fout)\n",
    "fout.close()"
   ]
  },
  {
   "cell_type": "code",
   "execution_count": null,
   "metadata": {
    "collapsed": true
   },
   "outputs": [],
   "source": []
  }
 ],
 "metadata": {
  "kernelspec": {
   "display_name": "Python 2",
   "language": "python",
   "name": "python2"
  },
  "language_info": {
   "codemirror_mode": {
    "name": "ipython",
    "version": 2
   },
   "file_extension": ".py",
   "mimetype": "text/x-python",
   "name": "python",
   "nbconvert_exporter": "python",
   "pygments_lexer": "ipython2",
   "version": "2.7.9"
  }
 },
 "nbformat": 4,
 "nbformat_minor": 0
}
