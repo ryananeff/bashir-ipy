{
 "cells": [
  {
   "cell_type": "markdown",
   "metadata": {},
   "source": [
    "##add_phasing_to_read\n",
    "\n",
    "Takes in an aligned bam file and writes Jason's phasing information to the read based on the network graph defintion"
   ]
  },
  {
   "cell_type": "code",
   "execution_count": 1,
   "metadata": {
    "collapsed": true
   },
   "outputs": [],
   "source": [
    "#init\n",
    "%run ipy_setup.py\n",
    "%matplotlib inline"
   ]
  },
  {
   "cell_type": "code",
   "execution_count": 4,
   "metadata": {
    "collapsed": false
   },
   "outputs": [],
   "source": [
    "import pysam\n",
    "aln_bamfile = pysam.AlignmentFile('/hpc/users/neffr01/jason_new/falcon_unzip_jason_071715/3-falcon_unzip/000000F/aln_sorted.bam', 'rb')\n",
    "out_fp = pysam.AlignmentFile('/hpc/users/neffr01/jason_new/falcon_unzip_jason_071715/3-falcon_unzip/000000F/aln_sorted.ann.bam', 'wb', template=aln_bamfile)\n",
    "hap_info = pd.read_csv('/hpc/users/neffr01/jason_new/falcon_unzip_jason_071715/3-falcon_unzip/000000F/phased_reads', sep=' ', header=None)\n",
    "\n",
    "# index hap info file\n",
    "hap_info.set_index(hap_info[5], inplace=True)\n",
    "phased_set = frozenset(hap_info[5])"
   ]
  },
  {
   "cell_type": "code",
   "execution_count": 25,
   "metadata": {
    "collapsed": false
   },
   "outputs": [
    {
     "name": "stdout",
     "output_type": "stream",
     "text": [
      "Read 290800 lines from input."
     ]
    }
   ],
   "source": [
    "count = 0\n",
    "for bamread in aln_bamfile.fetch():\n",
    "    count += 1\n",
    "    if (count % 100) == 0:\n",
    "        sys.stdout.write(\"\\rRead %s lines from input.\" % str(count))\n",
    "        sys.stdout.flush()\n",
    "    if bamread.query_name in phased_set:\n",
    "        readline = hap_info.ix[bamread.query_name]\n",
    "        hapblock = str(readline[1])\n",
    "        haplotype = str(readline[2])\n",
    "        bamread.tags += [(\"ZF\", hapblock + \",\" + haplotype)] # add info\n",
    "        out_fp.write(bamread)\n",
    "    else:\n",
    "        out_fp.write(bamread)\n",
    "\n",
    "out_fp.close()\n",
    "aln_bamfile.close()"
   ]
  }
 ],
 "metadata": {
  "kernelspec": {
   "display_name": "Python 2",
   "language": "python",
   "name": "python2"
  },
  "language_info": {
   "codemirror_mode": {
    "name": "ipython",
    "version": 2
   },
   "file_extension": ".py",
   "mimetype": "text/x-python",
   "name": "python",
   "nbconvert_exporter": "python",
   "pygments_lexer": "ipython2",
   "version": "2.7.10"
  }
 },
 "nbformat": 4,
 "nbformat_minor": 0
}
