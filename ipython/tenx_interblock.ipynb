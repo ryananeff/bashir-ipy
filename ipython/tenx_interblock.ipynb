{
 "cells": [
  {
   "cell_type": "code",
   "execution_count": 3,
   "metadata": {
    "collapsed": true
   },
   "outputs": [],
   "source": [
    "%run ./ipy_setup.py"
   ]
  },
  {
   "cell_type": "code",
   "execution_count": 165,
   "metadata": {
    "collapsed": true
   },
   "outputs": [],
   "source": [
    "def describe(obj):\n",
    "    return obj, type(obj), len(obj)\n",
    "pd.set_option('display.width', 900)\n",
    "pd.set_option('display.max_columns', 100)\n",
    "plt.style.use('ggplot')\n",
    "rcParams['figure.figsize'] = (12, 8)\n",
    "rcParams['figure.dpi'] = 150\n",
    "rcParams['font.size'] = 16\n",
    "rcParams['font.family'] = 'Bitstream Vera Sans'"
   ]
  },
  {
   "cell_type": "markdown",
   "metadata": {},
   "source": [
    "# Barcode parser"
   ]
  },
  {
   "cell_type": "code",
   "execution_count": 6,
   "metadata": {
    "collapsed": true
   },
   "outputs": [],
   "source": [
    "!samtools index /hpc/users/neffr01/jason_new/tenx/NIST_NA24385_possorted_bamout.fixed.sorted.000000F.bam"
   ]
  },
  {
   "cell_type": "code",
   "execution_count": 8,
   "metadata": {
    "collapsed": true
   },
   "outputs": [],
   "source": [
    "tenx_bam = pysam.AlignmentFile(\"/hpc/users/neffr01/jason_new/tenx/NIST_NA24385_possorted_bamout.fixed.sorted.000000F.bam\", 'rb')"
   ]
  },
  {
   "cell_type": "code",
   "execution_count": 15,
   "metadata": {
    "collapsed": false
   },
   "outputs": [
    {
     "name": "stdout",
     "output_type": "stream",
     "text": [
      "('TGCGTACACATCCA', <type 'str'>, 14)\n"
     ]
    }
   ],
   "source": [
    "for read in tenx_bam.fetch():\n",
    "    barcode = read.qname.split(\"_\")[1].split('-')[0]\n",
    "    print describe(barcode)\n",
    "    break"
   ]
  },
  {
   "cell_type": "code",
   "execution_count": 17,
   "metadata": {
    "collapsed": false
   },
   "outputs": [],
   "source": [
    "excelfile = '/hpc/users/neffr01/jason_new/hapcut_outputs/hg002_re_000000F/hapcut_qv13_mq10/hg002.000000F.qv13mq10.redo.merged.iblockstats.tsv'\n",
    "interblock_stats = pd.read_csv(excelfile, sep='\\t')"
   ]
  },
  {
   "cell_type": "code",
   "execution_count": null,
   "metadata": {
    "collapsed": true
   },
   "outputs": [],
   "source": [
    "for block in barcodes:\n",
    "    for code in barcodes[block]:\n",
    "        print code"
   ]
  },
  {
   "cell_type": "code",
   "execution_count": 125,
   "metadata": {
    "collapsed": false
   },
   "outputs": [
    {
     "name": "stdout",
     "output_type": "stream",
     "text": [
      "[*****************83%************      ]  242 of 292 complete Elapsed: 0.2 minutes\t Remaining: 0.0 minutes\n"
     ]
    }
   ],
   "source": [
    "barcodes = dict()\n",
    "spans = zip(interblock_stats['block1_end'], interblock_stats['block2_start'])\n",
    "pbar = ProgressBar(len(spans))\n",
    "count = 1\n",
    "for start, end in spans:\n",
    "    #print start, end, end-start\n",
    "    pbar.animate()\n",
    "    barcodes[count] = dict()\n",
    "    for read in tenx_bam.fetch(region=\"000000F\", start=max(start-10000, 0), end=end+10000):\n",
    "        barcode = read.qname.split(\"_\")[1].split('-')[0]\n",
    "        if barcode in barcodes[count]:\n",
    "            barcodes[count][barcode]['pos'].append(int(read.pos))\n",
    "            barcodes[count][barcode]['count'] += 1\n",
    "        else:\n",
    "            readdict = dict()\n",
    "            readdict['pos'] = [int(read.pos)]\n",
    "            readdict['count'] = 1            \n",
    "            barcodes[count][barcode] = readdict\n",
    "    count += 1"
   ]
  },
  {
   "cell_type": "code",
   "execution_count": 126,
   "metadata": {
    "collapsed": false
   },
   "outputs": [
    {
     "data": {
      "image/png": "[encoded data removed]",
      "text/plain": [
       "<matplotlib.figure.Figure at 0x7fbb32ae9e10>"
      ]
     },
     "metadata": {},
     "output_type": "display_data"
    },
    {
     "name": "stdout",
     "output_type": "stream",
     "text": [
      "99.890612138\n"
     ]
    }
   ],
   "source": [
    "hist = []\n",
    "cutoff=30000\n",
    "for block in barcodes:\n",
    "    for barcode in barcodes[block]:\n",
    "        hist.extend(list(np.diff(barcodes[block][barcode]['pos'])))\n",
    "plt.hist(np.log10(hist), bins=np.linspace(0,5,40))\n",
    "plt.axvline(np.log10(cutoff), 0, 400)\n",
    "plt.show()\n",
    "print (1-len([i for i in hist if i >= cutoff])/float(len(hist)))*100"
   ]
  },
  {
   "cell_type": "code",
   "execution_count": 65,
   "metadata": {
    "collapsed": false
   },
   "outputs": [
    {
     "data": {
      "image/png": "[encoded data removed]",
      "text/plain": [
       "<matplotlib.figure.Figure at 0x7fbb36a4f6d0>"
      ]
     },
     "metadata": {},
     "output_type": "display_data"
    }
   ],
   "source": [
    "plt.hist([val['count'] for ix, val in barcodes[7].iteritems()], bins=range(0,140,2), log=True)\n",
    "plt.show()"
   ]
  },
  {
   "cell_type": "code",
   "execution_count": 71,
   "metadata": {
    "collapsed": false
   },
   "outputs": [
    {
     "data": {
      "image/png": "[encoded data removed]",
      "text/plain": [
       "<matplotlib.figure.Figure at 0x7fbb37d52a90>"
      ]
     },
     "metadata": {},
     "output_type": "display_data"
    }
   ],
   "source": [
    "positions = barcodes[7]['AACGCTAGTATCGA']['pos']\n",
    "plt.hist(positions, bins=range(min(positions), max(positions), 600))\n",
    "plt.show()"
   ]
  },
  {
   "cell_type": "code",
   "execution_count": 128,
   "metadata": {
    "collapsed": false
   },
   "outputs": [],
   "source": [
    "for block in barcodes:\n",
    "    for barcode in barcodes[block]:\n",
    "        if barcodes[block][barcode] <= 10:\n",
    "            continue # too few barcodes\n",
    "        positions = barcodes[block][barcode]['pos']\n",
    "        ranges = []\n",
    "        startrange = positions[0]\n",
    "        lastrange = positions[0]\n",
    "        for ix,i in enumerate(positions[1:]):\n",
    "            if startrange == None:\n",
    "                startrange = i\n",
    "                lastrange=i\n",
    "                continue\n",
    "            if i - lastrange > 30000:\n",
    "                ranges.append((startrange, lastrange))\n",
    "                startrange = None\n",
    "            lastrange = i\n",
    "        ranges.append((startrange, lastrange))\n",
    "        barcodes[block][barcode]['ranges'] = ranges"
   ]
  },
  {
   "cell_type": "code",
   "execution_count": 167,
   "metadata": {
    "collapsed": false
   },
   "outputs": [],
   "source": [
    "count = 1\n",
    "support_array = []\n",
    "for start, end in spans:\n",
    "    array = []\n",
    "    support = 0\n",
    "    for ix, val in barcodes[count].iteritems():\n",
    "        array.append([val['count'], ix, val['ranges']])\n",
    "    for cnt, barcode, ranges in array:\n",
    "        if len([item for sublist in ranges for item in sublist]) > 2:\n",
    "            for i in range(0,len(ranges)):\n",
    "                if (ranges[i][0] <= start) & (ranges[i][1] >= end):\n",
    "                    support += 1\n",
    "        if len(ranges) > 0:\n",
    "            if (ranges[0][0] <= start) & (ranges[0][1] >= end):\n",
    "                support += 1\n",
    "    support_array.append([count, start, end, end-start, support])\n",
    "    count += 1"
   ]
  },
  {
   "cell_type": "code",
   "execution_count": 171,
   "metadata": {
    "collapsed": false
   },
   "outputs": [
    {
     "data": {
      "image/png": "[encoded data removed]",
      "text/plain": [
       "<matplotlib.figure.Figure at 0x7fbb32ae9f50>"
      ]
     },
     "metadata": {},
     "output_type": "display_data"
    }
   ],
   "source": [
    "plt.scatter([i[3] for i in support_array], [i[4] for i in support_array])\n",
    "plt.axhline(0,250000,0)\n",
    "plt.xlim([0,250000])\n",
    "plt.ylabel(\"Number of shared barcodes that can link blocks\")\n",
    "plt.xlabel('Length of interblock range')\n",
    "plt.show()"
   ]
  },
  {
   "cell_type": "code",
   "execution_count": 330,
   "metadata": {
    "collapsed": false
   },
   "outputs": [],
   "source": [
    "def hamming_dist(str1, str2):\n",
    "    difference = 0\n",
    "    supp = 0\n",
    "    for x,y in zip(str1, str2):\n",
    "        if x != y:\n",
    "            difference += 1\n",
    "        if x == y:\n",
    "            supp += 1\n",
    "    return difference, supp\n",
    "\n",
    "def get_refmap(bamread):\n",
    "    bpos = bamread.get_aligned_pairs(matches_only=True)\n",
    "    positions = [i[0] for i in bpos]\n",
    "    refpos =  [i[1] for i in bpos] # positions in reference\n",
    "    refmap = dict(zip(refpos, positions))\n",
    "    return refmap\n",
    "\n",
    "def get_matched_bases_in_read(bamread, in_pos, refmap):\n",
    "    outseq = [bamread.seq[refmap[i]] if i in refmap else 'N' for i in in_pos]\n",
    "    outseq = ''.join(outseq)\n",
    "    outqual = [bamread.qual[refmap[i]] if i in refmap else 'N' for i in in_pos]\n",
    "    outqual = ''.join(outqual)\n",
    "    return outseq, outqual\n",
    "\n",
    "def get_bases_between_two_ref_positions(bamread, pos1, pos2, refmap):\n",
    "    outseq, outqual = '', ''\n",
    "    refpos1, refpos2 = None, None\n",
    "    positions = []\n",
    "    for i in range(pos1,pos2+1):\n",
    "        if (i not in refmap) and (refpos1 == None):\n",
    "            outseq += 'N'\n",
    "            outqual += '!'\n",
    "            continue\n",
    "        elif refpos1 == None:\n",
    "            refpos1 = refmap[i]\n",
    "        if i in refmap:\n",
    "            refpos2 = refmap[i]\n",
    "    try:\n",
    "        outseq += ''.join([bamread.seq[i] for i in range(refpos1,refpos2)])\n",
    "        outqual += ''.join([bamread.qual[i] for i in range(refpos1,refpos2)])\n",
    "    except:\n",
    "        pass\n",
    "    return outseq, outqual\n",
    "\n",
    "def reverse_compl(seq):\n",
    "    translate = {'A':'T', \n",
    "                 'T':'A', \n",
    "                 'C':'G',\n",
    "                 'G':'C'}\n",
    "    return ''.join([translate[s] for s in seq])"
   ]
  },
  {
   "cell_type": "code",
   "execution_count": 205,
   "metadata": {
    "collapsed": false
   },
   "outputs": [
    {
     "data": {
      "text/plain": [
       "[0, 1, 1, 0, 0, 0, 0, 0, 0]"
      ]
     },
     "execution_count": 205,
     "metadata": {},
     "output_type": "execute_result"
    }
   ],
   "source": [
    "a = [1,2,2,3,3,3,4,4,4]\n",
    "atruth = [1 if i==2 else 0 for i in a]"
   ]
  },
  {
   "cell_type": "code",
   "execution_count": null,
   "metadata": {
    "collapsed": false,
    "scrolled": false
   },
   "outputs": [],
   "source": [
    "# Okay, now let's link SNPs together on a  networkx multi-di-graph\n",
    "import networkx as nx\n",
    "from collections import defaultdict\n",
    "from scipy.stats import mode\n",
    "\n",
    "tenx_bam = pysam.AlignmentFile(\"/hpc/users/neffr01/jason_new/tenx/NIST_NA24385_possorted_bamout.fixed.sorted.000000F.bam\", 'rb')\n",
    "vcffile = ht.VCF_Reader(\"/hpc/users/neffr01/jason_new/hapcut_outputs/hg002_re_000000F/hg002_short_reads_rg-rmdup_000000F.freebayes.vcf\")\n",
    "vcffile.parse_meta()\n",
    "vcffile.make_info_dict()\n",
    "snpDict = dict()\n",
    "barcodegraph = nx.Graph()\n",
    "lastreads = dict()\n",
    "count = 0\n",
    "pbar = ProgressBar(115000)\n",
    "for var in vcffile:\n",
    "    pbar.animate()\n",
    "    vargeno = var.samples['hg002']['GT']\n",
    "    if vargeno == '1/1' or vargeno == '0/0':\n",
    "        continue\n",
    "    varlen = len(var.ref)\n",
    "    if varlen > 1:\n",
    "        continue # TODO - this is complicated\n",
    "    count += 1\n",
    "    #print var, var.pos.pos, var.ref, var.alt, varlen, var.samples['unknown']['GT']\n",
    "    if var.chrom != \"000000F\":\n",
    "        break # we're done\n",
    "    # lets add the node to the graph\n",
    "    barcodegraph.add_node(var.chrom + \":\" + str(var.pos.pos) + \"_0\", attr_dict={'description':str(var)})\n",
    "    for i in range(0, len(var.alt)):\n",
    "        i += 1\n",
    "        barcodegraph.add_node(var.chrom + \":\" + str(var.pos.pos) + \"_\" + str(i), attr_dict={'description':str(var)})\n",
    "    barcodeset = defaultdict(list)\n",
    "    for read in tenx_bam.fetch(region=\"000000F\", start=var.pos.pos, end=var.pos.pos+len(var.ref)):\n",
    "        barcode = read.qname.split(\"_\")[1].split('-')[0]\n",
    "        refmap = get_refmap(read)\n",
    "        outseq, outqual = get_matched_bases_in_read(read, range(var.pos.pos-1, var.pos.pos+varlen-1), refmap)\n",
    "        if (outseq == ''):\n",
    "            continue\n",
    "        if (outseq[0] == 'N'):\n",
    "            continue\n",
    "        r, r_supp = hamming_dist(outseq, var.ref)\n",
    "        a_diff = [hamming_dist(outseq, i)[0] for i in var.alt]\n",
    "        a_supp = [hamming_dist(outseq, i)[1] for i in var.alt]\n",
    "        genotype=None\n",
    "        if r<min(a_diff):\n",
    "            genotype=0\n",
    "        elif min(a_diff)<r:\n",
    "            atruth = [1 if i==min(a_diff) else 0 for i in a_diff]\n",
    "            if sum(atruth) > 1:\n",
    "                #print \"WARNING: More than one match for alternate allele, skipping...\"\n",
    "                #print \"read:\", outseq, barcode, read.is_reverse, read.pos\n",
    "                continue\n",
    "            genotype=atruth.index(1)+1\n",
    "        if genotype > 1:\n",
    "            continue\n",
    "        #else:\n",
    "        #    if r_supp > max(a_supp):\n",
    "        #        genotype=0\n",
    "        #    elif max(a_supp) > r_supp:\n",
    "        #        atruth = [1 if i==max(a_supp) else 0 for i in a_supp]\n",
    "        #        if sum(atruth) > 1:\n",
    "        #            #print \"WARNING: More than one match for alternate allele, skipping...\"\n",
    "        #            #print \"read:\", outseq, barcode, read.is_reverse, read.pos\n",
    "        #            continue\n",
    "        #        genotype=atruth.index(1)+1\n",
    "        #    else:\n",
    "        #        #print \"WARNING: No strong match to ref or alt sequence, skipping...\"\n",
    "        #        #print \"read:\", outseq, barcode, read.is_reverse, read.pos\n",
    "        #        continue\n",
    "        #print outseq, outqual, genotype, barcode, read.is_reverse, read.pos\n",
    "        # now lets add the read edges\n",
    "        barcodeset[barcode].append(genotype)\n",
    "        snpDict[str(var)] = barcodeset\n",
    "    for i,val in barcodeset.iteritems():\n",
    "        most_likely_geno = int(mode(val)[0][0])\n",
    "        geno_support = int(mode(val)[1][0])\n",
    "        nodename = var.chrom + \":\" + str(var.pos.pos) + \"_\" + str(most_likely_geno)\n",
    "        if i in lastreads:\n",
    "            num_edges = geno_support + lastreads[i][1]\n",
    "            a = lastreads[i][0]\n",
    "            b  = nodename\n",
    "            if int(b.split(\":\")[1].split(\"_\")[0]) < int(a.split(\":\")[1].split(\"_\")[0]) + 1000000:\n",
    "                if (a,b) in barcodegraph.edges():\n",
    "                    weight = barcodegraph.edge[a][b]['weight'] + num_edges\n",
    "                    barcodegraph.add_edge(a,b,weight=weight)\n",
    "                else:\n",
    "                    barcodegraph.add_edge(a,b,weight=num_edges)\n",
    "        lastreads[i] = (nodename, geno_support)\n",
    "    #break\n",
    "    #print barcodeset\n",
    "    #if count > 1000:\n",
    "    #    break"
   ]
  },
  {
   "cell_type": "code",
   "execution_count": 334,
   "metadata": {
    "collapsed": false
   },
   "outputs": [
    {
     "name": "stdout",
     "output_type": "stream",
     "text": [
      "\n"
     ]
    }
   ],
   "source": [
    "nx.write_gexf(barcodegraph, \"/hpc/users/neffr01/barcodegraph_tenx_snps_indels_000000F_30k.gexf\")"
   ]
  },
  {
   "cell_type": "code",
   "execution_count": 339,
   "metadata": {
    "collapsed": false
   },
   "outputs": [
    {
     "data": {
      "text/plain": [
       "{'000000F:4411090_1': {'weight': 2},\n",
       " '000000F:4413303_1': {'weight': 3},\n",
       " '000000F:4415276_0': {'weight': 2},\n",
       " '000000F:4415354_1': {'weight': 10}}"
      ]
     },
     "execution_count": 339,
     "metadata": {},
     "output_type": "execute_result"
    }
   ],
   "source": [
    "barcodegraph.edge['000000F:4415338_1']"
   ]
  },
  {
   "cell_type": "markdown",
   "metadata": {},
   "source": [
    "# Interblock definitions"
   ]
  },
  {
   "cell_type": "code",
   "execution_count": 2,
   "metadata": {
    "collapsed": false,
    "scrolled": true
   },
   "outputs": [],
   "source": [
    "excelfile = '/hpc/users/neffr01/jason_new/hapcut_outputs/hg002_re_000000F/hapcut_with_indels/hg002_000000F.indels.interblock_stats.tsv'\n",
    "interblock_stats = pd.read_csv(excelfile, sep='\\t')"
   ]
  },
  {
   "cell_type": "code",
   "execution_count": 3,
   "metadata": {
    "collapsed": false
   },
   "outputs": [],
   "source": [
    "def n50(arr):\n",
    "    calcarr = [list(np.ones(x).astype(int)*x) for x in arr]\n",
    "    calcarr = [item for sublist in calcarr for item in sublist]\n",
    "    return np.median(calcarr)"
   ]
  }
 ],
 "metadata": {
  "kernelspec": {
   "display_name": "Python 2",
   "language": "python",
   "name": "python2"
  },
  "language_info": {
   "codemirror_mode": {
    "name": "ipython",
    "version": 2
   },
   "file_extension": ".py",
   "mimetype": "text/x-python",
   "name": "python",
   "nbconvert_exporter": "python",
   "pygments_lexer": "ipython2",
   "version": "2.7.10"
  }
 },
 "nbformat": 4,
 "nbformat_minor": 0
}
