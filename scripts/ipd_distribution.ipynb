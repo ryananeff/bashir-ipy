{
 "cells": [
  {
   "cell_type": "code",
   "execution_count": 1,
   "metadata": {
    "collapsed": false
   },
   "outputs": [],
   "source": [
    "%run ../ipython/ipy_setup.py\n",
    "%matplotlib inline\n",
    "import pysam"
   ]
  },
  {
   "cell_type": "code",
   "execution_count": 2,
   "metadata": {
    "collapsed": true
   },
   "outputs": [],
   "source": [
    "basedir = '/sc/orga/scratch/bashia02/collaborations/hardik_shah/jason_new/hapcut_outputs/hg002_re_000000F/'\n",
    "bam_fp = pysam.Samfile(basedir + 'hg002_000000F.new.merged.bam', 'rb')"
   ]
  },
  {
   "cell_type": "code",
   "execution_count": null,
   "metadata": {
    "collapsed": false
   },
   "outputs": [],
   "source": [
    "# get methylation by column (slow)\n",
    "\n",
    "motif_ipd_values = dict()\n",
    "\n",
    "pbar = ProgressBar(33500000)\n",
    "count =0\n",
    "for i in bam_fp.pileup():\n",
    "    pbar.animate()\n",
    "    for read in i.pileups:\n",
    "        qpos = read.query_position\n",
    "        if (qpos < 4 )|(qpos > read.alignment.query_length - 4) :\n",
    "            continue # cannot determine full motif\n",
    "        motif = read.alignment.query_sequence[qpos-3:qpos+4]\n",
    "        ipd_value = int(read.alignment.get_tag('ip').split(',', qpos+1)[qpos].strip('S'))\n",
    "        if motif in motif_ipd_values:\n",
    "            motif_ipd_values[motif].append(ipd_value)\n",
    "        else:\n",
    "            motif_ipd_values[motif] = [ipd_value]"
   ]
  },
  {
   "cell_type": "code",
   "execution_count": 3,
   "metadata": {
    "collapsed": false
   },
   "outputs": [
    {
     "name": "stdout",
     "output_type": "stream",
     "text": [
      "[********         21%                  ]  92867 of 450000 complete Elapsed: 64.4 minutes\t Remaining: 247.7 minutes"
     ]
    },
    {
     "ename": "KeyboardInterrupt",
     "evalue": "",
     "output_type": "error",
     "traceback": [
      "\u001b[1;31m---------------------------------------------------------------------------\u001b[0m",
      "\u001b[1;31mKeyboardInterrupt\u001b[0m                         Traceback (most recent call last)",
      "\u001b[1;32m<ipython-input-3-0a24856bfe7f>\u001b[0m in \u001b[0;36m<module>\u001b[1;34m()\u001b[0m\n\u001b[0;32m      8\u001b[0m \u001b[1;32mfor\u001b[0m \u001b[0mread\u001b[0m \u001b[1;32min\u001b[0m \u001b[0mbam_fp\u001b[0m\u001b[1;33m.\u001b[0m\u001b[0mfetch\u001b[0m\u001b[1;33m(\u001b[0m\u001b[1;33m)\u001b[0m\u001b[1;33m:\u001b[0m\u001b[1;33m\u001b[0m\u001b[0m\n\u001b[0;32m      9\u001b[0m     \u001b[0mpbar\u001b[0m\u001b[1;33m.\u001b[0m\u001b[0manimate\u001b[0m\u001b[1;33m(\u001b[0m\u001b[1;33m)\u001b[0m\u001b[1;33m\u001b[0m\u001b[0m\n\u001b[1;32m---> 10\u001b[1;33m     \u001b[0mipd_values\u001b[0m \u001b[1;33m=\u001b[0m \u001b[1;33m[\u001b[0m\u001b[0mint\u001b[0m\u001b[1;33m(\u001b[0m\u001b[0mi\u001b[0m\u001b[1;33m)\u001b[0m \u001b[1;32mfor\u001b[0m \u001b[0mi\u001b[0m \u001b[1;32min\u001b[0m \u001b[0mread\u001b[0m\u001b[1;33m.\u001b[0m\u001b[0mget_tag\u001b[0m\u001b[1;33m(\u001b[0m\u001b[1;34m'ip'\u001b[0m\u001b[1;33m)\u001b[0m\u001b[1;33m.\u001b[0m\u001b[0mstrip\u001b[0m\u001b[1;33m(\u001b[0m\u001b[1;34m'S'\u001b[0m\u001b[1;33m)\u001b[0m\u001b[1;33m.\u001b[0m\u001b[0msplit\u001b[0m\u001b[1;33m(\u001b[0m\u001b[1;34m','\u001b[0m\u001b[1;33m)\u001b[0m\u001b[1;33m]\u001b[0m\u001b[1;33m\u001b[0m\u001b[0m\n\u001b[0m\u001b[0;32m     11\u001b[0m     \u001b[0mqlength\u001b[0m \u001b[1;33m=\u001b[0m \u001b[0mread\u001b[0m\u001b[1;33m.\u001b[0m\u001b[0mquery_length\u001b[0m\u001b[1;33m\u001b[0m\u001b[0m\n\u001b[0;32m     12\u001b[0m     \u001b[0msequence\u001b[0m \u001b[1;33m=\u001b[0m \u001b[0mread\u001b[0m\u001b[1;33m.\u001b[0m\u001b[0mquery_sequence\u001b[0m\u001b[1;33m\u001b[0m\u001b[0m\n",
      "\u001b[1;31mKeyboardInterrupt\u001b[0m: "
     ]
    }
   ],
   "source": [
    "# get methylation by read (hopefully faster)\n",
    "basedir = '/sc/orga/scratch/bashia02/collaborations/hardik_shah/jason_new/hapcut_outputs/hg002_re_000000F/'\n",
    "bam_fp = pysam.Samfile(basedir + 'hg002_000000F.new.merged.bam', 'rb')\n",
    "motif_ipd_values_read = dict()\n",
    "\n",
    "pbar = ProgressBar(450000)\n",
    "count=0\n",
    "for read in bam_fp.fetch():\n",
    "    pbar.animate()\n",
    "    ipd_values = [int(i) for i in read.get_tag('ip').strip('S').split(',')]\n",
    "    qlength = read.query_length\n",
    "    sequence = read.query_sequence\n",
    "    for basepos in range(6,qlength-6):\n",
    "        motif = sequence[basepos-5:basepos+6]\n",
    "        ipd_value = ipd_values[basepos+1] # the important IPD value is AFTER the base in question.\n",
    "        if motif in motif_ipd_values_read:\n",
    "            motif_ipd_values_read[motif].append(ipd_value)\n",
    "        else:\n",
    "            motif_ipd_values_read[motif] = [ipd_value]"
   ]
  },
  {
   "cell_type": "code",
   "execution_count": 4,
   "metadata": {
    "collapsed": false
   },
   "outputs": [
    {
     "data": {
      "text/plain": [
       "4194265"
      ]
     },
     "execution_count": 4,
     "metadata": {},
     "output_type": "execute_result"
    },
    {
     "name": "stdout",
     "output_type": "stream",
     "text": [
      "\n"
     ]
    }
   ],
   "source": [
    "len(motif_ipd_values_read)"
   ]
  },
  {
   "cell_type": "code",
   "execution_count": 11,
   "metadata": {
    "collapsed": false
   },
   "outputs": [],
   "source": [
    "import pickle\n",
    "with open('/hpc/users/neffr01/2work/methyl_motif_priors/hg002_92k-reads.pickle2', 'w') as fp:\n",
    "    pickle.dump(motif_ipd_values_read, fp, 2)"
   ]
  },
  {
   "cell_type": "code",
   "execution_count": 8,
   "metadata": {
    "collapsed": false
   },
   "outputs": [
    {
     "data": {
      "image/png": "[encoded data removed]",
      "text/plain": [
       "<matplotlib.figure.Figure at 0x7fc37cf58f90>"
      ]
     },
     "metadata": {},
     "output_type": "display_data"
    }
   ],
   "source": [
    "pd.set_option('display.width', 900)\n",
    "pd.set_option('display.max_columns', 100)\n",
    "plt.style.use('ggplot')\n",
    "rcParams['figure.figsize'] = (20, 12)\n",
    "rcParams['figure.dpi'] = 150\n",
    "rcParams['font.size'] = 16\n",
    "rcParams['font.family'] = 'Bitstream Vera Sans'\n",
    "plt.hist(motif_ipd_values_read['TATATATATAT'], bins=np.logspace(0.1,3,70))\n",
    "plt.xscale('log')\n",
    "plt.show()"
   ]
  },
  {
   "cell_type": "code",
   "execution_count": null,
   "metadata": {
    "collapsed": false
   },
   "outputs": [],
   "source": [
    "import cProfile\n",
    "import re\n",
    "cProfile.run('test_it(bam_fp)', sort=1)"
   ]
  }
 ],
 "metadata": {
  "kernelspec": {
   "display_name": "Python 2",
   "language": "python",
   "name": "python2"
  },
  "language_info": {
   "codemirror_mode": {
    "name": "ipython",
    "version": 2
   },
   "file_extension": ".py",
   "mimetype": "text/x-python",
   "name": "python",
   "nbconvert_exporter": "python",
   "pygments_lexer": "ipython2",
   "version": "2.7.10"
  }
 },
 "nbformat": 4,
 "nbformat_minor": 0
}
